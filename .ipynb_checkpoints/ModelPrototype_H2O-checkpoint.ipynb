{
 "cells": [
  {
   "cell_type": "code",
   "execution_count": 1,
   "metadata": {
    "ExecuteTime": {
     "end_time": "2017-02-08T07:43:23.491069",
     "start_time": "2017-02-08T07:43:23.485469"
    },
    "collapsed": false
   },
   "outputs": [],
   "source": [
    "import h2o\n",
    "import pandas as pd\n",
    "from h2o.estimators.gbm import H2OGradientBoostingEstimator as gbm\n",
    "from h2o.grid.grid_search import H2OGridSearch\n",
    "from sklearn.model_selection import train_test_split as tts\n",
    "from sklearn.metrics import log_loss\n",
    "import shutil\n",
    "import os"
   ]
  },
  {
   "cell_type": "code",
   "execution_count": 2,
   "metadata": {
    "ExecuteTime": {
     "end_time": "2017-02-08T07:05:21.063318",
     "start_time": "2017-02-08T07:05:21.052528"
    },
    "collapsed": false,
    "scrolled": false
   },
   "outputs": [
    {
     "name": "stdout",
     "output_type": "stream",
     "text": [
      "Checking whether there is an H2O instance running at http://localhost:54321..... not found.\n",
      "Attempting to start a local H2O server...\n",
      "  Java Version: java version \"1.8.0_73\"; Java(TM) SE Runtime Environment (build 1.8.0_73-b02); Java HotSpot(TM) 64-Bit Server VM (build 25.73-b02, mixed mode)\n",
      "  Starting server from /Users/hamelhusain/anaconda/envs/drpy3/lib/python3.5/site-packages/h2o/backend/bin/h2o.jar\n",
      "  Ice root: /var/folders/0w/p50zlf7n6mbbxfprr0ycxr9c0000gn/T/tmpxsowm7dn\n",
      "  JVM stdout: /var/folders/0w/p50zlf7n6mbbxfprr0ycxr9c0000gn/T/tmpxsowm7dn/h2o_hamelhusain_started_from_python.out\n",
      "  JVM stderr: /var/folders/0w/p50zlf7n6mbbxfprr0ycxr9c0000gn/T/tmpxsowm7dn/h2o_hamelhusain_started_from_python.err\n",
      "  Server is running at http://127.0.0.1:54321\n",
      "Connecting to H2O server at http://127.0.0.1:54321... successful.\n"
     ]
    },
    {
     "data": {
      "text/html": [
       "<div style=\"overflow:auto\"><table style=\"width:50%\"><tr><td>H2O cluster uptime:</td>\n",
       "<td>03 secs</td></tr>\n",
       "<tr><td>H2O cluster version:</td>\n",
       "<td>3.10.1.2</td></tr>\n",
       "<tr><td>H2O cluster version age:</td>\n",
       "<td>2 months and 5 days </td></tr>\n",
       "<tr><td>H2O cluster name:</td>\n",
       "<td>H2O_from_python_hamelhusain_kfg0vi</td></tr>\n",
       "<tr><td>H2O cluster total nodes:</td>\n",
       "<td>1</td></tr>\n",
       "<tr><td>H2O cluster free memory:</td>\n",
       "<td>3.556 Gb</td></tr>\n",
       "<tr><td>H2O cluster total cores:</td>\n",
       "<td>8</td></tr>\n",
       "<tr><td>H2O cluster allowed cores:</td>\n",
       "<td>8</td></tr>\n",
       "<tr><td>H2O cluster status:</td>\n",
       "<td>accepting new members, healthy</td></tr>\n",
       "<tr><td>H2O connection url:</td>\n",
       "<td>http://127.0.0.1:54321</td></tr>\n",
       "<tr><td>H2O connection proxy:</td>\n",
       "<td>None</td></tr>\n",
       "<tr><td>Python version:</td>\n",
       "<td>3.5.2 final</td></tr></table></div>"
      ],
      "text/plain": [
       "--------------------------  ----------------------------------\n",
       "H2O cluster uptime:         03 secs\n",
       "H2O cluster version:        3.10.1.2\n",
       "H2O cluster version age:    2 months and 5 days\n",
       "H2O cluster name:           H2O_from_python_hamelhusain_kfg0vi\n",
       "H2O cluster total nodes:    1\n",
       "H2O cluster free memory:    3.556 Gb\n",
       "H2O cluster total cores:    8\n",
       "H2O cluster allowed cores:  8\n",
       "H2O cluster status:         accepting new members, healthy\n",
       "H2O connection url:         http://127.0.0.1:54321\n",
       "H2O connection proxy:\n",
       "Python version:             3.5.2 final\n",
       "--------------------------  ----------------------------------"
      ]
     },
     "metadata": {},
     "output_type": "display_data"
    }
   ],
   "source": [
    "h2o.init()"
   ]
  },
  {
   "cell_type": "markdown",
   "metadata": {},
   "source": [
    "## Read in Data"
   ]
  },
  {
   "cell_type": "code",
   "execution_count": 3,
   "metadata": {
    "ExecuteTime": {
     "end_time": "2017-02-08T07:05:21.982383",
     "start_time": "2017-02-08T07:05:21.203392"
    },
    "collapsed": false
   },
   "outputs": [],
   "source": [
    "df = pd.read_csv('/Users/hamelhusain/Dropbox/zidisha/Regression_Dataset_20170125.csv')\n",
    "text_fields =  ['about_me_field', 'about_business_field', 'proposal_field']\n",
    "id_fields = ['borrower_id', 'category_id', 'id']\n",
    "non_text_cols = [c for c in df.columns if c not in text_fields]\n",
    "features = [c for c in non_text_cols if c not in id_fields]"
   ]
  },
  {
   "cell_type": "markdown",
   "metadata": {},
   "source": [
    "## Upload Data To H2O"
   ]
  },
  {
   "cell_type": "code",
   "execution_count": 4,
   "metadata": {
    "ExecuteTime": {
     "end_time": "2017-02-08T07:40:21.146933",
     "start_time": "2017-02-08T07:40:19.843274"
    },
    "collapsed": false
   },
   "outputs": [
    {
     "name": "stdout",
     "output_type": "stream",
     "text": [
      "Parse progress: |█████████████████████████████████████████████████████████| 100%\n"
     ]
    }
   ],
   "source": [
    "col_types = ['int','real', 'int','int', 'int','int','int','int',\n",
    "             'enum','int','int','int', 'int','int','enum','int','int',\n",
    "             'int','int', 'int','real','real','enum','enum','enum',\n",
    "             'enum', 'real', 'real','real', 'real']\n",
    "\n",
    "HF = h2o.H2OFrame()\n",
    "HDF = HF.from_python(df[non_text_cols], \n",
    "                     column_types = col_types)\n",
    "\n",
    "hgbm = gbm(nfolds=5, distribution='bernoulli')\n",
    "hyper_params = {'max_depth': [20], 'min_rows': [20, 40], 'ntrees':[30]}\n",
    "grid = H2OGridSearch(hgbm, hyper_params, grid_id='zidisha')"
   ]
  },
  {
   "cell_type": "markdown",
   "metadata": {},
   "source": [
    "## Split Train & Test"
   ]
  },
  {
   "cell_type": "code",
   "execution_count": 5,
   "metadata": {
    "ExecuteTime": {
     "end_time": "2017-02-08T07:40:30.224385",
     "start_time": "2017-02-08T07:40:30.042825"
    },
    "collapsed": false
   },
   "outputs": [
    {
     "name": "stdout",
     "output_type": "stream",
     "text": [
      "test set shape: (6247, 30)\n",
      "train set shape: (24893, 30)\n"
     ]
    }
   ],
   "source": [
    "test, train = HDF.split_frame([.2])\n",
    "print('test set shape:', test.shape)\n",
    "print('train set shape:', train.shape)"
   ]
  },
  {
   "cell_type": "markdown",
   "metadata": {},
   "source": [
    "## Train Model And Evaluate Results"
   ]
  },
  {
   "cell_type": "code",
   "execution_count": 6,
   "metadata": {
    "ExecuteTime": {
     "end_time": "2017-02-08T07:41:59.083958",
     "start_time": "2017-02-08T07:40:33.110088"
    },
    "collapsed": false
   },
   "outputs": [
    {
     "name": "stdout",
     "output_type": "stream",
     "text": [
      "gbm Grid Build progress: |████████████████████████████████████████████████| 100%\n"
     ]
    }
   ],
   "source": [
    "grid.train(x=features, y='default_flag', training_frame=train)"
   ]
  },
  {
   "cell_type": "code",
   "execution_count": 7,
   "metadata": {
    "ExecuteTime": {
     "end_time": "2017-02-08T07:42:01.534317",
     "start_time": "2017-02-08T07:42:01.301705"
    },
    "collapsed": false,
    "scrolled": false
   },
   "outputs": [
    {
     "data": {
      "text/html": [
       "<div>\n",
       "<table border=\"1\" class=\"dataframe\">\n",
       "  <thead>\n",
       "    <tr style=\"text-align: right;\">\n",
       "      <th></th>\n",
       "      <th></th>\n",
       "      <th>max_depth</th>\n",
       "      <th>min_rows</th>\n",
       "      <th>ntrees</th>\n",
       "      <th>model_ids</th>\n",
       "      <th>logloss</th>\n",
       "    </tr>\n",
       "  </thead>\n",
       "  <tbody>\n",
       "    <tr>\n",
       "      <th>0</th>\n",
       "      <td></td>\n",
       "      <td>20</td>\n",
       "      <td>40.0</td>\n",
       "      <td>30</td>\n",
       "      <td>zidisha_model_1</td>\n",
       "      <td>0.553947865784791</td>\n",
       "    </tr>\n",
       "    <tr>\n",
       "      <th>1</th>\n",
       "      <td></td>\n",
       "      <td>20</td>\n",
       "      <td>20.0</td>\n",
       "      <td>30</td>\n",
       "      <td>zidisha_model_0</td>\n",
       "      <td>0.5547375716155066</td>\n",
       "    </tr>\n",
       "  </tbody>\n",
       "</table>\n",
       "</div>"
      ],
      "text/plain": [
       "    max_depth min_rows ntrees        model_ids             logloss\n",
       "0          20     40.0     30  zidisha_model_1   0.553947865784791\n",
       "1          20     20.0     30  zidisha_model_0  0.5547375716155066"
      ]
     },
     "execution_count": 7,
     "metadata": {},
     "output_type": "execute_result"
    }
   ],
   "source": [
    "grid_results = grid.get_grid(sort_by='logloss', decreasing=False)\n",
    "grid_results.sorted_metric_table()"
   ]
  },
  {
   "cell_type": "code",
   "execution_count": 8,
   "metadata": {
    "ExecuteTime": {
     "end_time": "2017-02-08T07:42:05.567006",
     "start_time": "2017-02-08T07:42:05.504679"
    },
    "collapsed": false,
    "scrolled": false
   },
   "outputs": [
    {
     "name": "stdout",
     "output_type": "stream",
     "text": [
      "Model Details\n",
      "=============\n",
      "H2OGradientBoostingEstimator :  Gradient Boosting Machine\n",
      "Model Key:  zidisha_model_1\n",
      "\n",
      "\n",
      "ModelMetricsBinomial: gbm\n",
      "** Reported on train data. **\n",
      "\n",
      "MSE: 0.13914889070672892\n",
      "RMSE: 0.373026662192837\n",
      "LogLoss: 0.44069725766940404\n",
      "Mean Per-Class Error: 0.18632800575551256\n",
      "AUC: 0.903860201529126\n",
      "Gini: 0.8077204030582521\n",
      "Confusion Matrix (Act/Pred) for max f1 @ threshold = 0.3771473810442348: \n"
     ]
    },
    {
     "data": {
      "text/html": [
       "<div style=\"overflow:auto\"><table style=\"width:50%\"><tr><td><b></b></td>\n",
       "<td><b>0</b></td>\n",
       "<td><b>1</b></td>\n",
       "<td><b>Error</b></td>\n",
       "<td><b>Rate</b></td></tr>\n",
       "<tr><td>0</td>\n",
       "<td>10278.0</td>\n",
       "<td>3308.0</td>\n",
       "<td>0.2435</td>\n",
       "<td> (3308.0/13586.0)</td></tr>\n",
       "<tr><td>1</td>\n",
       "<td>1579.0</td>\n",
       "<td>9728.0</td>\n",
       "<td>0.1396</td>\n",
       "<td> (1579.0/11307.0)</td></tr>\n",
       "<tr><td>Total</td>\n",
       "<td>11857.0</td>\n",
       "<td>13036.0</td>\n",
       "<td>0.1963</td>\n",
       "<td> (4887.0/24893.0)</td></tr></table></div>"
      ],
      "text/plain": [
       "       0      1      Error    Rate\n",
       "-----  -----  -----  -------  ----------------\n",
       "0      10278  3308   0.2435   (3308.0/13586.0)\n",
       "1      1579   9728   0.1396   (1579.0/11307.0)\n",
       "Total  11857  13036  0.1963   (4887.0/24893.0)"
      ]
     },
     "metadata": {},
     "output_type": "display_data"
    },
    {
     "name": "stdout",
     "output_type": "stream",
     "text": [
      "Maximum Metrics: Maximum metrics at their respective thresholds\n",
      "\n"
     ]
    },
    {
     "data": {
      "text/html": [
       "<div style=\"overflow:auto\"><table style=\"width:50%\"><tr><td><b>metric</b></td>\n",
       "<td><b>threshold</b></td>\n",
       "<td><b>value</b></td>\n",
       "<td><b>idx</b></td></tr>\n",
       "<tr><td>max f1</td>\n",
       "<td>0.3771474</td>\n",
       "<td>0.7992441</td>\n",
       "<td>241.0</td></tr>\n",
       "<tr><td>max f2</td>\n",
       "<td>0.2939534</td>\n",
       "<td>0.8702096</td>\n",
       "<td>286.0</td></tr>\n",
       "<tr><td>max f0point5</td>\n",
       "<td>0.5638592</td>\n",
       "<td>0.8231700</td>\n",
       "<td>161.0</td></tr>\n",
       "<tr><td>max accuracy</td>\n",
       "<td>0.4420354</td>\n",
       "<td>0.8155706</td>\n",
       "<td>211.0</td></tr>\n",
       "<tr><td>max precision</td>\n",
       "<td>0.9662436</td>\n",
       "<td>1.0</td>\n",
       "<td>0.0</td></tr>\n",
       "<tr><td>max recall</td>\n",
       "<td>0.1474196</td>\n",
       "<td>1.0</td>\n",
       "<td>364.0</td></tr>\n",
       "<tr><td>max specificity</td>\n",
       "<td>0.9662436</td>\n",
       "<td>1.0</td>\n",
       "<td>0.0</td></tr>\n",
       "<tr><td>max absolute_mcc</td>\n",
       "<td>0.4420354</td>\n",
       "<td>0.6271595</td>\n",
       "<td>211.0</td></tr>\n",
       "<tr><td>max min_per_class_accuracy</td>\n",
       "<td>0.4139015</td>\n",
       "<td>0.8122402</td>\n",
       "<td>224.0</td></tr>\n",
       "<tr><td>max mean_per_class_accuracy</td>\n",
       "<td>0.4139015</td>\n",
       "<td>0.8136720</td>\n",
       "<td>224.0</td></tr></table></div>"
      ],
      "text/plain": [
       "metric                       threshold    value     idx\n",
       "---------------------------  -----------  --------  -----\n",
       "max f1                       0.377147     0.799244  241\n",
       "max f2                       0.293953     0.87021   286\n",
       "max f0point5                 0.563859     0.82317   161\n",
       "max accuracy                 0.442035     0.815571  211\n",
       "max precision                0.966244     1         0\n",
       "max recall                   0.14742      1         364\n",
       "max specificity              0.966244     1         0\n",
       "max absolute_mcc             0.442035     0.62716   211\n",
       "max min_per_class_accuracy   0.413901     0.81224   224\n",
       "max mean_per_class_accuracy  0.413901     0.813672  224"
      ]
     },
     "metadata": {},
     "output_type": "display_data"
    },
    {
     "name": "stdout",
     "output_type": "stream",
     "text": [
      "Gains/Lift Table: Avg response rate: 45.42 %\n",
      "\n"
     ]
    },
    {
     "data": {
      "text/html": [
       "<div style=\"overflow:auto\"><table style=\"width:50%\"><tr><td><b></b></td>\n",
       "<td><b>group</b></td>\n",
       "<td><b>cumulative_data_fraction</b></td>\n",
       "<td><b>lower_threshold</b></td>\n",
       "<td><b>lift</b></td>\n",
       "<td><b>cumulative_lift</b></td>\n",
       "<td><b>response_rate</b></td>\n",
       "<td><b>cumulative_response_rate</b></td>\n",
       "<td><b>capture_rate</b></td>\n",
       "<td><b>cumulative_capture_rate</b></td>\n",
       "<td><b>gain</b></td>\n",
       "<td><b>cumulative_gain</b></td></tr>\n",
       "<tr><td></td>\n",
       "<td>1</td>\n",
       "<td>0.0100028</td>\n",
       "<td>0.9532753</td>\n",
       "<td>2.2015566</td>\n",
       "<td>2.2015566</td>\n",
       "<td>1.0</td>\n",
       "<td>1.0</td>\n",
       "<td>0.0220218</td>\n",
       "<td>0.0220218</td>\n",
       "<td>120.1556558</td>\n",
       "<td>120.1556558</td></tr>\n",
       "<tr><td></td>\n",
       "<td>2</td>\n",
       "<td>0.0200056</td>\n",
       "<td>0.9459811</td>\n",
       "<td>2.2015566</td>\n",
       "<td>2.2015566</td>\n",
       "<td>1.0</td>\n",
       "<td>1.0</td>\n",
       "<td>0.0220218</td>\n",
       "<td>0.0440435</td>\n",
       "<td>120.1556558</td>\n",
       "<td>120.1556558</td></tr>\n",
       "<tr><td></td>\n",
       "<td>3</td>\n",
       "<td>0.0300084</td>\n",
       "<td>0.9378321</td>\n",
       "<td>2.2015566</td>\n",
       "<td>2.2015566</td>\n",
       "<td>1.0</td>\n",
       "<td>1.0</td>\n",
       "<td>0.0220218</td>\n",
       "<td>0.0660653</td>\n",
       "<td>120.1556558</td>\n",
       "<td>120.1556558</td></tr>\n",
       "<tr><td></td>\n",
       "<td>4</td>\n",
       "<td>0.0400112</td>\n",
       "<td>0.9256089</td>\n",
       "<td>2.2015566</td>\n",
       "<td>2.2015566</td>\n",
       "<td>1.0</td>\n",
       "<td>1.0</td>\n",
       "<td>0.0220218</td>\n",
       "<td>0.0880870</td>\n",
       "<td>120.1556558</td>\n",
       "<td>120.1556558</td></tr>\n",
       "<tr><td></td>\n",
       "<td>5</td>\n",
       "<td>0.0500141</td>\n",
       "<td>0.9126764</td>\n",
       "<td>2.2015566</td>\n",
       "<td>2.2015566</td>\n",
       "<td>1.0</td>\n",
       "<td>1.0</td>\n",
       "<td>0.0220218</td>\n",
       "<td>0.1101088</td>\n",
       "<td>120.1556558</td>\n",
       "<td>120.1556558</td></tr>\n",
       "<tr><td></td>\n",
       "<td>6</td>\n",
       "<td>0.1000281</td>\n",
       "<td>0.8430395</td>\n",
       "<td>2.1838734</td>\n",
       "<td>2.1927150</td>\n",
       "<td>0.9919679</td>\n",
       "<td>0.9959839</td>\n",
       "<td>0.1092244</td>\n",
       "<td>0.2193332</td>\n",
       "<td>118.3873373</td>\n",
       "<td>119.2714965</td></tr>\n",
       "<tr><td></td>\n",
       "<td>7</td>\n",
       "<td>0.1500020</td>\n",
       "<td>0.7794020</td>\n",
       "<td>2.1148393</td>\n",
       "<td>2.1667703</td>\n",
       "<td>0.9606109</td>\n",
       "<td>0.9841993</td>\n",
       "<td>0.1056867</td>\n",
       "<td>0.3250199</td>\n",
       "<td>111.4839298</td>\n",
       "<td>116.6770313</td></tr>\n",
       "<tr><td></td>\n",
       "<td>8</td>\n",
       "<td>0.2000161</td>\n",
       "<td>0.7127034</td>\n",
       "<td>1.9946633</td>\n",
       "<td>2.1237349</td>\n",
       "<td>0.9060241</td>\n",
       "<td>0.9646515</td>\n",
       "<td>0.0997612</td>\n",
       "<td>0.4247811</td>\n",
       "<td>99.4663291</td>\n",
       "<td>112.3734916</td></tr>\n",
       "<tr><td></td>\n",
       "<td>9</td>\n",
       "<td>0.3000040</td>\n",
       "<td>0.5746752</td>\n",
       "<td>1.7460316</td>\n",
       "<td>1.9978507</td>\n",
       "<td>0.7930896</td>\n",
       "<td>0.9074719</td>\n",
       "<td>0.1745821</td>\n",
       "<td>0.5993632</td>\n",
       "<td>74.6031597</td>\n",
       "<td>99.7850669</td></tr>\n",
       "<tr><td></td>\n",
       "<td>10</td>\n",
       "<td>0.3999920</td>\n",
       "<td>0.4728686</td>\n",
       "<td>1.3533072</td>\n",
       "<td>1.8367310</td>\n",
       "<td>0.6147047</td>\n",
       "<td>0.8342874</td>\n",
       "<td>0.1353144</td>\n",
       "<td>0.7346776</td>\n",
       "<td>35.3307165</td>\n",
       "<td>83.6730976</td></tr>\n",
       "<tr><td></td>\n",
       "<td>11</td>\n",
       "<td>0.5000201</td>\n",
       "<td>0.3916752</td>\n",
       "<td>1.0450762</td>\n",
       "<td>1.6783619</td>\n",
       "<td>0.4746988</td>\n",
       "<td>0.7623524</td>\n",
       "<td>0.1045370</td>\n",
       "<td>0.8392146</td>\n",
       "<td>4.5076246</td>\n",
       "<td>67.8361869</td></tr>\n",
       "<tr><td></td>\n",
       "<td>12</td>\n",
       "<td>0.6000080</td>\n",
       "<td>0.3325211</td>\n",
       "<td>0.7686431</td>\n",
       "<td>1.5267624</td>\n",
       "<td>0.3491362</td>\n",
       "<td>0.6934922</td>\n",
       "<td>0.0768550</td>\n",
       "<td>0.9160697</td>\n",
       "<td>-23.1356911</td>\n",
       "<td>52.6762375</td></tr>\n",
       "<tr><td></td>\n",
       "<td>13</td>\n",
       "<td>0.6999960</td>\n",
       "<td>0.2828328</td>\n",
       "<td>0.4794069</td>\n",
       "<td>1.3771573</td>\n",
       "<td>0.2177581</td>\n",
       "<td>0.6255380</td>\n",
       "<td>0.0479349</td>\n",
       "<td>0.9640046</td>\n",
       "<td>-52.0593148</td>\n",
       "<td>37.7157330</td></tr>\n",
       "<tr><td></td>\n",
       "<td>14</td>\n",
       "<td>0.7999839</td>\n",
       "<td>0.2380148</td>\n",
       "<td>0.2644698</td>\n",
       "<td>1.2380854</td>\n",
       "<td>0.1201286</td>\n",
       "<td>0.5623682</td>\n",
       "<td>0.0264438</td>\n",
       "<td>0.9904484</td>\n",
       "<td>-73.5530168</td>\n",
       "<td>23.8085362</td></tr>\n",
       "<tr><td></td>\n",
       "<td>15</td>\n",
       "<td>0.8999719</td>\n",
       "<td>0.1724776</td>\n",
       "<td>0.0884514</td>\n",
       "<td>1.1103597</td>\n",
       "<td>0.0401768</td>\n",
       "<td>0.5043521</td>\n",
       "<td>0.0088441</td>\n",
       "<td>0.9992925</td>\n",
       "<td>-91.1548551</td>\n",
       "<td>11.0359664</td></tr>\n",
       "<tr><td></td>\n",
       "<td>16</td>\n",
       "<td>1.0</td>\n",
       "<td>0.0447799</td>\n",
       "<td>0.0070733</td>\n",
       "<td>1.0</td>\n",
       "<td>0.0032129</td>\n",
       "<td>0.4542241</td>\n",
       "<td>0.0007075</td>\n",
       "<td>1.0</td>\n",
       "<td>-99.2926726</td>\n",
       "<td>0.0</td></tr></table></div>"
      ],
      "text/plain": [
       "    group    cumulative_data_fraction    lower_threshold    lift        cumulative_lift    response_rate    cumulative_response_rate    capture_rate    cumulative_capture_rate    gain      cumulative_gain\n",
       "--  -------  --------------------------  -----------------  ----------  -----------------  ---------------  --------------------------  --------------  -------------------------  --------  -----------------\n",
       "    1        0.0100028                   0.953275           2.20156     2.20156            1                1                           0.0220218       0.0220218                  120.156   120.156\n",
       "    2        0.0200056                   0.945981           2.20156     2.20156            1                1                           0.0220218       0.0440435                  120.156   120.156\n",
       "    3        0.0300084                   0.937832           2.20156     2.20156            1                1                           0.0220218       0.0660653                  120.156   120.156\n",
       "    4        0.0400112                   0.925609           2.20156     2.20156            1                1                           0.0220218       0.088087                   120.156   120.156\n",
       "    5        0.0500141                   0.912676           2.20156     2.20156            1                1                           0.0220218       0.110109                   120.156   120.156\n",
       "    6        0.100028                    0.843039           2.18387     2.19271            0.991968         0.995984                    0.109224        0.219333                   118.387   119.271\n",
       "    7        0.150002                    0.779402           2.11484     2.16677            0.960611         0.984199                    0.105687        0.32502                    111.484   116.677\n",
       "    8        0.200016                    0.712703           1.99466     2.12373            0.906024         0.964652                    0.0997612       0.424781                   99.4663   112.373\n",
       "    9        0.300004                    0.574675           1.74603     1.99785            0.79309          0.907472                    0.174582        0.599363                   74.6032   99.7851\n",
       "    10       0.399992                    0.472869           1.35331     1.83673            0.614705         0.834287                    0.135314        0.734678                   35.3307   83.6731\n",
       "    11       0.50002                     0.391675           1.04508     1.67836            0.474699         0.762352                    0.104537        0.839215                   4.50762   67.8362\n",
       "    12       0.600008                    0.332521           0.768643    1.52676            0.349136         0.693492                    0.076855        0.91607                    -23.1357  52.6762\n",
       "    13       0.699996                    0.282833           0.479407    1.37716            0.217758         0.625538                    0.0479349       0.964005                   -52.0593  37.7157\n",
       "    14       0.799984                    0.238015           0.26447     1.23809            0.120129         0.562368                    0.0264438       0.990448                   -73.553   23.8085\n",
       "    15       0.899972                    0.172478           0.0884514   1.11036            0.0401768        0.504352                    0.00884408      0.999292                   -91.1549  11.036\n",
       "    16       1                           0.0447799          0.00707327  1                  0.00321285       0.454224                    0.000707526     1                          -99.2927  0"
      ]
     },
     "metadata": {},
     "output_type": "display_data"
    },
    {
     "name": "stdout",
     "output_type": "stream",
     "text": [
      "\n",
      "\n",
      "ModelMetricsBinomial: gbm\n",
      "** Reported on cross-validation data. **\n",
      "\n",
      "MSE: 0.18752206021974627\n",
      "RMSE: 0.4330381740906294\n",
      "LogLoss: 0.553947865784791\n",
      "Mean Per-Class Error: 0.29303055467164674\n",
      "AUC: 0.7782427385496942\n",
      "Gini: 0.5564854770993883\n",
      "Confusion Matrix (Act/Pred) for max f1 @ threshold = 0.3651621405449738: \n"
     ]
    },
    {
     "data": {
      "text/html": [
       "<div style=\"overflow:auto\"><table style=\"width:50%\"><tr><td><b></b></td>\n",
       "<td><b>0</b></td>\n",
       "<td><b>1</b></td>\n",
       "<td><b>Error</b></td>\n",
       "<td><b>Rate</b></td></tr>\n",
       "<tr><td>0</td>\n",
       "<td>8506.0</td>\n",
       "<td>5080.0</td>\n",
       "<td>0.3739</td>\n",
       "<td> (5080.0/13586.0)</td></tr>\n",
       "<tr><td>1</td>\n",
       "<td>2714.0</td>\n",
       "<td>8593.0</td>\n",
       "<td>0.24</td>\n",
       "<td> (2714.0/11307.0)</td></tr>\n",
       "<tr><td>Total</td>\n",
       "<td>11220.0</td>\n",
       "<td>13673.0</td>\n",
       "<td>0.3131</td>\n",
       "<td> (7794.0/24893.0)</td></tr></table></div>"
      ],
      "text/plain": [
       "       0      1      Error    Rate\n",
       "-----  -----  -----  -------  ----------------\n",
       "0      8506   5080   0.3739   (5080.0/13586.0)\n",
       "1      2714   8593   0.24     (2714.0/11307.0)\n",
       "Total  11220  13673  0.3131   (7794.0/24893.0)"
      ]
     },
     "metadata": {},
     "output_type": "display_data"
    },
    {
     "name": "stdout",
     "output_type": "stream",
     "text": [
      "Maximum Metrics: Maximum metrics at their respective thresholds\n",
      "\n"
     ]
    },
    {
     "data": {
      "text/html": [
       "<div style=\"overflow:auto\"><table style=\"width:50%\"><tr><td><b>metric</b></td>\n",
       "<td><b>threshold</b></td>\n",
       "<td><b>value</b></td>\n",
       "<td><b>idx</b></td></tr>\n",
       "<tr><td>max f1</td>\n",
       "<td>0.3651621</td>\n",
       "<td>0.6879904</td>\n",
       "<td>245.0</td></tr>\n",
       "<tr><td>max f2</td>\n",
       "<td>0.1587507</td>\n",
       "<td>0.8128626</td>\n",
       "<td>360.0</td></tr>\n",
       "<tr><td>max f0point5</td>\n",
       "<td>0.5782350</td>\n",
       "<td>0.7082803</td>\n",
       "<td>146.0</td></tr>\n",
       "<tr><td>max accuracy</td>\n",
       "<td>0.5029966</td>\n",
       "<td>0.7166673</td>\n",
       "<td>176.0</td></tr>\n",
       "<tr><td>max precision</td>\n",
       "<td>0.9453697</td>\n",
       "<td>0.9963168</td>\n",
       "<td>9.0</td></tr>\n",
       "<tr><td>max recall</td>\n",
       "<td>0.0536858</td>\n",
       "<td>1.0</td>\n",
       "<td>398.0</td></tr>\n",
       "<tr><td>max specificity</td>\n",
       "<td>0.9648226</td>\n",
       "<td>0.9999264</td>\n",
       "<td>0.0</td></tr>\n",
       "<tr><td>max absolute_mcc</td>\n",
       "<td>0.5782350</td>\n",
       "<td>0.4290140</td>\n",
       "<td>146.0</td></tr>\n",
       "<tr><td>max min_per_class_accuracy</td>\n",
       "<td>0.4057367</td>\n",
       "<td>0.7015310</td>\n",
       "<td>222.0</td></tr>\n",
       "<tr><td>max mean_per_class_accuracy</td>\n",
       "<td>0.4490726</td>\n",
       "<td>0.7069694</td>\n",
       "<td>201.0</td></tr></table></div>"
      ],
      "text/plain": [
       "metric                       threshold    value     idx\n",
       "---------------------------  -----------  --------  -----\n",
       "max f1                       0.365162     0.68799   245\n",
       "max f2                       0.158751     0.812863  360\n",
       "max f0point5                 0.578235     0.70828   146\n",
       "max accuracy                 0.502997     0.716667  176\n",
       "max precision                0.94537      0.996317  9\n",
       "max recall                   0.0536858    1         398\n",
       "max specificity              0.964823     0.999926  0\n",
       "max absolute_mcc             0.578235     0.429014  146\n",
       "max min_per_class_accuracy   0.405737     0.701531  222\n",
       "max mean_per_class_accuracy  0.449073     0.706969  201"
      ]
     },
     "metadata": {},
     "output_type": "display_data"
    },
    {
     "name": "stdout",
     "output_type": "stream",
     "text": [
      "Gains/Lift Table: Avg response rate: 45.42 %\n",
      "\n"
     ]
    },
    {
     "data": {
      "text/html": [
       "<div style=\"overflow:auto\"><table style=\"width:50%\"><tr><td><b></b></td>\n",
       "<td><b>group</b></td>\n",
       "<td><b>cumulative_data_fraction</b></td>\n",
       "<td><b>lower_threshold</b></td>\n",
       "<td><b>lift</b></td>\n",
       "<td><b>cumulative_lift</b></td>\n",
       "<td><b>response_rate</b></td>\n",
       "<td><b>cumulative_response_rate</b></td>\n",
       "<td><b>capture_rate</b></td>\n",
       "<td><b>cumulative_capture_rate</b></td>\n",
       "<td><b>gain</b></td>\n",
       "<td><b>cumulative_gain</b></td></tr>\n",
       "<tr><td></td>\n",
       "<td>1</td>\n",
       "<td>0.0100028</td>\n",
       "<td>0.9541186</td>\n",
       "<td>2.1838734</td>\n",
       "<td>2.1838734</td>\n",
       "<td>0.9919679</td>\n",
       "<td>0.9919679</td>\n",
       "<td>0.0218449</td>\n",
       "<td>0.0218449</td>\n",
       "<td>118.3873373</td>\n",
       "<td>118.3873373</td></tr>\n",
       "<tr><td></td>\n",
       "<td>2</td>\n",
       "<td>0.0200056</td>\n",
       "<td>0.9455674</td>\n",
       "<td>2.2015566</td>\n",
       "<td>2.1927150</td>\n",
       "<td>1.0</td>\n",
       "<td>0.9959839</td>\n",
       "<td>0.0220218</td>\n",
       "<td>0.0438666</td>\n",
       "<td>120.1556558</td>\n",
       "<td>119.2714965</td></tr>\n",
       "<tr><td></td>\n",
       "<td>3</td>\n",
       "<td>0.0300084</td>\n",
       "<td>0.9345159</td>\n",
       "<td>2.1750318</td>\n",
       "<td>2.1868206</td>\n",
       "<td>0.9879518</td>\n",
       "<td>0.9933066</td>\n",
       "<td>0.0217564</td>\n",
       "<td>0.0656231</td>\n",
       "<td>117.5031780</td>\n",
       "<td>118.6820570</td></tr>\n",
       "<tr><td></td>\n",
       "<td>4</td>\n",
       "<td>0.0400112</td>\n",
       "<td>0.9194633</td>\n",
       "<td>2.0866159</td>\n",
       "<td>2.1617694</td>\n",
       "<td>0.9477912</td>\n",
       "<td>0.9819277</td>\n",
       "<td>0.0208720</td>\n",
       "<td>0.0864951</td>\n",
       "<td>108.6615854</td>\n",
       "<td>116.1769391</td></tr>\n",
       "<tr><td></td>\n",
       "<td>5</td>\n",
       "<td>0.0500141</td>\n",
       "<td>0.9059360</td>\n",
       "<td>2.0866159</td>\n",
       "<td>2.1467387</td>\n",
       "<td>0.9477912</td>\n",
       "<td>0.9751004</td>\n",
       "<td>0.0208720</td>\n",
       "<td>0.1073671</td>\n",
       "<td>108.6615854</td>\n",
       "<td>114.6738684</td></tr>\n",
       "<tr><td></td>\n",
       "<td>6</td>\n",
       "<td>0.1000281</td>\n",
       "<td>0.8330300</td>\n",
       "<td>1.9539920</td>\n",
       "<td>2.0503653</td>\n",
       "<td>0.8875502</td>\n",
       "<td>0.9313253</td>\n",
       "<td>0.0977271</td>\n",
       "<td>0.2050942</td>\n",
       "<td>95.3991965</td>\n",
       "<td>105.0365324</td></tr>\n",
       "<tr><td></td>\n",
       "<td>7</td>\n",
       "<td>0.1500020</td>\n",
       "<td>0.7590267</td>\n",
       "<td>1.7945164</td>\n",
       "<td>1.9651280</td>\n",
       "<td>0.8151125</td>\n",
       "<td>0.8926085</td>\n",
       "<td>0.0896790</td>\n",
       "<td>0.2947731</td>\n",
       "<td>79.4516358</td>\n",
       "<td>96.5128015</td></tr>\n",
       "<tr><td></td>\n",
       "<td>8</td>\n",
       "<td>0.2000161</td>\n",
       "<td>0.6896537</td>\n",
       "<td>1.6657560</td>\n",
       "<td>1.8902700</td>\n",
       "<td>0.7566265</td>\n",
       "<td>0.8586061</td>\n",
       "<td>0.0833112</td>\n",
       "<td>0.3780844</td>\n",
       "<td>66.5756046</td>\n",
       "<td>89.0269991</td></tr>\n",
       "<tr><td></td>\n",
       "<td>9</td>\n",
       "<td>0.3000040</td>\n",
       "<td>0.5630829</td>\n",
       "<td>1.3586143</td>\n",
       "<td>1.7130751</td>\n",
       "<td>0.6171153</td>\n",
       "<td>0.7781200</td>\n",
       "<td>0.1358451</td>\n",
       "<td>0.5139294</td>\n",
       "<td>35.8614252</td>\n",
       "<td>71.3075142</td></tr>\n",
       "<tr><td></td>\n",
       "<td>10</td>\n",
       "<td>0.3999920</td>\n",
       "<td>0.4650987</td>\n",
       "<td>1.1109502</td>\n",
       "<td>1.5625590</td>\n",
       "<td>0.5046203</td>\n",
       "<td>0.7097519</td>\n",
       "<td>0.1110816</td>\n",
       "<td>0.6250111</td>\n",
       "<td>11.0950196</td>\n",
       "<td>56.2559023</td></tr>\n",
       "<tr><td></td>\n",
       "<td>11</td>\n",
       "<td>0.5000201</td>\n",
       "<td>0.3928351</td>\n",
       "<td>0.9469346</td>\n",
       "<td>1.4394045</td>\n",
       "<td>0.4301205</td>\n",
       "<td>0.6538122</td>\n",
       "<td>0.0947201</td>\n",
       "<td>0.7197311</td>\n",
       "<td>-5.3065432</td>\n",
       "<td>43.9404456</td></tr>\n",
       "<tr><td></td>\n",
       "<td>12</td>\n",
       "<td>0.6000080</td>\n",
       "<td>0.3381882</td>\n",
       "<td>0.7668741</td>\n",
       "<td>1.3273311</td>\n",
       "<td>0.3483327</td>\n",
       "<td>0.6029057</td>\n",
       "<td>0.0766782</td>\n",
       "<td>0.7964093</td>\n",
       "<td>-23.3125940</td>\n",
       "<td>32.7331066</td></tr>\n",
       "<tr><td></td>\n",
       "<td>13</td>\n",
       "<td>0.6999960</td>\n",
       "<td>0.2916963</td>\n",
       "<td>0.7111496</td>\n",
       "<td>1.2393153</td>\n",
       "<td>0.3230213</td>\n",
       "<td>0.5629268</td>\n",
       "<td>0.0711064</td>\n",
       "<td>0.8675157</td>\n",
       "<td>-28.8850353</td>\n",
       "<td>23.9315253</td></tr>\n",
       "<tr><td></td>\n",
       "<td>14</td>\n",
       "<td>0.7999839</td>\n",
       "<td>0.2491481</td>\n",
       "<td>0.5678583</td>\n",
       "<td>1.1553916</td>\n",
       "<td>0.2579349</td>\n",
       "<td>0.5248067</td>\n",
       "<td>0.0567790</td>\n",
       "<td>0.9242947</td>\n",
       "<td>-43.2141699</td>\n",
       "<td>15.5391563</td></tr>\n",
       "<tr><td></td>\n",
       "<td>15</td>\n",
       "<td>0.8999719</td>\n",
       "<td>0.1890822</td>\n",
       "<td>0.4723307</td>\n",
       "<td>1.0795027</td>\n",
       "<td>0.2145440</td>\n",
       "<td>0.4903361</td>\n",
       "<td>0.0472274</td>\n",
       "<td>0.9715221</td>\n",
       "<td>-52.7669264</td>\n",
       "<td>7.9502691</td></tr>\n",
       "<tr><td></td>\n",
       "<td>16</td>\n",
       "<td>1.0</td>\n",
       "<td>0.0411413</td>\n",
       "<td>0.2846993</td>\n",
       "<td>1.0</td>\n",
       "<td>0.1293173</td>\n",
       "<td>0.4542241</td>\n",
       "<td>0.0284779</td>\n",
       "<td>1.0</td>\n",
       "<td>-71.5300718</td>\n",
       "<td>0.0</td></tr></table></div>"
      ],
      "text/plain": [
       "    group    cumulative_data_fraction    lower_threshold    lift      cumulative_lift    response_rate    cumulative_response_rate    capture_rate    cumulative_capture_rate    gain      cumulative_gain\n",
       "--  -------  --------------------------  -----------------  --------  -----------------  ---------------  --------------------------  --------------  -------------------------  --------  -----------------\n",
       "    1        0.0100028                   0.954119           2.18387   2.18387            0.991968         0.991968                    0.0218449       0.0218449                  118.387   118.387\n",
       "    2        0.0200056                   0.945567           2.20156   2.19271            1                0.995984                    0.0220218       0.0438666                  120.156   119.271\n",
       "    3        0.0300084                   0.934516           2.17503   2.18682            0.987952         0.993307                    0.0217564       0.0656231                  117.503   118.682\n",
       "    4        0.0400112                   0.919463           2.08662   2.16177            0.947791         0.981928                    0.020872        0.0864951                  108.662   116.177\n",
       "    5        0.0500141                   0.905936           2.08662   2.14674            0.947791         0.9751                      0.020872        0.107367                   108.662   114.674\n",
       "    6        0.100028                    0.83303            1.95399   2.05037            0.88755          0.931325                    0.0977271       0.205094                   95.3992   105.037\n",
       "    7        0.150002                    0.759027           1.79452   1.96513            0.815113         0.892608                    0.089679        0.294773                   79.4516   96.5128\n",
       "    8        0.200016                    0.689654           1.66576   1.89027            0.756627         0.858606                    0.0833112       0.378084                   66.5756   89.027\n",
       "    9        0.300004                    0.563083           1.35861   1.71308            0.617115         0.77812                     0.135845        0.513929                   35.8614   71.3075\n",
       "    10       0.399992                    0.465099           1.11095   1.56256            0.50462          0.709752                    0.111082        0.625011                   11.095    56.2559\n",
       "    11       0.50002                     0.392835           0.946935  1.4394             0.43012          0.653812                    0.0947201       0.719731                   -5.30654  43.9404\n",
       "    12       0.600008                    0.338188           0.766874  1.32733            0.348333         0.602906                    0.0766782       0.796409                   -23.3126  32.7331\n",
       "    13       0.699996                    0.291696           0.71115   1.23932            0.323021         0.562927                    0.0711064       0.867516                   -28.885   23.9315\n",
       "    14       0.799984                    0.249148           0.567858  1.15539            0.257935         0.524807                    0.056779        0.924295                   -43.2142  15.5392\n",
       "    15       0.899972                    0.189082           0.472331  1.0795             0.214544         0.490336                    0.0472274       0.971522                   -52.7669  7.95027\n",
       "    16       1                           0.0411413          0.284699  1                  0.129317         0.454224                    0.0284779       1                          -71.5301  0"
      ]
     },
     "metadata": {},
     "output_type": "display_data"
    },
    {
     "name": "stdout",
     "output_type": "stream",
     "text": [
      "\n",
      "Cross-Validation Metrics Summary: \n"
     ]
    },
    {
     "data": {
      "text/html": [
       "<div style=\"overflow:auto\"><table style=\"width:50%\"><tr><td><b></b></td>\n",
       "<td><b>mean</b></td>\n",
       "<td><b>sd</b></td>\n",
       "<td><b>cv_1_valid</b></td>\n",
       "<td><b>cv_2_valid</b></td>\n",
       "<td><b>cv_3_valid</b></td>\n",
       "<td><b>cv_4_valid</b></td>\n",
       "<td><b>cv_5_valid</b></td></tr>\n",
       "<tr><td>accuracy</td>\n",
       "<td>0.6862886</td>\n",
       "<td>0.0111664</td>\n",
       "<td>0.6850863</td>\n",
       "<td>0.7144285</td>\n",
       "<td>0.688902</td>\n",
       "<td>0.6737632</td>\n",
       "<td>0.669263</td></tr>\n",
       "<tr><td>auc</td>\n",
       "<td>0.7783667</td>\n",
       "<td>0.0039741</td>\n",
       "<td>0.7772501</td>\n",
       "<td>0.7887144</td>\n",
       "<td>0.7782713</td>\n",
       "<td>0.7718146</td>\n",
       "<td>0.7757831</td></tr>\n",
       "<tr><td>err</td>\n",
       "<td>0.3137114</td>\n",
       "<td>0.0111664</td>\n",
       "<td>0.3149137</td>\n",
       "<td>0.2855716</td>\n",
       "<td>0.3110980</td>\n",
       "<td>0.3262368</td>\n",
       "<td>0.3307370</td></tr>\n",
       "<tr><td>err_count</td>\n",
       "<td>1561.6</td>\n",
       "<td>54.71307</td>\n",
       "<td>1533.0</td>\n",
       "<td>1429.0</td>\n",
       "<td>1581.0</td>\n",
       "<td>1609.0</td>\n",
       "<td>1656.0</td></tr>\n",
       "<tr><td>f0point5</td>\n",
       "<td>0.6507176</td>\n",
       "<td>0.0132159</td>\n",
       "<td>0.6473733</td>\n",
       "<td>0.6835213</td>\n",
       "<td>0.6565582</td>\n",
       "<td>0.6341055</td>\n",
       "<td>0.6320294</td></tr>\n",
       "<tr><td>f1</td>\n",
       "<td>0.6904634</td>\n",
       "<td>0.0065412</td>\n",
       "<td>0.6855385</td>\n",
       "<td>0.7080694</td>\n",
       "<td>0.6913918</td>\n",
       "<td>0.6839521</td>\n",
       "<td>0.6833652</td></tr>\n",
       "<tr><td>f2</td>\n",
       "<td>0.7358285</td>\n",
       "<td>0.0043982</td>\n",
       "<td>0.7284855</td>\n",
       "<td>0.7344465</td>\n",
       "<td>0.7301287</td>\n",
       "<td>0.7423041</td>\n",
       "<td>0.7437776</td></tr>\n",
       "<tr><td>lift_top_group</td>\n",
       "<td>2.184174</td>\n",
       "<td>0.0197833</td>\n",
       "<td>2.2147408</td>\n",
       "<td>2.1747067</td>\n",
       "<td>2.1764455</td>\n",
       "<td>2.1404703</td>\n",
       "<td>2.2145069</td></tr>\n",
       "<tr><td>logloss</td>\n",
       "<td>0.5539548</td>\n",
       "<td>0.0030647</td>\n",
       "<td>0.5527529</td>\n",
       "<td>0.5469882</td>\n",
       "<td>0.5555840</td>\n",
       "<td>0.5603796</td>\n",
       "<td>0.5540692</td></tr>\n",
       "<tr><td>max_per_class_error</td>\n",
       "<td>0.3828725</td>\n",
       "<td>0.0280366</td>\n",
       "<td>0.3767790</td>\n",
       "<td>0.3185350</td>\n",
       "<td>0.3702221</td>\n",
       "<td>0.4183824</td>\n",
       "<td>0.4304443</td></tr>\n",
       "<tr><td>mcc</td>\n",
       "<td>0.3884863</td>\n",
       "<td>0.0170143</td>\n",
       "<td>0.3835672</td>\n",
       "<td>0.4335043</td>\n",
       "<td>0.3887995</td>\n",
       "<td>0.3719811</td>\n",
       "<td>0.3645794</td></tr>\n",
       "<tr><td>mean_per_class_accuracy</td>\n",
       "<td>0.6934912</td>\n",
       "<td>0.0091519</td>\n",
       "<td>0.6917288</td>\n",
       "<td>0.7173079</td>\n",
       "<td>0.6941181</td>\n",
       "<td>0.6843441</td>\n",
       "<td>0.679957</td></tr>\n",
       "<tr><td>mean_per_class_error</td>\n",
       "<td>0.3065088</td>\n",
       "<td>0.0091519</td>\n",
       "<td>0.3082712</td>\n",
       "<td>0.2826921</td>\n",
       "<td>0.3058819</td>\n",
       "<td>0.3156559</td>\n",
       "<td>0.3200430</td></tr>\n",
       "<tr><td>mse</td>\n",
       "<td>0.1875256</td>\n",
       "<td>0.0013697</td>\n",
       "<td>0.1871697</td>\n",
       "<td>0.1842588</td>\n",
       "<td>0.1882883</td>\n",
       "<td>0.1902381</td>\n",
       "<td>0.1876729</td></tr>\n",
       "<tr><td>precision</td>\n",
       "<td>0.6268238</td>\n",
       "<td>0.0169993</td>\n",
       "<td>0.6242062</td>\n",
       "<td>0.6680802</td>\n",
       "<td>0.6352224</td>\n",
       "<td>0.6047239</td>\n",
       "<td>0.6018862</td></tr>\n",
       "<tr><td>r2</td>\n",
       "<td>0.2434687</td>\n",
       "<td>0.0061593</td>\n",
       "<td>0.2442161</td>\n",
       "<td>0.2581773</td>\n",
       "<td>0.2418641</td>\n",
       "<td>0.2308878</td>\n",
       "<td>0.2421981</td></tr>\n",
       "<tr><td>recall</td>\n",
       "<td>0.7698549</td>\n",
       "<td>0.0110372</td>\n",
       "<td>0.7602366</td>\n",
       "<td>0.7531508</td>\n",
       "<td>0.7584583</td>\n",
       "<td>0.7870705</td>\n",
       "<td>0.7903583</td></tr>\n",
       "<tr><td>rmse</td>\n",
       "<td>0.4330364</td>\n",
       "<td>0.0015831</td>\n",
       "<td>0.4326311</td>\n",
       "<td>0.4292537</td>\n",
       "<td>0.4339220</td>\n",
       "<td>0.4361630</td>\n",
       "<td>0.4332123</td></tr>\n",
       "<tr><td>specificity</td>\n",
       "<td>0.6171275</td>\n",
       "<td>0.0280366</td>\n",
       "<td>0.623221</td>\n",
       "<td>0.681465</td>\n",
       "<td>0.6297780</td>\n",
       "<td>0.5816176</td>\n",
       "<td>0.5695557</td></tr></table></div>"
      ],
      "text/plain": [
       "                         mean      sd          cv_1_valid    cv_2_valid    cv_3_valid    cv_4_valid    cv_5_valid\n",
       "-----------------------  --------  ----------  ------------  ------------  ------------  ------------  ------------\n",
       "accuracy                 0.686289  0.0111664   0.685086      0.714429      0.688902      0.673763      0.669263\n",
       "auc                      0.778367  0.00397412  0.77725       0.788714      0.778271      0.771815      0.775783\n",
       "err                      0.313711  0.0111664   0.314914      0.285572      0.311098      0.326237      0.330737\n",
       "err_count                1561.6    54.7131     1533          1429          1581          1609          1656\n",
       "f0point5                 0.650718  0.0132159   0.647373      0.683521      0.656558      0.634105      0.632029\n",
       "f1                       0.690463  0.00654119  0.685539      0.708069      0.691392      0.683952      0.683365\n",
       "f2                       0.735828  0.00439817  0.728485      0.734447      0.730129      0.742304      0.743778\n",
       "lift_top_group           2.18417   0.0197833   2.21474       2.17471       2.17645       2.14047       2.21451\n",
       "logloss                  0.553955  0.00306468  0.552753      0.546988      0.555584      0.56038       0.554069\n",
       "max_per_class_error      0.382873  0.0280366   0.376779      0.318535      0.370222      0.418382      0.430444\n",
       "mcc                      0.388486  0.0170143   0.383567      0.433504      0.3888        0.371981      0.364579\n",
       "mean_per_class_accuracy  0.693491  0.00915194  0.691729      0.717308      0.694118      0.684344      0.679957\n",
       "mean_per_class_error     0.306509  0.00915194  0.308271      0.282692      0.305882      0.315656      0.320043\n",
       "mse                      0.187526  0.00136968  0.18717       0.184259      0.188288      0.190238      0.187673\n",
       "precision                0.626824  0.0169993   0.624206      0.66808       0.635222      0.604724      0.601886\n",
       "r2                       0.243469  0.00615931  0.244216      0.258177      0.241864      0.230888      0.242198\n",
       "recall                   0.769855  0.0110372   0.760237      0.753151      0.758458      0.787071      0.790358\n",
       "rmse                     0.433036  0.00158315  0.432631      0.429254      0.433922      0.436163      0.433212\n",
       "specificity              0.617128  0.0280366   0.623221      0.681465      0.629778      0.581618      0.569556"
      ]
     },
     "metadata": {},
     "output_type": "display_data"
    },
    {
     "name": "stdout",
     "output_type": "stream",
     "text": [
      "Scoring History: \n"
     ]
    },
    {
     "data": {
      "text/html": [
       "<div style=\"overflow:auto\"><table style=\"width:50%\"><tr><td><b></b></td>\n",
       "<td><b>timestamp</b></td>\n",
       "<td><b>duration</b></td>\n",
       "<td><b>number_of_trees</b></td>\n",
       "<td><b>training_rmse</b></td>\n",
       "<td><b>training_logloss</b></td>\n",
       "<td><b>training_auc</b></td>\n",
       "<td><b>training_lift</b></td>\n",
       "<td><b>training_classification_error</b></td></tr>\n",
       "<tr><td></td>\n",
       "<td>2017-02-19 14:57:30</td>\n",
       "<td> 1 min 19.628 sec</td>\n",
       "<td>0.0</td>\n",
       "<td>0.4979002</td>\n",
       "<td>0.6889504</td>\n",
       "<td>0.5</td>\n",
       "<td>1.0</td>\n",
       "<td>0.5457759</td></tr>\n",
       "<tr><td></td>\n",
       "<td>2017-02-19 14:57:30</td>\n",
       "<td> 1 min 19.711 sec</td>\n",
       "<td>1.0</td>\n",
       "<td>0.4854953</td>\n",
       "<td>0.6643334</td>\n",
       "<td>0.7908059</td>\n",
       "<td>2.2015566</td>\n",
       "<td>0.3142651</td></tr>\n",
       "<tr><td></td>\n",
       "<td>2017-02-19 14:57:30</td>\n",
       "<td> 1 min 19.809 sec</td>\n",
       "<td>2.0</td>\n",
       "<td>0.4745555</td>\n",
       "<td>0.6429957</td>\n",
       "<td>0.8095307</td>\n",
       "<td>2.2015566</td>\n",
       "<td>0.2902422</td></tr>\n",
       "<tr><td></td>\n",
       "<td>2017-02-19 14:57:30</td>\n",
       "<td> 1 min 19.963 sec</td>\n",
       "<td>3.0</td>\n",
       "<td>0.4658240</td>\n",
       "<td>0.6261026</td>\n",
       "<td>0.8157253</td>\n",
       "<td>2.2015566</td>\n",
       "<td>0.2821677</td></tr>\n",
       "<tr><td></td>\n",
       "<td>2017-02-19 14:57:30</td>\n",
       "<td> 1 min 20.149 sec</td>\n",
       "<td>4.0</td>\n",
       "<td>0.4585251</td>\n",
       "<td>0.6119811</td>\n",
       "<td>0.8209610</td>\n",
       "<td>2.2015566</td>\n",
       "<td>0.2842968</td></tr>\n",
       "<tr><td></td>\n",
       "<td>2017-02-19 14:57:31</td>\n",
       "<td> 1 min 20.344 sec</td>\n",
       "<td>5.0</td>\n",
       "<td>0.4533085</td>\n",
       "<td>0.6018191</td>\n",
       "<td>0.8219468</td>\n",
       "<td>2.2015566</td>\n",
       "<td>0.2842968</td></tr>\n",
       "<tr><td></td>\n",
       "<td>2017-02-19 14:57:31</td>\n",
       "<td> 1 min 20.559 sec</td>\n",
       "<td>6.0</td>\n",
       "<td>0.4474190</td>\n",
       "<td>0.5902568</td>\n",
       "<td>0.8253735</td>\n",
       "<td>2.2015566</td>\n",
       "<td>0.2787129</td></tr>\n",
       "<tr><td></td>\n",
       "<td>2017-02-19 14:57:31</td>\n",
       "<td> 1 min 20.814 sec</td>\n",
       "<td>7.0</td>\n",
       "<td>0.4407262</td>\n",
       "<td>0.5771864</td>\n",
       "<td>0.8335020</td>\n",
       "<td>2.2015566</td>\n",
       "<td>0.2669425</td></tr>\n",
       "<tr><td></td>\n",
       "<td>2017-02-19 14:57:31</td>\n",
       "<td> 1 min 21.066 sec</td>\n",
       "<td>8.0</td>\n",
       "<td>0.4371247</td>\n",
       "<td>0.5699273</td>\n",
       "<td>0.8344855</td>\n",
       "<td>2.2015566</td>\n",
       "<td>0.2689913</td></tr>\n",
       "<tr><td></td>\n",
       "<td>2017-02-19 14:57:32</td>\n",
       "<td> 1 min 21.327 sec</td>\n",
       "<td>9.0</td>\n",
       "<td>0.4313119</td>\n",
       "<td>0.5584860</td>\n",
       "<td>0.8422927</td>\n",
       "<td>2.2015566</td>\n",
       "<td>0.2626039</td></tr>\n",
       "<tr><td></td>\n",
       "<td>2017-02-19 14:57:32</td>\n",
       "<td> 1 min 21.603 sec</td>\n",
       "<td>10.0</td>\n",
       "<td>0.4261380</td>\n",
       "<td>0.5482312</td>\n",
       "<td>0.8478539</td>\n",
       "<td>2.2015566</td>\n",
       "<td>0.2580645</td></tr>\n",
       "<tr><td></td>\n",
       "<td>2017-02-19 14:57:32</td>\n",
       "<td> 1 min 21.882 sec</td>\n",
       "<td>11.0</td>\n",
       "<td>0.4227452</td>\n",
       "<td>0.5412822</td>\n",
       "<td>0.8498654</td>\n",
       "<td>2.2015566</td>\n",
       "<td>0.2556944</td></tr>\n",
       "<tr><td></td>\n",
       "<td>2017-02-19 14:57:32</td>\n",
       "<td> 1 min 22.185 sec</td>\n",
       "<td>12.0</td>\n",
       "<td>0.4187637</td>\n",
       "<td>0.5332921</td>\n",
       "<td>0.8537611</td>\n",
       "<td>2.2015566</td>\n",
       "<td>0.2494677</td></tr>\n",
       "<tr><td></td>\n",
       "<td>2017-02-19 14:57:33</td>\n",
       "<td> 1 min 22.496 sec</td>\n",
       "<td>13.0</td>\n",
       "<td>0.4144969</td>\n",
       "<td>0.5246518</td>\n",
       "<td>0.8591520</td>\n",
       "<td>2.2015566</td>\n",
       "<td>0.2422368</td></tr>\n",
       "<tr><td></td>\n",
       "<td>2017-02-19 14:57:33</td>\n",
       "<td> 1 min 22.834 sec</td>\n",
       "<td>14.0</td>\n",
       "<td>0.4098878</td>\n",
       "<td>0.5154694</td>\n",
       "<td>0.8654137</td>\n",
       "<td>2.2015566</td>\n",
       "<td>0.2442855</td></tr>\n",
       "<tr><td></td>\n",
       "<td>2017-02-19 14:57:33</td>\n",
       "<td> 1 min 23.155 sec</td>\n",
       "<td>15.0</td>\n",
       "<td>0.4076216</td>\n",
       "<td>0.5106384</td>\n",
       "<td>0.8665247</td>\n",
       "<td>2.2015566</td>\n",
       "<td>0.2405897</td></tr>\n",
       "<tr><td></td>\n",
       "<td>2017-02-19 14:57:34</td>\n",
       "<td> 1 min 23.510 sec</td>\n",
       "<td>16.0</td>\n",
       "<td>0.4053306</td>\n",
       "<td>0.5057471</td>\n",
       "<td>0.8682157</td>\n",
       "<td>2.2015566</td>\n",
       "<td>0.2412325</td></tr>\n",
       "<tr><td></td>\n",
       "<td>2017-02-19 14:57:35</td>\n",
       "<td> 1 min 24.760 sec</td>\n",
       "<td>30.0</td>\n",
       "<td>0.3730267</td>\n",
       "<td>0.4406973</td>\n",
       "<td>0.9038602</td>\n",
       "<td>2.2015566</td>\n",
       "<td>0.1963203</td></tr></table></div>"
      ],
      "text/plain": [
       "    timestamp            duration          number_of_trees    training_rmse    training_logloss    training_auc    training_lift    training_classification_error\n",
       "--  -------------------  ----------------  -----------------  ---------------  ------------------  --------------  ---------------  -------------------------------\n",
       "    2017-02-19 14:57:30  1 min 19.628 sec  0                  0.4979           0.68895             0.5             1                0.545776\n",
       "    2017-02-19 14:57:30  1 min 19.711 sec  1                  0.485495         0.664333            0.790806        2.20156          0.314265\n",
       "    2017-02-19 14:57:30  1 min 19.809 sec  2                  0.474555         0.642996            0.809531        2.20156          0.290242\n",
       "    2017-02-19 14:57:30  1 min 19.963 sec  3                  0.465824         0.626103            0.815725        2.20156          0.282168\n",
       "    2017-02-19 14:57:30  1 min 20.149 sec  4                  0.458525         0.611981            0.820961        2.20156          0.284297\n",
       "    2017-02-19 14:57:31  1 min 20.344 sec  5                  0.453309         0.601819            0.821947        2.20156          0.284297\n",
       "    2017-02-19 14:57:31  1 min 20.559 sec  6                  0.447419         0.590257            0.825373        2.20156          0.278713\n",
       "    2017-02-19 14:57:31  1 min 20.814 sec  7                  0.440726         0.577186            0.833502        2.20156          0.266943\n",
       "    2017-02-19 14:57:31  1 min 21.066 sec  8                  0.437125         0.569927            0.834486        2.20156          0.268991\n",
       "    2017-02-19 14:57:32  1 min 21.327 sec  9                  0.431312         0.558486            0.842293        2.20156          0.262604\n",
       "    2017-02-19 14:57:32  1 min 21.603 sec  10                 0.426138         0.548231            0.847854        2.20156          0.258065\n",
       "    2017-02-19 14:57:32  1 min 21.882 sec  11                 0.422745         0.541282            0.849865        2.20156          0.255694\n",
       "    2017-02-19 14:57:32  1 min 22.185 sec  12                 0.418764         0.533292            0.853761        2.20156          0.249468\n",
       "    2017-02-19 14:57:33  1 min 22.496 sec  13                 0.414497         0.524652            0.859152        2.20156          0.242237\n",
       "    2017-02-19 14:57:33  1 min 22.834 sec  14                 0.409888         0.515469            0.865414        2.20156          0.244286\n",
       "    2017-02-19 14:57:33  1 min 23.155 sec  15                 0.407622         0.510638            0.866525        2.20156          0.24059\n",
       "    2017-02-19 14:57:34  1 min 23.510 sec  16                 0.405331         0.505747            0.868216        2.20156          0.241232\n",
       "    2017-02-19 14:57:35  1 min 24.760 sec  30                 0.373027         0.440697            0.90386         2.20156          0.19632"
      ]
     },
     "metadata": {},
     "output_type": "display_data"
    },
    {
     "name": "stdout",
     "output_type": "stream",
     "text": [
      "Variable Importances: \n"
     ]
    },
    {
     "data": {
      "text/html": [
       "<div style=\"overflow:auto\"><table style=\"width:50%\"><tr><td><b>variable</b></td>\n",
       "<td><b>relative_importance</b></td>\n",
       "<td><b>scaled_importance</b></td>\n",
       "<td><b>percentage</b></td></tr>\n",
       "<tr><td>reserve_fee_pct</td>\n",
       "<td>11942.8203125</td>\n",
       "<td>1.0</td>\n",
       "<td>0.3930696</td></tr>\n",
       "<tr><td>peer_repay_ratio</td>\n",
       "<td>4752.0917969</td>\n",
       "<td>0.3979037</td>\n",
       "<td>0.1564038</td></tr>\n",
       "<tr><td>peer_network_comments_by</td>\n",
       "<td>3054.2214355</td>\n",
       "<td>0.2557370</td>\n",
       "<td>0.1005224</td></tr>\n",
       "<tr><td>parent_repay_ratio</td>\n",
       "<td>2808.4978027</td>\n",
       "<td>0.2351620</td>\n",
       "<td>0.0924350</td></tr>\n",
       "<tr><td>peer_network_avg_char_per_comment_by</td>\n",
       "<td>1613.0695801</td>\n",
       "<td>0.1350661</td>\n",
       "<td>0.0530904</td></tr>\n",
       "<tr><td>---</td>\n",
       "<td>---</td>\n",
       "<td>---</td>\n",
       "<td>---</td></tr>\n",
       "<tr><td>missing_referred_by</td>\n",
       "<td>75.3075485</td>\n",
       "<td>0.0063057</td>\n",
       "<td>0.0024786</td></tr>\n",
       "<tr><td>peer_network_avg_char_per_comment_about</td>\n",
       "<td>56.1397285</td>\n",
       "<td>0.0047007</td>\n",
       "<td>0.0018477</td></tr>\n",
       "<tr><td>parent_comment_cnt</td>\n",
       "<td>52.1496124</td>\n",
       "<td>0.0043666</td>\n",
       "<td>0.0017164</td></tr>\n",
       "<tr><td>peer_network_comments_about</td>\n",
       "<td>43.8235207</td>\n",
       "<td>0.0036694</td>\n",
       "<td>0.0014423</td></tr>\n",
       "<tr><td>invited_flag</td>\n",
       "<td>1.2353793</td>\n",
       "<td>0.0001034</td>\n",
       "<td>0.0000407</td></tr></table></div>"
      ],
      "text/plain": [
       "variable                                 relative_importance    scaled_importance       percentage\n",
       "---------------------------------------  ---------------------  ----------------------  ---------------------\n",
       "reserve_fee_pct                          11942.8203125          1.0                     0.39306957128780046\n",
       "peer_repay_ratio                         4752.091796875         0.3979036502710507      0.15640381722589278\n",
       "peer_network_comments_by                 3054.221435546875      0.25573703326593317     0.10052244602825432\n",
       "parent_repay_ratio                       2808.497802734375      0.23516202448385243     0.0924350361470391\n",
       "peer_network_avg_char_per_comment_by     1613.069580078125      0.13506605122324408     0.05309035484985665\n",
       "---                                      ---                    ---                     ---\n",
       "missing_referred_by                      75.30754852294922      0.006305675422758247    0.002478569135103604\n",
       "peer_network_avg_char_per_comment_about  56.13972854614258      0.004700709470390651    0.0018477058562749564\n",
       "parent_comment_cnt                       52.14961242675781      0.004366607808054787    0.001716380659094057\n",
       "peer_network_comments_about              43.82352066040039      0.003669444864253072    0.001442347119656176\n",
       "invited_flag                             1.2353793382644653     0.00010344117268275824  4.065957739991912e-05"
      ]
     },
     "metadata": {},
     "output_type": "display_data"
    },
    {
     "name": "stdout",
     "output_type": "stream",
     "text": [
      "\n",
      "See the whole table with table.as_data_frame()\n"
     ]
    },
    {
     "data": {
      "text/plain": [
       "<bound method ModelBase.coef_norm of >"
      ]
     },
     "execution_count": 8,
     "metadata": {},
     "output_type": "execute_result"
    }
   ],
   "source": [
    "best_model = grid_results[0]\n",
    "best_model.coef_norm"
   ]
  },
  {
   "cell_type": "code",
   "execution_count": 9,
   "metadata": {
    "ExecuteTime": {
     "end_time": "2017-02-08T07:42:15.315706",
     "start_time": "2017-02-08T07:42:15.016498"
    },
    "collapsed": false
   },
   "outputs": [
    {
     "name": "stdout",
     "output_type": "stream",
     "text": [
      "gbm prediction progress: |████████████████████████████████████████████████| 100%\n"
     ]
    }
   ],
   "source": [
    "holdout_preds = best_model.predict(test)['p1']\n",
    "holdout_eval = pd.concat([holdout_preds['p1'].as_data_frame(), test['default_flag'].as_data_frame()], axis = 1)"
   ]
  },
  {
   "cell_type": "code",
   "execution_count": 10,
   "metadata": {
    "ExecuteTime": {
     "end_time": "2017-02-08T07:42:43.339087",
     "start_time": "2017-02-08T07:42:43.332825"
    },
    "collapsed": false
   },
   "outputs": [
    {
     "name": "stdout",
     "output_type": "stream",
     "text": [
      "holdout log-loss: 0.548885145266\n"
     ]
    }
   ],
   "source": [
    "print('holdout log-loss:', log_loss(holdout_eval.default_flag.values, holdout_eval.p1.values))"
   ]
  },
  {
   "cell_type": "markdown",
   "metadata": {},
   "source": [
    "## Save Best Model To Disk"
   ]
  },
  {
   "cell_type": "markdown",
   "metadata": {},
   "source": [
    "We must save path to disk, unfortunately I cannot specify the name of the file"
   ]
  },
  {
   "cell_type": "code",
   "execution_count": 11,
   "metadata": {
    "collapsed": false
   },
   "outputs": [
    {
     "name": "stdout",
     "output_type": "stream",
     "text": [
      "Model is saved to this path:  /Users/hamelhusain/Dropbox/zidisha/models/zidisha_model_1\n"
     ]
    }
   ],
   "source": [
    "#the path the model is to be saved on\n",
    "model_save_path = '/Users/hamelhusain/Dropbox/zidisha/models/'\n",
    "#before we save the model, clear the directory of previous model\n",
    "shutil.rmtree(model_save_path)\n",
    "#save the model to the saved path\n",
    "saved_model = h2o.save_model(best_model, path = model_save_path)\n",
    "print('Model is saved to this path: ', saved_model)"
   ]
  },
  {
   "cell_type": "markdown",
   "metadata": {},
   "source": [
    "## Load Model From Disk"
   ]
  },
  {
   "cell_type": "code",
   "execution_count": 36,
   "metadata": {
    "collapsed": false
   },
   "outputs": [],
   "source": [
    "#inspect the model directory to retrieve the filename of the model object\n",
    "models = os.listdir(model_save_path)\n",
    "\n",
    "#check to make sure there is only one model object in the directory, if there \n",
    "# is no model file or there is more than one model then raise an error.  \n",
    "assert len(models) == 1, \\\n",
    "    ('Exactly one model must be present in path: {}\\n Clear this directory, retrain the model and try again'.\n",
    "     format(model_save_path))"
   ]
  },
  {
   "cell_type": "code",
   "execution_count": 37,
   "metadata": {
    "collapsed": false
   },
   "outputs": [
    {
     "name": "stdout",
     "output_type": "stream",
     "text": [
      "loading model from: /Users/hamelhusain/Dropbox/zidisha/models/zidisha_model_1\n"
     ]
    }
   ],
   "source": [
    "#Construct the model's full path\n",
    "full_model_path = model_save_path + models[0]\n",
    "\n",
    "#print the full path for verfication and load model\n",
    "print('loading model from: {}'.format(full_model_path))\n",
    "final_model = h2o.load_model(full_model_path)"
   ]
  },
  {
   "cell_type": "markdown",
   "metadata": {},
   "source": [
    "## Use Model To Make Prediction"
   ]
  },
  {
   "cell_type": "code",
   "execution_count": 20,
   "metadata": {
    "collapsed": false
   },
   "outputs": [
    {
     "name": "stdout",
     "output_type": "stream",
     "text": [
      "Parse progress: |█████████████████████████████████████████████████████████| 100%\n"
     ]
    }
   ],
   "source": [
    "#Load loans to be scored into H2o\n",
    "df_predict = pd.read_csv('/Users/hamelhusain/Dropbox/zidisha/for_predictions.csv')\n",
    "HDF_predict = HF.from_python(df_predict[non_text_cols], \n",
    "                      column_types = col_types)"
   ]
  },
  {
   "cell_type": "code",
   "execution_count": 31,
   "metadata": {
    "collapsed": false,
    "scrolled": false
   },
   "outputs": [
    {
     "name": "stdout",
     "output_type": "stream",
     "text": [
      "gbm prediction progress: |████████████████████████████████████████████████| 100%\n"
     ]
    },
    {
     "data": {
      "text/html": [
       "<table>\n",
       "<thead>\n",
       "<tr><th style=\"text-align: right;\">   id</th><th style=\"text-align: right;\">  borrower_id</th><th style=\"text-align: right;\">  length(loans.proposal)</th><th style=\"text-align: right;\">  length(about_me)</th><th style=\"text-align: right;\">  length(about_business)</th><th style=\"text-align: right;\">  length(address_instructions)</th><th style=\"text-align: right;\">  missing_referred_by</th><th style=\"text-align: right;\">  application_time</th><th style=\"text-align: right;\">  default_flag</th><th style=\"text-align: right;\">  friends_count</th><th style=\"text-align: right;\">  category_id</th><th style=\"text-align: right;\">  invited_flag</th><th style=\"text-align: right;\">  english_flag</th><th style=\"text-align: right;\">  usd_installment_amount</th><th style=\"text-align: right;\">  reserve_fee_pct</th><th style=\"text-align: right;\">  ip_user_count</th><th style=\"text-align: right;\">  parent_age_at_invite</th><th style=\"text-align: right;\">  parent_comment_cnt</th><th style=\"text-align: right;\">  parent_avg_char_per_comment</th><th style=\"text-align: right;\">  parent_repay_ratio</th><th style=\"text-align: right;\">  parent_usd_total_amount</th><th style=\"text-align: right;\">  parent_invited_count</th><th style=\"text-align: right;\">  peer_repay_ratio</th><th style=\"text-align: right;\">  peer_usd_total_amount</th><th style=\"text-align: right;\">  peer_network_comments_by</th><th style=\"text-align: right;\">  peer_network_avg_char_per_comment_by</th><th style=\"text-align: right;\">  peer_network_comments_about</th><th style=\"text-align: right;\">  peer_network_avg_char_per_comment_about</th><th style=\"text-align: right;\">  loan_usage</th><th style=\"text-align: right;\">  Prior Loans</th><th style=\"text-align: right;\">  Default_Prediction</th></tr>\n",
       "</thead>\n",
       "<tbody>\n",
       "<tr><td style=\"text-align: right;\"> 4863</td><td style=\"text-align: right;\">        15031</td><td style=\"text-align: right;\">                     422</td><td style=\"text-align: right;\">               573</td><td style=\"text-align: right;\">                     835</td><td style=\"text-align: right;\">                            16</td><td style=\"text-align: right;\">                    1</td><td style=\"text-align: right;\">               nan</td><td style=\"text-align: right;\">             0</td><td style=\"text-align: right;\">             41</td><td style=\"text-align: right;\">          nan</td><td style=\"text-align: right;\">             0</td><td style=\"text-align: right;\">             1</td><td style=\"text-align: right;\">                  nan   </td><td style=\"text-align: right;\">              0  </td><td style=\"text-align: right;\">            nan</td><td style=\"text-align: right;\">                   nan</td><td style=\"text-align: right;\">                 nan</td><td style=\"text-align: right;\">                          nan</td><td style=\"text-align: right;\">                 nan</td><td style=\"text-align: right;\">                      nan</td><td style=\"text-align: right;\">                   nan</td><td style=\"text-align: right;\">               nan</td><td style=\"text-align: right;\">                    nan</td><td style=\"text-align: right;\">                       nan</td><td style=\"text-align: right;\">                                   nan</td><td style=\"text-align: right;\">                          nan</td><td style=\"text-align: right;\">                                      nan</td><td style=\"text-align: right;\">         nan</td><td style=\"text-align: right;\">            0</td><td style=\"text-align: right;\">            0.286845</td></tr>\n",
       "<tr><td style=\"text-align: right;\"> 5687</td><td style=\"text-align: right;\">        15031</td><td style=\"text-align: right;\">                     748</td><td style=\"text-align: right;\">               573</td><td style=\"text-align: right;\">                     835</td><td style=\"text-align: right;\">                            16</td><td style=\"text-align: right;\">                    1</td><td style=\"text-align: right;\">               nan</td><td style=\"text-align: right;\">             1</td><td style=\"text-align: right;\">             41</td><td style=\"text-align: right;\">          nan</td><td style=\"text-align: right;\">             0</td><td style=\"text-align: right;\">             1</td><td style=\"text-align: right;\">                  nan   </td><td style=\"text-align: right;\">              0  </td><td style=\"text-align: right;\">            nan</td><td style=\"text-align: right;\">                   nan</td><td style=\"text-align: right;\">                 nan</td><td style=\"text-align: right;\">                          nan</td><td style=\"text-align: right;\">                 nan</td><td style=\"text-align: right;\">                      nan</td><td style=\"text-align: right;\">                   nan</td><td style=\"text-align: right;\">               nan</td><td style=\"text-align: right;\">                    nan</td><td style=\"text-align: right;\">                       nan</td><td style=\"text-align: right;\">                                   nan</td><td style=\"text-align: right;\">                          nan</td><td style=\"text-align: right;\">                                      nan</td><td style=\"text-align: right;\">         nan</td><td style=\"text-align: right;\">            1</td><td style=\"text-align: right;\">            0.250552</td></tr>\n",
       "<tr><td style=\"text-align: right;\"> 4895</td><td style=\"text-align: right;\">        15057</td><td style=\"text-align: right;\">                     504</td><td style=\"text-align: right;\">              1374</td><td style=\"text-align: right;\">                     627</td><td style=\"text-align: right;\">                            15</td><td style=\"text-align: right;\">                    1</td><td style=\"text-align: right;\">               nan</td><td style=\"text-align: right;\">             0</td><td style=\"text-align: right;\">            nan</td><td style=\"text-align: right;\">          nan</td><td style=\"text-align: right;\">             1</td><td style=\"text-align: right;\">             1</td><td style=\"text-align: right;\">                  nan   </td><td style=\"text-align: right;\">              0  </td><td style=\"text-align: right;\">            nan</td><td style=\"text-align: right;\">                    80</td><td style=\"text-align: right;\">                   9</td><td style=\"text-align: right;\">                          492</td><td style=\"text-align: right;\">                   1</td><td style=\"text-align: right;\">                      100</td><td style=\"text-align: right;\">                     1</td><td style=\"text-align: right;\">                 1</td><td style=\"text-align: right;\">                    700</td><td style=\"text-align: right;\">                         9</td><td style=\"text-align: right;\">                                  3447</td><td style=\"text-align: right;\">                           15</td><td style=\"text-align: right;\">                                     3332</td><td style=\"text-align: right;\">         nan</td><td style=\"text-align: right;\">            0</td><td style=\"text-align: right;\">            0.176774</td></tr>\n",
       "<tr><td style=\"text-align: right;\">10181</td><td style=\"text-align: right;\">        15057</td><td style=\"text-align: right;\">                     627</td><td style=\"text-align: right;\">              1374</td><td style=\"text-align: right;\">                     627</td><td style=\"text-align: right;\">                            15</td><td style=\"text-align: right;\">                    1</td><td style=\"text-align: right;\">               nan</td><td style=\"text-align: right;\">             0</td><td style=\"text-align: right;\">            nan</td><td style=\"text-align: right;\">          nan</td><td style=\"text-align: right;\">             1</td><td style=\"text-align: right;\">             1</td><td style=\"text-align: right;\">                  nan   </td><td style=\"text-align: right;\">              0  </td><td style=\"text-align: right;\">            nan</td><td style=\"text-align: right;\">                    80</td><td style=\"text-align: right;\">                   9</td><td style=\"text-align: right;\">                          492</td><td style=\"text-align: right;\">                   1</td><td style=\"text-align: right;\">                      100</td><td style=\"text-align: right;\">                     1</td><td style=\"text-align: right;\">                 1</td><td style=\"text-align: right;\">                    700</td><td style=\"text-align: right;\">                         9</td><td style=\"text-align: right;\">                                  3447</td><td style=\"text-align: right;\">                           15</td><td style=\"text-align: right;\">                                     3332</td><td style=\"text-align: right;\">         nan</td><td style=\"text-align: right;\">            1</td><td style=\"text-align: right;\">            0.183053</td></tr>\n",
       "<tr><td style=\"text-align: right;\">20720</td><td style=\"text-align: right;\">        15057</td><td style=\"text-align: right;\">                     627</td><td style=\"text-align: right;\">              1374</td><td style=\"text-align: right;\">                     627</td><td style=\"text-align: right;\">                            15</td><td style=\"text-align: right;\">                    1</td><td style=\"text-align: right;\">               nan</td><td style=\"text-align: right;\">             0</td><td style=\"text-align: right;\">            nan</td><td style=\"text-align: right;\">          nan</td><td style=\"text-align: right;\">             1</td><td style=\"text-align: right;\">             1</td><td style=\"text-align: right;\">                   31.08</td><td style=\"text-align: right;\">              0  </td><td style=\"text-align: right;\">            nan</td><td style=\"text-align: right;\">                    80</td><td style=\"text-align: right;\">                   9</td><td style=\"text-align: right;\">                          492</td><td style=\"text-align: right;\">                   1</td><td style=\"text-align: right;\">                      100</td><td style=\"text-align: right;\">                     1</td><td style=\"text-align: right;\">                 1</td><td style=\"text-align: right;\">                    700</td><td style=\"text-align: right;\">                         9</td><td style=\"text-align: right;\">                                  3447</td><td style=\"text-align: right;\">                           15</td><td style=\"text-align: right;\">                                     3332</td><td style=\"text-align: right;\">         nan</td><td style=\"text-align: right;\">            2</td><td style=\"text-align: right;\">            0.10998 </td></tr>\n",
       "<tr><td style=\"text-align: right;\">33386</td><td style=\"text-align: right;\">        15057</td><td style=\"text-align: right;\">                     263</td><td style=\"text-align: right;\">              1374</td><td style=\"text-align: right;\">                     627</td><td style=\"text-align: right;\">                            15</td><td style=\"text-align: right;\">                    1</td><td style=\"text-align: right;\">               nan</td><td style=\"text-align: right;\">             0</td><td style=\"text-align: right;\">            nan</td><td style=\"text-align: right;\">          nan</td><td style=\"text-align: right;\">             1</td><td style=\"text-align: right;\">             1</td><td style=\"text-align: right;\">                   30.44</td><td style=\"text-align: right;\">              0.8</td><td style=\"text-align: right;\">            nan</td><td style=\"text-align: right;\">                    80</td><td style=\"text-align: right;\">                   9</td><td style=\"text-align: right;\">                          492</td><td style=\"text-align: right;\">                   1</td><td style=\"text-align: right;\">                      100</td><td style=\"text-align: right;\">                     1</td><td style=\"text-align: right;\">                 1</td><td style=\"text-align: right;\">                    700</td><td style=\"text-align: right;\">                         9</td><td style=\"text-align: right;\">                                  3447</td><td style=\"text-align: right;\">                           15</td><td style=\"text-align: right;\">                                     3332</td><td style=\"text-align: right;\">         nan</td><td style=\"text-align: right;\">            3</td><td style=\"text-align: right;\">            0.141729</td></tr>\n",
       "<tr><td style=\"text-align: right;\"> 4859</td><td style=\"text-align: right;\">        15059</td><td style=\"text-align: right;\">                     441</td><td style=\"text-align: right;\">               546</td><td style=\"text-align: right;\">                     922</td><td style=\"text-align: right;\">                           237</td><td style=\"text-align: right;\">                    1</td><td style=\"text-align: right;\">               nan</td><td style=\"text-align: right;\">             1</td><td style=\"text-align: right;\">            nan</td><td style=\"text-align: right;\">          nan</td><td style=\"text-align: right;\">             1</td><td style=\"text-align: right;\">             1</td><td style=\"text-align: right;\">                  nan   </td><td style=\"text-align: right;\">              0  </td><td style=\"text-align: right;\">            nan</td><td style=\"text-align: right;\">                    71</td><td style=\"text-align: right;\">                  23</td><td style=\"text-align: right;\">                          556</td><td style=\"text-align: right;\">                   1</td><td style=\"text-align: right;\">                      200</td><td style=\"text-align: right;\">                     5</td><td style=\"text-align: right;\">                 1</td><td style=\"text-align: right;\">                   2000</td><td style=\"text-align: right;\">                        23</td><td style=\"text-align: right;\">                                  5558</td><td style=\"text-align: right;\">                           31</td><td style=\"text-align: right;\">                                     5130</td><td style=\"text-align: right;\">         nan</td><td style=\"text-align: right;\">            0</td><td style=\"text-align: right;\">            0.488749</td></tr>\n",
       "</tbody>\n",
       "</table>"
      ]
     },
     "metadata": {},
     "output_type": "display_data"
    },
    {
     "data": {
      "text/plain": []
     },
     "execution_count": 31,
     "metadata": {},
     "output_type": "execute_result"
    }
   ],
   "source": [
    "#Make predictions on new loans\n",
    "predictions = HDF_predict.concat(final_model.predict(HDF_predict)['p1'].set_names(['Default_Prediction']))\n",
    "predictions"
   ]
  },
  {
   "cell_type": "code",
   "execution_count": 41,
   "metadata": {
    "collapsed": false
   },
   "outputs": [
    {
     "name": "stdout",
     "output_type": "stream",
     "text": [
      "Export File progress: |███████████████████████████████████████████████████| 100%\n"
     ]
    }
   ],
   "source": [
    "#Export data to csv\n",
    "h2o.export_file(predictions, '/Users/hamelhusain/Dropbox/zidisha/model_predictions.csv', force = True)"
   ]
  },
  {
   "cell_type": "markdown",
   "metadata": {},
   "source": [
    "#  Part 2 Experimental - Text Features (Ignore This Section)"
   ]
  },
  {
   "cell_type": "markdown",
   "metadata": {},
   "source": [
    "Extract text features from data frame and split into test vs. train set.  TODO:  use the same train/test split as above."
   ]
  },
  {
   "cell_type": "code",
   "execution_count": 184,
   "metadata": {
    "ExecuteTime": {
     "end_time": "2017-02-08T07:57:03.278015",
     "start_time": "2017-02-08T07:57:03.100462"
    },
    "collapsed": false
   },
   "outputs": [
    {
     "name": "stderr",
     "output_type": "stream",
     "text": [
      "/Users/hamel_husain/anaconda3/lib/python3.5/site-packages/ipykernel/__main__.py:2: SettingWithCopyWarning: \n",
      "A value is trying to be set on a copy of a slice from a DataFrame\n",
      "\n",
      "See the caveats in the documentation: http://pandas.pydata.org/pandas-docs/stable/indexing.html#indexing-view-versus-copy\n",
      "  from ipykernel import kernelapp as app\n",
      "/Users/hamel_husain/.local/lib/python3.5/site-packages/pandas/core/generic.py:4702: SettingWithCopyWarning: \n",
      "A value is trying to be set on a copy of a slice from a DataFrame\n",
      "\n",
      "See the caveats in the documentation: http://pandas.pydata.org/pandas-docs/stable/indexing.html#indexing-view-versus-copy\n",
      "  self._update_inplace(new_data)\n",
      "/Users/hamel_husain/.local/lib/python3.5/site-packages/IPython/core/interactiveshell.py:2881: SettingWithCopyWarning: \n",
      "A value is trying to be set on a copy of a slice from a DataFrame\n",
      "\n",
      "See the caveats in the documentation: http://pandas.pydata.org/pandas-docs/stable/indexing.html#indexing-view-versus-copy\n",
      "  exec(code_obj, self.user_global_ns, self.user_ns)\n"
     ]
    },
    {
     "name": "stdout",
     "output_type": "stream",
     "text": [
      "size of train (24912, 4)\n",
      "size of test (6228, 4)\n"
     ]
    }
   ],
   "source": [
    "df_text = df[text_fields + ['default_flag']]\n",
    "df_text.proposal_field[df.proposal_field.isnull()] = ''\n",
    "df_text_train, df_text_test = tts(df_text, test_size = .2)\n",
    "print('size of train', df_text_train.shape)\n",
    "print('size of test', df_text_test.shape)"
   ]
  },
  {
   "cell_type": "markdown",
   "metadata": {},
   "source": [
    "## Try two basic text vectorizers \n",
    "- Count Vectorizer (Bag of Words with frequency count)\n",
    "- TFIDF"
   ]
  },
  {
   "cell_type": "code",
   "execution_count": 2,
   "metadata": {
    "collapsed": true
   },
   "outputs": [],
   "source": [
    "from sklearn.linear_model import ElasticNetCV\n",
    "from sklearn.feature_extraction.text import TfidfVectorizer as TFIDF\n",
    "from sklearn.feature_extraction.text import CountVectorizer as Cvec\n",
    "enet = ElasticNetCV(l1_ratio = [.001, .01, .1, .5], cv = 5, normalize = True)\n",
    "tfidf = TFIDF(stop_words = 'english', min_df=.05, max_df = .95, sublinear_tf = True, ngram_range=(1, 4))\n",
    "cvec = Cvec(stop_words = 'english', min_df=.05, max_df = .95, ngram_range=(1, 4))"
   ]
  },
  {
   "cell_type": "code",
   "execution_count": 185,
   "metadata": {
    "ExecuteTime": {
     "end_time": "2017-02-08T07:57:38.108790",
     "start_time": "2017-02-08T07:57:06.046359"
    },
    "collapsed": false
   },
   "outputs": [],
   "source": [
    "cvec_dat = cvec.fit_transform(df_text_train.proposal_field)\n",
    "tfidf_data = tfidf.fit_transform(df_text_train.proposal_field)"
   ]
  },
  {
   "cell_type": "code",
   "execution_count": 186,
   "metadata": {
    "ExecuteTime": {
     "end_time": "2017-02-08T07:59:41.982561",
     "start_time": "2017-02-08T07:58:49.702011"
    },
    "collapsed": false
   },
   "outputs": [
    {
     "data": {
      "text/plain": [
       "ElasticNetCV(alphas=None, copy_X=True, cv=5, eps=0.001, fit_intercept=True,\n",
       "       l1_ratio=[0.001, 0.01, 0.1, 0.5], max_iter=1000, n_alphas=100,\n",
       "       n_jobs=1, normalize=True, positive=False, precompute='auto',\n",
       "       random_state=None, selection='cyclic', tol=0.0001, verbose=0)"
      ]
     },
     "execution_count": 186,
     "metadata": {},
     "output_type": "execute_result"
    }
   ],
   "source": [
    "enet.fit(cvec_dat, df_text_train.default_flag)\n",
    "cvec_preds = enet.predict(cvec.transform(df_text_test.proposal_field))"
   ]
  },
  {
   "cell_type": "code",
   "execution_count": 189,
   "metadata": {
    "ExecuteTime": {
     "end_time": "2017-02-08T08:01:05.060949",
     "start_time": "2017-02-08T08:01:05.052980"
    },
    "collapsed": false
   },
   "outputs": [
    {
     "name": "stdout",
     "output_type": "stream",
     "text": [
      "log loss on holdout set (count vectorizer): 0.679630228373\n"
     ]
    }
   ],
   "source": [
    "print('log loss on holdout set (count vectorizer):', log_loss(df_text_test.default_flag, cvec_preds))"
   ]
  },
  {
   "cell_type": "code",
   "execution_count": 190,
   "metadata": {
    "ExecuteTime": {
     "end_time": "2017-02-08T08:03:06.651056",
     "start_time": "2017-02-08T08:02:22.154749"
    },
    "collapsed": true
   },
   "outputs": [],
   "source": [
    "enet.fit(tfidf_data, df_text_train.default_flag)\n",
    "tfidf_preds = enet.predict(tfidf.transform(df_text_test.proposal_field))"
   ]
  },
  {
   "cell_type": "code",
   "execution_count": 192,
   "metadata": {
    "ExecuteTime": {
     "end_time": "2017-02-08T08:03:20.382271",
     "start_time": "2017-02-08T08:03:20.375925"
    },
    "collapsed": false
   },
   "outputs": [
    {
     "name": "stdout",
     "output_type": "stream",
     "text": [
      "log loss on holdout set (TFIDF vectorizer): 0.677721258792\n"
     ]
    }
   ],
   "source": [
    "print('log loss on holdout set (TFIDF vectorizer):', log_loss(df_text_test.default_flag, tfidf_preds))"
   ]
  },
  {
   "cell_type": "markdown",
   "metadata": {},
   "source": [
    "## Scratch Work"
   ]
  },
  {
   "cell_type": "code",
   "execution_count": 178,
   "metadata": {
    "ExecuteTime": {
     "end_time": "2017-02-08T07:49:08.924867",
     "start_time": "2017-02-08T07:49:08.899704"
    },
    "collapsed": false
   },
   "outputs": [],
   "source": [
    ">>> from sklearn import datasets, linear_model\n",
    ">>> from sklearn.cross_validation import cross_val_predict\n",
    ">>> diabetes = datasets.load_diabetes()\n",
    ">>> X = diabetes.data[:150]\n",
    ">>> y = diabetes.target[:150]\n",
    ">>> lasso = linear_model.Lasso()\n",
    ">>> y_pred = cross_val_predict(lasso, X, y)"
   ]
  },
  {
   "cell_type": "code",
   "execution_count": 182,
   "metadata": {
    "ExecuteTime": {
     "end_time": "2017-02-08T07:49:34.185267",
     "start_time": "2017-02-08T07:49:34.177832"
    },
    "collapsed": false,
    "scrolled": true
   },
   "outputs": [
    {
     "data": {
      "text/plain": [
       "array([ 174.26933996,  117.6539241 ,  164.60228641,  155.65049088,\n",
       "        132.68647979,  128.49511245,  120.76146877,  141.069413  ,\n",
       "        164.18904498,  182.37394949,  111.04181265,  127.94311443,\n",
       "        135.0869234 ,  162.83066014,  135.3573514 ,  157.64516523,\n",
       "        178.95843326,  163.3919841 ,  143.85237903,  144.29748882,\n",
       "        133.58117218,  124.77928571,  132.90918003,  208.52927   ,\n",
       "        153.61908967,  154.16616341,  118.95351821,  163.50467541,\n",
       "        145.89406196,  168.3308101 ,  155.87411031,  123.45960148,\n",
       "        185.70459144,  133.38468582,  117.2789469 ,  150.27895019,\n",
       "        174.1541028 ,  160.03235091,  192.31389633,  161.58568256,\n",
       "        154.2224809 ,  119.35517679,  146.15706413,  133.82056934,\n",
       "        179.68118754,  137.96619936,  146.07788398,  126.77579723,\n",
       "        123.32101099,  166.26710247,  146.41559964,  161.67261029,\n",
       "        147.47731459,  138.44595305,  144.85421048,  113.77990664,\n",
       "        185.54970402,  115.31624749,  142.23672103,  171.07792136,\n",
       "        132.5394716 ,  177.80524864,  116.5616502 ,  134.25230846,\n",
       "        142.88707475,  173.2830912 ,  154.31273504,  149.16680759,\n",
       "        144.88238997,  121.97783103,  110.38457621,  180.25559631,\n",
       "        199.06141058,  151.1195546 ,  161.14217698,  153.96960812,\n",
       "        150.77179755,  113.30903579,  165.15755771,  115.85735727,\n",
       "        174.19267171,  150.12027233,  115.47891783,  153.38967232,\n",
       "        115.31573467,  156.49909623,   92.62211515,  178.15649994,\n",
       "        131.59320715,  134.46166754,  116.97678633,  190.00790119,\n",
       "        166.01173292,  126.25944471,  134.29256991,  144.71971963,\n",
       "        190.9769591 ,  182.39199466,  154.45325308,  148.30325558,\n",
       "        151.72036937,  124.12825466,  138.6011155 ,  137.75891286,\n",
       "        123.0917243 ,  131.74735403,  112.07367481,  124.56956904,\n",
       "        156.78432061,  128.63135591,   93.68260079,  130.54324394,\n",
       "        131.8693231 ,  154.5708257 ,  179.81343019,  165.78130755,\n",
       "        150.04779033,  162.37974736,  143.92996797,  143.15645843,\n",
       "        125.20161377,  145.99590279,  155.3505536 ,  145.97574185,\n",
       "        134.66120515,  163.92450638,  101.92329396,  139.33014324,\n",
       "        122.71377023,  152.20573113,  153.36931089,  116.76545147,\n",
       "        131.96936127,  109.74817383,  132.57453994,  159.38030328,\n",
       "        109.31343881,  147.69926269,  156.3664255 ,  161.12509958,\n",
       "        128.16523686,  156.78446286,  154.04375702,  124.83705022,\n",
       "        143.85606595,  143.23651701,  147.76316913,  154.21572891,\n",
       "        129.07895017,  157.79644923])"
      ]
     },
     "execution_count": 182,
     "metadata": {},
     "output_type": "execute_result"
    }
   ],
   "source": [
    "y_pred"
   ]
  },
  {
   "cell_type": "code",
   "execution_count": 193,
   "metadata": {
    "ExecuteTime": {
     "end_time": "2017-02-08T08:08:32.734494",
     "start_time": "2017-02-08T08:08:32.598460"
    },
    "collapsed": false
   },
   "outputs": [
    {
     "name": "stdout",
     "output_type": "stream",
     "text": [
      "/Users/hamel_husain/Dropbox/zidisha\r\n"
     ]
    }
   ],
   "source": [
    "!pwd"
   ]
  },
  {
   "cell_type": "code",
   "execution_count": null,
   "metadata": {
    "collapsed": true
   },
   "outputs": [],
   "source": []
  }
 ],
 "metadata": {
  "anaconda-cloud": {},
  "kernelspec": {
   "display_name": "Python [conda env:drpy3]",
   "language": "python",
   "name": "conda-env-drpy3-py"
  },
  "language_info": {
   "codemirror_mode": {
    "name": "ipython",
    "version": 3
   },
   "file_extension": ".py",
   "mimetype": "text/x-python",
   "name": "python",
   "nbconvert_exporter": "python",
   "pygments_lexer": "ipython3",
   "version": "3.5.2"
  },
  "nav_menu": {},
  "toc": {
   "navigate_menu": true,
   "number_sections": true,
   "sideBar": true,
   "threshold": 6,
   "toc_cell": false,
   "toc_section_display": "block",
   "toc_window_display": false
  }
 },
 "nbformat": 4,
 "nbformat_minor": 1
}
