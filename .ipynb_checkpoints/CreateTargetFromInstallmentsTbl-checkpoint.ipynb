{
 "cells": [
  {
   "cell_type": "code",
   "execution_count": 10,
   "metadata": {
    "collapsed": true
   },
   "outputs": [],
   "source": [
    "import pandas as pd\n",
    "import numpy as np\n",
    "%matplotlib inline"
   ]
  },
  {
   "cell_type": "code",
   "execution_count": 2,
   "metadata": {
    "collapsed": false
   },
   "outputs": [],
   "source": [
    "ins = pd.read_csv('InstallmentsTable.csv')\n",
    "ins.set_index(['borrower_id', 'loan_id'], inplace=True)"
   ]
  },
  {
   "cell_type": "markdown",
   "metadata": {},
   "source": [
    "## Check Which Loans Have Defaulted  (Miss n installments In a row)"
   ]
  },
  {
   "cell_type": "code",
   "execution_count": 3,
   "metadata": {
    "collapsed": false
   },
   "outputs": [],
   "source": [
    "#n = number of installments in a row that you must miss in a row before a default\n",
    "#WARNING, this should probably be different depending on your installment period\n",
    "n = 9\n",
    "#Mask for maximum lag\n",
    "lag_mask = ins.groupby(level=1).shift(n).due_date.isnull()\n",
    "\n",
    "#Mask for defaults (must occur beyond lag window if at beginning of installment series)\n",
    "default_mask = ins.paid_amount.isnull()\n",
    "for i in range(1, n):\n",
    "    default_mask = default_mask & ins.groupby(level=1).shift(i).paid_amount.isnull()\n",
    "    \n",
    "default_mask = default_mask & ~lag_mask"
   ]
  },
  {
   "cell_type": "markdown",
   "metadata": {},
   "source": [
    "## Calculate Default Date"
   ]
  },
  {
   "cell_type": "code",
   "execution_count": 18,
   "metadata": {
    "collapsed": false
   },
   "outputs": [],
   "source": [
    "ins['due_date_previous'] = ins.groupby(level=1).shift(1)['due_date']\n",
    "ins.due_date = pd.to_datetime(ins.due_date)\n",
    "ins.due_date_previous = pd.to_datetime(ins.due_date_previous)\n",
    "ins['installment_interval'] = (ins.due_date.dt.date - ins.due_date_previous.dt.date).dt.days"
   ]
  },
  {
   "cell_type": "code",
   "execution_count": 19,
   "metadata": {
    "collapsed": false
   },
   "outputs": [],
   "source": [
    "defaults = ins[default_mask].groupby(level = ['borrower_id', 'loan_id']).agg({'due_date':'min'})\n",
    "defaults.columns = ['default_date']"
   ]
  },
  {
   "cell_type": "code",
   "execution_count": 27,
   "metadata": {
    "collapsed": false
   },
   "outputs": [
    {
     "data": {
      "text/html": [
       "<div>\n",
       "<table border=\"1\" class=\"dataframe\">\n",
       "  <thead>\n",
       "    <tr style=\"text-align: right;\">\n",
       "      <th></th>\n",
       "      <th></th>\n",
       "      <th>default_date</th>\n",
       "      <th>default_flag</th>\n",
       "      <th>installment_peroid_min</th>\n",
       "      <th>installment_peroid_median</th>\n",
       "      <th>installment_peroid_max</th>\n",
       "    </tr>\n",
       "    <tr>\n",
       "      <th>borrower_id</th>\n",
       "      <th>loan_id</th>\n",
       "      <th></th>\n",
       "      <th></th>\n",
       "      <th></th>\n",
       "      <th></th>\n",
       "      <th></th>\n",
       "    </tr>\n",
       "  </thead>\n",
       "  <tbody>\n",
       "    <tr>\n",
       "      <th rowspan=\"2\" valign=\"top\">129</th>\n",
       "      <th>1</th>\n",
       "      <td>NaT</td>\n",
       "      <td>False</td>\n",
       "      <td>28</td>\n",
       "      <td>31</td>\n",
       "      <td>31</td>\n",
       "    </tr>\n",
       "    <tr>\n",
       "      <th>58</th>\n",
       "      <td>2013-02-04 10:38:55</td>\n",
       "      <td>True</td>\n",
       "      <td>28</td>\n",
       "      <td>31</td>\n",
       "      <td>273</td>\n",
       "    </tr>\n",
       "    <tr>\n",
       "      <th rowspan=\"2\" valign=\"top\">130</th>\n",
       "      <th>2</th>\n",
       "      <td>NaT</td>\n",
       "      <td>False</td>\n",
       "      <td>28</td>\n",
       "      <td>31</td>\n",
       "      <td>31</td>\n",
       "    </tr>\n",
       "    <tr>\n",
       "      <th>59</th>\n",
       "      <td>2011-10-22 07:57:19</td>\n",
       "      <td>True</td>\n",
       "      <td>28</td>\n",
       "      <td>31</td>\n",
       "      <td>31</td>\n",
       "    </tr>\n",
       "    <tr>\n",
       "      <th rowspan=\"2\" valign=\"top\">131</th>\n",
       "      <th>3</th>\n",
       "      <td>NaT</td>\n",
       "      <td>False</td>\n",
       "      <td>28</td>\n",
       "      <td>31</td>\n",
       "      <td>31</td>\n",
       "    </tr>\n",
       "    <tr>\n",
       "      <th>60</th>\n",
       "      <td>2011-10-22 07:58:00</td>\n",
       "      <td>True</td>\n",
       "      <td>28</td>\n",
       "      <td>31</td>\n",
       "      <td>31</td>\n",
       "    </tr>\n",
       "    <tr>\n",
       "      <th rowspan=\"4\" valign=\"top\">146</th>\n",
       "      <th>4</th>\n",
       "      <td>NaT</td>\n",
       "      <td>False</td>\n",
       "      <td>30</td>\n",
       "      <td>31</td>\n",
       "      <td>31</td>\n",
       "    </tr>\n",
       "    <tr>\n",
       "      <th>69</th>\n",
       "      <td>NaT</td>\n",
       "      <td>False</td>\n",
       "      <td>28</td>\n",
       "      <td>31</td>\n",
       "      <td>122</td>\n",
       "    </tr>\n",
       "    <tr>\n",
       "      <th>408</th>\n",
       "      <td>NaT</td>\n",
       "      <td>False</td>\n",
       "      <td>28</td>\n",
       "      <td>31</td>\n",
       "      <td>91</td>\n",
       "    </tr>\n",
       "    <tr>\n",
       "      <th>4393</th>\n",
       "      <td>NaT</td>\n",
       "      <td>False</td>\n",
       "      <td>28</td>\n",
       "      <td>31</td>\n",
       "      <td>32</td>\n",
       "    </tr>\n",
       "  </tbody>\n",
       "</table>\n",
       "</div>"
      ],
      "text/plain": [
       "                           default_date default_flag  installment_peroid_min  \\\n",
       "borrower_id loan_id                                                            \n",
       "129         1                       NaT        False                      28   \n",
       "            58      2013-02-04 10:38:55         True                      28   \n",
       "130         2                       NaT        False                      28   \n",
       "            59      2011-10-22 07:57:19         True                      28   \n",
       "131         3                       NaT        False                      28   \n",
       "            60      2011-10-22 07:58:00         True                      28   \n",
       "146         4                       NaT        False                      30   \n",
       "            69                      NaT        False                      28   \n",
       "            408                     NaT        False                      28   \n",
       "            4393                    NaT        False                      28   \n",
       "\n",
       "                     installment_peroid_median  installment_peroid_max  \n",
       "borrower_id loan_id                                                     \n",
       "129         1                               31                      31  \n",
       "            58                              31                     273  \n",
       "130         2                               31                      31  \n",
       "            59                              31                      31  \n",
       "131         3                               31                      31  \n",
       "            60                              31                      31  \n",
       "146         4                               31                      31  \n",
       "            69                              31                     122  \n",
       "            408                             31                      91  \n",
       "            4393                            31                      32  "
      ]
     },
     "execution_count": 27,
     "metadata": {},
     "output_type": "execute_result"
    }
   ],
   "source": [
    "targets = (ins.\n",
    "join(defaults[['default_date']]).\n",
    "groupby(level = ['borrower_id', 'loan_id']).\n",
    "agg({'default_date':{'default_date': 'min', 'default_flag':lambda x: max(~x.isnull())}, \n",
    "    'installment_interval':{'installment_peroid_min':'min', 'installment_peroid_max':'max', 'installment_peroid_median':'median'}}))\n",
    "\n",
    "\n",
    "\n",
    "targets.columns = targets.columns.droplevel()\n",
    "targets.default_date = pd.to_datetime(targets.default_date)\n",
    "\n",
    "targets.head(10)"
   ]
  },
  {
   "cell_type": "code",
   "execution_count": 7,
   "metadata": {
    "collapsed": true
   },
   "outputs": [],
   "source": [
    "targets.to_csv('defaults.csv')"
   ]
  },
  {
   "cell_type": "code",
   "execution_count": 29,
   "metadata": {
    "collapsed": false,
    "scrolled": false
   },
   "outputs": [],
   "source": [
    "#check calculation\n",
    "#ins[ins.index.get_level_values('borrower_id') == 129][['due_date', 'paid_amount']]"
   ]
  },
  {
   "cell_type": "markdown",
   "metadata": {},
   "source": [
    "## Check lags between installments"
   ]
  },
  {
   "cell_type": "code",
   "execution_count": 17,
   "metadata": {
    "collapsed": false
   },
   "outputs": [
    {
     "data": {
      "text/plain": [
       "7.0      30125\n",
       "7.5          2\n",
       "8.0          3\n",
       "10.5        12\n",
       "11.0         1\n",
       "14.0        12\n",
       "17.5         5\n",
       "21.0         2\n",
       "24.5         2\n",
       "28.0        19\n",
       "29.0        10\n",
       "29.5        30\n",
       "30.0      1189\n",
       "30.5      1409\n",
       "31.0      3541\n",
       "31.5         1\n",
       "32.0         1\n",
       "35.0         2\n",
       "42.0         1\n",
       "45.0         1\n",
       "45.5         2\n",
       "46.0         4\n",
       "49.0         1\n",
       "60.0         2\n",
       "61.0         1\n",
       "61.5         2\n",
       "76.0         2\n",
       "245.0        1\n",
       "Name: installment_peroid_median, dtype: int64"
      ]
     },
     "execution_count": 17,
     "metadata": {},
     "output_type": "execute_result"
    }
   ],
   "source": [
    "targets.installment_peroid_median.value_counts().sort_index()"
   ]
  }
 ],
 "metadata": {
  "kernelspec": {
   "display_name": "Python 3",
   "language": "python",
   "name": "python3"
  },
  "language_info": {
   "codemirror_mode": {
    "name": "ipython",
    "version": 3
   },
   "file_extension": ".py",
   "mimetype": "text/x-python",
   "name": "python",
   "nbconvert_exporter": "python",
   "pygments_lexer": "ipython3",
   "version": "3.5.1"
  }
 },
 "nbformat": 4,
 "nbformat_minor": 0
}
