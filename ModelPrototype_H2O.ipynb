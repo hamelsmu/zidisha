{
 "cells": [
  {
   "cell_type": "code",
   "execution_count": 13,
   "metadata": {
    "ExecuteTime": {
     "end_time": "2017-02-08T07:43:23.491069",
     "start_time": "2017-02-08T07:43:23.485469"
    },
    "collapsed": false
   },
   "outputs": [],
   "source": [
    "import h2o\n",
    "import pandas as pd\n",
    "from h2o.estimators.gbm import H2OGradientBoostingEstimator as gbm\n",
    "from h2o.grid.grid_search import H2OGridSearch\n",
    "from sklearn.model_selection import train_test_split as tts\n",
    "from sklearn.metrics import log_loss\n",
    "import shutil\n",
    "import os"
   ]
  },
  {
   "cell_type": "code",
   "execution_count": 72,
   "metadata": {
    "ExecuteTime": {
     "end_time": "2017-02-08T07:05:21.063318",
     "start_time": "2017-02-08T07:05:21.052528"
    },
    "collapsed": false,
    "scrolled": false
   },
   "outputs": [
    {
     "name": "stdout",
     "output_type": "stream",
     "text": [
      "Checking whether there is an H2O instance running at http://localhost:54321. connected.\n"
     ]
    },
    {
     "data": {
      "text/html": [
       "<div style=\"overflow:auto\"><table style=\"width:50%\"><tr><td>H2O cluster uptime:</td>\n",
       "<td>10 mins 42 secs</td></tr>\n",
       "<tr><td>H2O cluster version:</td>\n",
       "<td>3.10.1.2</td></tr>\n",
       "<tr><td>H2O cluster version age:</td>\n",
       "<td>2 months and 5 days </td></tr>\n",
       "<tr><td>H2O cluster name:</td>\n",
       "<td>H2O_from_python_hamelhusain_a536si</td></tr>\n",
       "<tr><td>H2O cluster total nodes:</td>\n",
       "<td>1</td></tr>\n",
       "<tr><td>H2O cluster free memory:</td>\n",
       "<td>3.418 Gb</td></tr>\n",
       "<tr><td>H2O cluster total cores:</td>\n",
       "<td>8</td></tr>\n",
       "<tr><td>H2O cluster allowed cores:</td>\n",
       "<td>8</td></tr>\n",
       "<tr><td>H2O cluster status:</td>\n",
       "<td>locked, healthy</td></tr>\n",
       "<tr><td>H2O connection url:</td>\n",
       "<td>http://localhost:54321</td></tr>\n",
       "<tr><td>H2O connection proxy:</td>\n",
       "<td>None</td></tr>\n",
       "<tr><td>Python version:</td>\n",
       "<td>3.5.2 final</td></tr></table></div>"
      ],
      "text/plain": [
       "--------------------------  ----------------------------------\n",
       "H2O cluster uptime:         10 mins 42 secs\n",
       "H2O cluster version:        3.10.1.2\n",
       "H2O cluster version age:    2 months and 5 days\n",
       "H2O cluster name:           H2O_from_python_hamelhusain_a536si\n",
       "H2O cluster total nodes:    1\n",
       "H2O cluster free memory:    3.418 Gb\n",
       "H2O cluster total cores:    8\n",
       "H2O cluster allowed cores:  8\n",
       "H2O cluster status:         locked, healthy\n",
       "H2O connection url:         http://localhost:54321\n",
       "H2O connection proxy:\n",
       "Python version:             3.5.2 final\n",
       "--------------------------  ----------------------------------"
      ]
     },
     "metadata": {},
     "output_type": "display_data"
    }
   ],
   "source": [
    "h2o.init()\n",
    "h2o.remove_all()"
   ]
  },
  {
   "cell_type": "markdown",
   "metadata": {},
   "source": [
    "## Read in Data"
   ]
  },
  {
   "cell_type": "code",
   "execution_count": 73,
   "metadata": {
    "ExecuteTime": {
     "end_time": "2017-02-08T07:05:21.982383",
     "start_time": "2017-02-08T07:05:21.203392"
    },
    "collapsed": false
   },
   "outputs": [],
   "source": [
    "df = pd.read_csv('/Users/hamelhusain/Dropbox/zidisha/Regression_Dataset_20170125.csv')\n",
    "id_fields = ['borrower_id', 'category_id', 'id']\n",
    "features = [c for c in df.columns if c not in id_fields]"
   ]
  },
  {
   "cell_type": "code",
   "execution_count": 74,
   "metadata": {
    "collapsed": false
   },
   "outputs": [],
   "source": [
    "columns = ['id', 'borrower_id', 'length(loans.proposal)', 'length(about_me)',\n",
    "       'length(about_business)', 'length(address_instructions)',\n",
    "       'missing_referred_by', 'application_time', \n",
    "       'friends_count', 'category_id', 'invited_flag', 'english_flag',\n",
    "       'usd_installment_amount', 'reserve_fee_pct', 'ip_user_count',\n",
    "       'parent_age_at_invite', 'parent_comment_cnt',\n",
    "       'parent_avg_char_per_comment', 'parent_repay_ratio',\n",
    "       'parent_usd_total_amount', 'parent_invited_count', 'peer_repay_ratio',\n",
    "       'peer_usd_total_amount', 'peer_network_comments_by',\n",
    "       'peer_network_avg_char_per_comment_by', 'peer_network_comments_about',\n",
    "       'peer_network_avg_char_per_comment_about', 'loan_usage', 'Prior Loans', 'default_flag']"
   ]
  },
  {
   "cell_type": "code",
   "execution_count": 75,
   "metadata": {
    "collapsed": false
   },
   "outputs": [],
   "source": [
    "#[str(x) for x in df[columns].dtypes.values]"
   ]
  },
  {
   "cell_type": "code",
   "execution_count": 76,
   "metadata": {
    "collapsed": false
   },
   "outputs": [],
   "source": [
    "col_types = ['int',\n",
    " 'int',\n",
    " 'int',\n",
    " 'real',\n",
    " 'real',\n",
    " 'int',\n",
    " 'int',\n",
    " 'real',\n",
    " 'real',\n",
    " 'enum',\n",
    " 'int',\n",
    " 'int',\n",
    " 'real',\n",
    " 'real',\n",
    " 'real',\n",
    " 'real',\n",
    " 'real',\n",
    " 'real',\n",
    " 'real',\n",
    " 'real',\n",
    " 'real',\n",
    " 'real',\n",
    " 'real',\n",
    " 'real',\n",
    " 'real',\n",
    " 'real',\n",
    " 'real',\n",
    " 'enum',\n",
    " 'int',\n",
    " 'enum']"
   ]
  },
  {
   "cell_type": "markdown",
   "metadata": {},
   "source": [
    "## Upload Data To H2O"
   ]
  },
  {
   "cell_type": "code",
   "execution_count": 78,
   "metadata": {
    "ExecuteTime": {
     "end_time": "2017-02-08T07:40:21.146933",
     "start_time": "2017-02-08T07:40:19.843274"
    },
    "collapsed": false
   },
   "outputs": [
    {
     "name": "stdout",
     "output_type": "stream",
     "text": [
      "Parse progress: |█████████████████████████████████████████████████████████| 100%\n"
     ]
    }
   ],
   "source": [
    "HF = h2o.H2OFrame()\n",
    "HDF = HF.from_python(df[columns], column_types = col_types)\n",
    "hgbm = gbm(nfolds=5, distribution='bernoulli')\n",
    "hyper_params = {'max_depth': [20], 'min_rows': [20, 40], 'ntrees':[30]}\n",
    "grid = H2OGridSearch(hgbm, hyper_params, grid_id='zidisha')"
   ]
  },
  {
   "cell_type": "markdown",
   "metadata": {},
   "source": [
    "## Split Train & Test"
   ]
  },
  {
   "cell_type": "code",
   "execution_count": 79,
   "metadata": {
    "ExecuteTime": {
     "end_time": "2017-02-08T07:40:30.224385",
     "start_time": "2017-02-08T07:40:30.042825"
    },
    "collapsed": false
   },
   "outputs": [
    {
     "name": "stdout",
     "output_type": "stream",
     "text": [
      "test set shape: (6199, 30)\n",
      "train set shape: (24941, 30)\n"
     ]
    }
   ],
   "source": [
    "test, train = HDF.split_frame([.2])\n",
    "print('test set shape:', test.shape)\n",
    "print('train set shape:', train.shape)"
   ]
  },
  {
   "cell_type": "markdown",
   "metadata": {},
   "source": [
    "## Train Model And Evaluate Results"
   ]
  },
  {
   "cell_type": "code",
   "execution_count": 80,
   "metadata": {
    "ExecuteTime": {
     "end_time": "2017-02-08T07:41:59.083958",
     "start_time": "2017-02-08T07:40:33.110088"
    },
    "collapsed": false
   },
   "outputs": [
    {
     "name": "stdout",
     "output_type": "stream",
     "text": [
      "gbm Grid Build progress: |████████████████████████████████████████████████| 100%\n"
     ]
    }
   ],
   "source": [
    "grid.train(x=features, y='default_flag', training_frame=train)"
   ]
  },
  {
   "cell_type": "code",
   "execution_count": 81,
   "metadata": {
    "ExecuteTime": {
     "end_time": "2017-02-08T07:42:01.534317",
     "start_time": "2017-02-08T07:42:01.301705"
    },
    "collapsed": false,
    "scrolled": false
   },
   "outputs": [
    {
     "data": {
      "text/html": [
       "<div>\n",
       "<table border=\"1\" class=\"dataframe\">\n",
       "  <thead>\n",
       "    <tr style=\"text-align: right;\">\n",
       "      <th></th>\n",
       "      <th></th>\n",
       "      <th>max_depth</th>\n",
       "      <th>min_rows</th>\n",
       "      <th>ntrees</th>\n",
       "      <th>model_ids</th>\n",
       "      <th>logloss</th>\n",
       "    </tr>\n",
       "  </thead>\n",
       "  <tbody>\n",
       "    <tr>\n",
       "      <th>0</th>\n",
       "      <td></td>\n",
       "      <td>20</td>\n",
       "      <td>20.0</td>\n",
       "      <td>30</td>\n",
       "      <td>zidisha_model_0</td>\n",
       "      <td>0.540005999122871</td>\n",
       "    </tr>\n",
       "    <tr>\n",
       "      <th>1</th>\n",
       "      <td></td>\n",
       "      <td>20</td>\n",
       "      <td>40.0</td>\n",
       "      <td>30</td>\n",
       "      <td>zidisha_model_1</td>\n",
       "      <td>0.5406877713183903</td>\n",
       "    </tr>\n",
       "  </tbody>\n",
       "</table>\n",
       "</div>"
      ],
      "text/plain": [
       "    max_depth min_rows ntrees        model_ids             logloss\n",
       "0          20     20.0     30  zidisha_model_0   0.540005999122871\n",
       "1          20     40.0     30  zidisha_model_1  0.5406877713183903"
      ]
     },
     "execution_count": 81,
     "metadata": {},
     "output_type": "execute_result"
    }
   ],
   "source": [
    "grid_results = grid.get_grid(sort_by='logloss', decreasing=False)\n",
    "grid_results.sorted_metric_table()"
   ]
  },
  {
   "cell_type": "code",
   "execution_count": 82,
   "metadata": {
    "ExecuteTime": {
     "end_time": "2017-02-08T07:42:05.567006",
     "start_time": "2017-02-08T07:42:05.504679"
    },
    "collapsed": false,
    "scrolled": false
   },
   "outputs": [
    {
     "name": "stdout",
     "output_type": "stream",
     "text": [
      "Model Details\n",
      "=============\n",
      "H2OGradientBoostingEstimator :  Gradient Boosting Machine\n",
      "Model Key:  zidisha_model_0\n",
      "\n",
      "\n",
      "ModelMetricsBinomial: gbm\n",
      "** Reported on train data. **\n",
      "\n",
      "MSE: 0.08644091055272848\n",
      "RMSE: 0.29400835116154184\n",
      "LogLoss: 0.31400952272797483\n",
      "Mean Per-Class Error: 0.07256562187802129\n",
      "AUC: 0.9809309558843343\n",
      "Gini: 0.9618619117686686\n",
      "Confusion Matrix (Act/Pred) for max f1 @ threshold = 0.42417330765549455: \n"
     ]
    },
    {
     "data": {
      "text/html": [
       "<div style=\"overflow:auto\"><table style=\"width:50%\"><tr><td><b></b></td>\n",
       "<td><b>0</b></td>\n",
       "<td><b>1</b></td>\n",
       "<td><b>Error</b></td>\n",
       "<td><b>Rate</b></td></tr>\n",
       "<tr><td>0</td>\n",
       "<td>12682.0</td>\n",
       "<td>987.0</td>\n",
       "<td>0.0722</td>\n",
       "<td> (987.0/13669.0)</td></tr>\n",
       "<tr><td>1</td>\n",
       "<td>822.0</td>\n",
       "<td>10450.0</td>\n",
       "<td>0.0729</td>\n",
       "<td> (822.0/11272.0)</td></tr>\n",
       "<tr><td>Total</td>\n",
       "<td>13504.0</td>\n",
       "<td>11437.0</td>\n",
       "<td>0.0725</td>\n",
       "<td> (1809.0/24941.0)</td></tr></table></div>"
      ],
      "text/plain": [
       "       0      1      Error    Rate\n",
       "-----  -----  -----  -------  ----------------\n",
       "0      12682  987    0.0722   (987.0/13669.0)\n",
       "1      822    10450  0.0729   (822.0/11272.0)\n",
       "Total  13504  11437  0.0725   (1809.0/24941.0)"
      ]
     },
     "metadata": {},
     "output_type": "display_data"
    },
    {
     "name": "stdout",
     "output_type": "stream",
     "text": [
      "Maximum Metrics: Maximum metrics at their respective thresholds\n",
      "\n"
     ]
    },
    {
     "data": {
      "text/html": [
       "<div style=\"overflow:auto\"><table style=\"width:50%\"><tr><td><b>metric</b></td>\n",
       "<td><b>threshold</b></td>\n",
       "<td><b>value</b></td>\n",
       "<td><b>idx</b></td></tr>\n",
       "<tr><td>max f1</td>\n",
       "<td>0.4241733</td>\n",
       "<td>0.9203400</td>\n",
       "<td>219.0</td></tr>\n",
       "<tr><td>max f2</td>\n",
       "<td>0.3497008</td>\n",
       "<td>0.9415003</td>\n",
       "<td>248.0</td></tr>\n",
       "<tr><td>max f0point5</td>\n",
       "<td>0.5077721</td>\n",
       "<td>0.9359630</td>\n",
       "<td>187.0</td></tr>\n",
       "<tr><td>max accuracy</td>\n",
       "<td>0.4380500</td>\n",
       "<td>0.9279099</td>\n",
       "<td>214.0</td></tr>\n",
       "<tr><td>max precision</td>\n",
       "<td>0.9703898</td>\n",
       "<td>1.0</td>\n",
       "<td>0.0</td></tr>\n",
       "<tr><td>max recall</td>\n",
       "<td>0.1648001</td>\n",
       "<td>1.0</td>\n",
       "<td>338.0</td></tr>\n",
       "<tr><td>max specificity</td>\n",
       "<td>0.9703898</td>\n",
       "<td>1.0</td>\n",
       "<td>0.0</td></tr>\n",
       "<tr><td>max absolute_mcc</td>\n",
       "<td>0.4380500</td>\n",
       "<td>0.8544043</td>\n",
       "<td>214.0</td></tr>\n",
       "<tr><td>max min_per_class_accuracy</td>\n",
       "<td>0.4241733</td>\n",
       "<td>0.9270759</td>\n",
       "<td>219.0</td></tr>\n",
       "<tr><td>max mean_per_class_accuracy</td>\n",
       "<td>0.4241733</td>\n",
       "<td>0.9274344</td>\n",
       "<td>219.0</td></tr></table></div>"
      ],
      "text/plain": [
       "metric                       threshold    value     idx\n",
       "---------------------------  -----------  --------  -----\n",
       "max f1                       0.424173     0.92034   219\n",
       "max f2                       0.349701     0.9415    248\n",
       "max f0point5                 0.507772     0.935963  187\n",
       "max accuracy                 0.43805      0.92791   214\n",
       "max precision                0.97039      1         0\n",
       "max recall                   0.1648       1         338\n",
       "max specificity              0.97039      1         0\n",
       "max absolute_mcc             0.43805      0.854404  214\n",
       "max min_per_class_accuracy   0.424173     0.927076  219\n",
       "max mean_per_class_accuracy  0.424173     0.927434  219"
      ]
     },
     "metadata": {},
     "output_type": "display_data"
    },
    {
     "name": "stdout",
     "output_type": "stream",
     "text": [
      "Gains/Lift Table: Avg response rate: 45.19 %\n",
      "\n"
     ]
    },
    {
     "data": {
      "text/html": [
       "<div style=\"overflow:auto\"><table style=\"width:50%\"><tr><td><b></b></td>\n",
       "<td><b>group</b></td>\n",
       "<td><b>cumulative_data_fraction</b></td>\n",
       "<td><b>lower_threshold</b></td>\n",
       "<td><b>lift</b></td>\n",
       "<td><b>cumulative_lift</b></td>\n",
       "<td><b>response_rate</b></td>\n",
       "<td><b>cumulative_response_rate</b></td>\n",
       "<td><b>capture_rate</b></td>\n",
       "<td><b>cumulative_capture_rate</b></td>\n",
       "<td><b>gain</b></td>\n",
       "<td><b>cumulative_gain</b></td></tr>\n",
       "<tr><td></td>\n",
       "<td>1</td>\n",
       "<td>0.0100237</td>\n",
       "<td>0.9651718</td>\n",
       "<td>2.2126508</td>\n",
       "<td>2.2126508</td>\n",
       "<td>1.0</td>\n",
       "<td>1.0</td>\n",
       "<td>0.0221789</td>\n",
       "<td>0.0221789</td>\n",
       "<td>121.2650816</td>\n",
       "<td>121.2650816</td></tr>\n",
       "<tr><td></td>\n",
       "<td>2</td>\n",
       "<td>0.0200072</td>\n",
       "<td>0.9599268</td>\n",
       "<td>2.2126508</td>\n",
       "<td>2.2126508</td>\n",
       "<td>1.0</td>\n",
       "<td>1.0</td>\n",
       "<td>0.0220901</td>\n",
       "<td>0.0442690</td>\n",
       "<td>121.2650816</td>\n",
       "<td>121.2650816</td></tr>\n",
       "<tr><td></td>\n",
       "<td>3</td>\n",
       "<td>0.0300309</td>\n",
       "<td>0.9540751</td>\n",
       "<td>2.2126508</td>\n",
       "<td>2.2126508</td>\n",
       "<td>1.0</td>\n",
       "<td>1.0</td>\n",
       "<td>0.0221789</td>\n",
       "<td>0.0664478</td>\n",
       "<td>121.2650816</td>\n",
       "<td>121.2650816</td></tr>\n",
       "<tr><td></td>\n",
       "<td>4</td>\n",
       "<td>0.0400144</td>\n",
       "<td>0.9471467</td>\n",
       "<td>2.2126508</td>\n",
       "<td>2.2126508</td>\n",
       "<td>1.0</td>\n",
       "<td>1.0</td>\n",
       "<td>0.0220901</td>\n",
       "<td>0.0885380</td>\n",
       "<td>121.2650816</td>\n",
       "<td>121.2650816</td></tr>\n",
       "<tr><td></td>\n",
       "<td>5</td>\n",
       "<td>0.0500381</td>\n",
       "<td>0.9398124</td>\n",
       "<td>2.2126508</td>\n",
       "<td>2.2126508</td>\n",
       "<td>1.0</td>\n",
       "<td>1.0</td>\n",
       "<td>0.0221789</td>\n",
       "<td>0.1107168</td>\n",
       "<td>121.2650816</td>\n",
       "<td>121.2650816</td></tr>\n",
       "<tr><td></td>\n",
       "<td>6</td>\n",
       "<td>0.1000361</td>\n",
       "<td>0.8989975</td>\n",
       "<td>2.2126508</td>\n",
       "<td>2.2126508</td>\n",
       "<td>1.0</td>\n",
       "<td>1.0</td>\n",
       "<td>0.1106281</td>\n",
       "<td>0.2213449</td>\n",
       "<td>121.2650816</td>\n",
       "<td>121.2650816</td></tr>\n",
       "<tr><td></td>\n",
       "<td>7</td>\n",
       "<td>0.1500341</td>\n",
       "<td>0.8459147</td>\n",
       "<td>2.2108764</td>\n",
       "<td>2.2120595</td>\n",
       "<td>0.9991981</td>\n",
       "<td>0.9997328</td>\n",
       "<td>0.1105394</td>\n",
       "<td>0.3318843</td>\n",
       "<td>121.0876437</td>\n",
       "<td>121.2059515</td></tr>\n",
       "<tr><td></td>\n",
       "<td>8</td>\n",
       "<td>0.2000321</td>\n",
       "<td>0.7861604</td>\n",
       "<td>2.2091021</td>\n",
       "<td>2.2113203</td>\n",
       "<td>0.9983962</td>\n",
       "<td>0.9993987</td>\n",
       "<td>0.1104507</td>\n",
       "<td>0.4423350</td>\n",
       "<td>120.9102058</td>\n",
       "<td>121.1320299</td></tr>\n",
       "<tr><td></td>\n",
       "<td>9</td>\n",
       "<td>0.3000281</td>\n",
       "<td>0.6530078</td>\n",
       "<td>2.1585323</td>\n",
       "<td>2.1937266</td>\n",
       "<td>0.9755413</td>\n",
       "<td>0.9914473</td>\n",
       "<td>0.2158446</td>\n",
       "<td>0.6581796</td>\n",
       "<td>115.8532252</td>\n",
       "<td>119.3726634</td></tr>\n",
       "<tr><td></td>\n",
       "<td>10</td>\n",
       "<td>0.4000241</td>\n",
       "<td>0.5067450</td>\n",
       "<td>1.9189911</td>\n",
       "<td>2.1250496</td>\n",
       "<td>0.8672815</td>\n",
       "<td>0.9604089</td>\n",
       "<td>0.1918914</td>\n",
       "<td>0.8500710</td>\n",
       "<td>91.8991065</td>\n",
       "<td>112.5049626</td></tr>\n",
       "<tr><td></td>\n",
       "<td>11</td>\n",
       "<td>0.5000200</td>\n",
       "<td>0.3721215</td>\n",
       "<td>1.0770482</td>\n",
       "<td>1.9154661</td>\n",
       "<td>0.4867682</td>\n",
       "<td>0.8656884</td>\n",
       "<td>0.1077005</td>\n",
       "<td>0.9577715</td>\n",
       "<td>7.7048152</td>\n",
       "<td>91.5466138</td></tr>\n",
       "<tr><td></td>\n",
       "<td>12</td>\n",
       "<td>0.6000160</td>\n",
       "<td>0.2831514</td>\n",
       "<td>0.3255986</td>\n",
       "<td>1.6505059</td>\n",
       "<td>0.1471532</td>\n",
       "<td>0.7459405</td>\n",
       "<td>0.0325586</td>\n",
       "<td>0.9903300</td>\n",
       "<td>-67.4401424</td>\n",
       "<td>65.0505918</td></tr>\n",
       "<tr><td></td>\n",
       "<td>13</td>\n",
       "<td>0.7000120</td>\n",
       "<td>0.2221479</td>\n",
       "<td>0.0771855</td>\n",
       "<td>1.4257587</td>\n",
       "<td>0.0348837</td>\n",
       "<td>0.6443668</td>\n",
       "<td>0.0077182</td>\n",
       "<td>0.9980483</td>\n",
       "<td>-92.2814506</td>\n",
       "<td>42.5758731</td></tr>\n",
       "<tr><td></td>\n",
       "<td>14</td>\n",
       "<td>0.8000080</td>\n",
       "<td>0.1714584</td>\n",
       "<td>0.0168566</td>\n",
       "<td>1.2496548</td>\n",
       "<td>0.0076183</td>\n",
       "<td>0.5647772</td>\n",
       "<td>0.0016856</td>\n",
       "<td>0.9997339</td>\n",
       "<td>-98.3143398</td>\n",
       "<td>24.9654791</td></tr>\n",
       "<tr><td></td>\n",
       "<td>15</td>\n",
       "<td>0.9000040</td>\n",
       "<td>0.1170441</td>\n",
       "<td>0.0026616</td>\n",
       "<td>1.1111062</td>\n",
       "<td>0.0012029</td>\n",
       "<td>0.5021606</td>\n",
       "<td>0.0002661</td>\n",
       "<td>1.0</td>\n",
       "<td>-99.7338431</td>\n",
       "<td>11.1106161</td></tr>\n",
       "<tr><td></td>\n",
       "<td>16</td>\n",
       "<td>1.0</td>\n",
       "<td>0.0290028</td>\n",
       "<td>0.0</td>\n",
       "<td>1.0</td>\n",
       "<td>0.0</td>\n",
       "<td>0.4519466</td>\n",
       "<td>0.0</td>\n",
       "<td>1.0</td>\n",
       "<td>-100.0</td>\n",
       "<td>0.0</td></tr></table></div>"
      ],
      "text/plain": [
       "    group    cumulative_data_fraction    lower_threshold    lift        cumulative_lift    response_rate    cumulative_response_rate    capture_rate    cumulative_capture_rate    gain      cumulative_gain\n",
       "--  -------  --------------------------  -----------------  ----------  -----------------  ---------------  --------------------------  --------------  -------------------------  --------  -----------------\n",
       "    1        0.0100237                   0.965172           2.21265     2.21265            1                1                           0.0221789       0.0221789                  121.265   121.265\n",
       "    2        0.0200072                   0.959927           2.21265     2.21265            1                1                           0.0220901       0.044269                   121.265   121.265\n",
       "    3        0.0300309                   0.954075           2.21265     2.21265            1                1                           0.0221789       0.0664478                  121.265   121.265\n",
       "    4        0.0400144                   0.947147           2.21265     2.21265            1                1                           0.0220901       0.088538                   121.265   121.265\n",
       "    5        0.0500381                   0.939812           2.21265     2.21265            1                1                           0.0221789       0.110717                   121.265   121.265\n",
       "    6        0.100036                    0.898997           2.21265     2.21265            1                1                           0.110628        0.221345                   121.265   121.265\n",
       "    7        0.150034                    0.845915           2.21088     2.21206            0.999198         0.999733                    0.110539        0.331884                   121.088   121.206\n",
       "    8        0.200032                    0.78616            2.2091      2.21132            0.998396         0.999399                    0.110451        0.442335                   120.91    121.132\n",
       "    9        0.300028                    0.653008           2.15853     2.19373            0.975541         0.991447                    0.215845        0.65818                    115.853   119.373\n",
       "    10       0.400024                    0.506745           1.91899     2.12505            0.867281         0.960409                    0.191891        0.850071                   91.8991   112.505\n",
       "    11       0.50002                     0.372121           1.07705     1.91547            0.486768         0.865688                    0.1077          0.957771                   7.70482   91.5466\n",
       "    12       0.600016                    0.283151           0.325599    1.65051            0.147153         0.745941                    0.0325586       0.99033                    -67.4401  65.0506\n",
       "    13       0.700012                    0.222148           0.0771855   1.42576            0.0348837        0.644367                    0.00771824      0.998048                   -92.2815  42.5759\n",
       "    14       0.800008                    0.171458           0.0168566   1.24965            0.00761828       0.564777                    0.00168559      0.999734                   -98.3143  24.9655\n",
       "    15       0.900004                    0.117044           0.00266157  1.11111            0.00120289       0.502161                    0.000266146     1                          -99.7338  11.1106\n",
       "    16       1                           0.0290028          0           1                  0                0.451947                    0               1                          -100      0"
      ]
     },
     "metadata": {},
     "output_type": "display_data"
    },
    {
     "name": "stdout",
     "output_type": "stream",
     "text": [
      "\n",
      "\n",
      "ModelMetricsBinomial: gbm\n",
      "** Reported on cross-validation data. **\n",
      "\n",
      "MSE: 0.18222955499303123\n",
      "RMSE: 0.4268835379738029\n",
      "LogLoss: 0.540005999122871\n",
      "Mean Per-Class Error: 0.2837686194603726\n",
      "AUC: 0.7908942464392211\n",
      "Gini: 0.5817884928784423\n",
      "Confusion Matrix (Act/Pred) for max f1 @ threshold = 0.36263722649996155: \n"
     ]
    },
    {
     "data": {
      "text/html": [
       "<div style=\"overflow:auto\"><table style=\"width:50%\"><tr><td><b></b></td>\n",
       "<td><b>0</b></td>\n",
       "<td><b>1</b></td>\n",
       "<td><b>Error</b></td>\n",
       "<td><b>Rate</b></td></tr>\n",
       "<tr><td>0</td>\n",
       "<td>8859.0</td>\n",
       "<td>4810.0</td>\n",
       "<td>0.3519</td>\n",
       "<td> (4810.0/13669.0)</td></tr>\n",
       "<tr><td>1</td>\n",
       "<td>2686.0</td>\n",
       "<td>8586.0</td>\n",
       "<td>0.2383</td>\n",
       "<td> (2686.0/11272.0)</td></tr>\n",
       "<tr><td>Total</td>\n",
       "<td>11545.0</td>\n",
       "<td>13396.0</td>\n",
       "<td>0.3005</td>\n",
       "<td> (7496.0/24941.0)</td></tr></table></div>"
      ],
      "text/plain": [
       "       0      1      Error    Rate\n",
       "-----  -----  -----  -------  ----------------\n",
       "0      8859   4810   0.3519   (4810.0/13669.0)\n",
       "1      2686   8586   0.2383   (2686.0/11272.0)\n",
       "Total  11545  13396  0.3005   (7496.0/24941.0)"
      ]
     },
     "metadata": {},
     "output_type": "display_data"
    },
    {
     "name": "stdout",
     "output_type": "stream",
     "text": [
      "Maximum Metrics: Maximum metrics at their respective thresholds\n",
      "\n"
     ]
    },
    {
     "data": {
      "text/html": [
       "<div style=\"overflow:auto\"><table style=\"width:50%\"><tr><td><b>metric</b></td>\n",
       "<td><b>threshold</b></td>\n",
       "<td><b>value</b></td>\n",
       "<td><b>idx</b></td></tr>\n",
       "<tr><td>max f1</td>\n",
       "<td>0.3626372</td>\n",
       "<td>0.6961245</td>\n",
       "<td>238.0</td></tr>\n",
       "<tr><td>max f2</td>\n",
       "<td>0.1383406</td>\n",
       "<td>0.8153885</td>\n",
       "<td>357.0</td></tr>\n",
       "<tr><td>max f0point5</td>\n",
       "<td>0.6013751</td>\n",
       "<td>0.7190933</td>\n",
       "<td>138.0</td></tr>\n",
       "<tr><td>max accuracy</td>\n",
       "<td>0.5366292</td>\n",
       "<td>0.7265547</td>\n",
       "<td>162.0</td></tr>\n",
       "<tr><td>max precision</td>\n",
       "<td>0.9715001</td>\n",
       "<td>1.0</td>\n",
       "<td>0.0</td></tr>\n",
       "<tr><td>max recall</td>\n",
       "<td>0.0412492</td>\n",
       "<td>1.0</td>\n",
       "<td>396.0</td></tr>\n",
       "<tr><td>max specificity</td>\n",
       "<td>0.9715001</td>\n",
       "<td>1.0</td>\n",
       "<td>0.0</td></tr>\n",
       "<tr><td>max absolute_mcc</td>\n",
       "<td>0.5783136</td>\n",
       "<td>0.4483149</td>\n",
       "<td>147.0</td></tr>\n",
       "<tr><td>max min_per_class_accuracy</td>\n",
       "<td>0.4060194</td>\n",
       "<td>0.7106991</td>\n",
       "<td>218.0</td></tr>\n",
       "<tr><td>max mean_per_class_accuracy</td>\n",
       "<td>0.4695435</td>\n",
       "<td>0.7162314</td>\n",
       "<td>190.0</td></tr></table></div>"
      ],
      "text/plain": [
       "metric                       threshold    value     idx\n",
       "---------------------------  -----------  --------  -----\n",
       "max f1                       0.362637     0.696125  238\n",
       "max f2                       0.138341     0.815388  357\n",
       "max f0point5                 0.601375     0.719093  138\n",
       "max accuracy                 0.536629     0.726555  162\n",
       "max precision                0.9715       1         0\n",
       "max recall                   0.0412492    1         396\n",
       "max specificity              0.9715       1         0\n",
       "max absolute_mcc             0.578314     0.448315  147\n",
       "max min_per_class_accuracy   0.406019     0.710699  218\n",
       "max mean_per_class_accuracy  0.469543     0.716231  190"
      ]
     },
     "metadata": {},
     "output_type": "display_data"
    },
    {
     "name": "stdout",
     "output_type": "stream",
     "text": [
      "Gains/Lift Table: Avg response rate: 45.19 %\n",
      "\n"
     ]
    },
    {
     "data": {
      "text/html": [
       "<div style=\"overflow:auto\"><table style=\"width:50%\"><tr><td><b></b></td>\n",
       "<td><b>group</b></td>\n",
       "<td><b>cumulative_data_fraction</b></td>\n",
       "<td><b>lower_threshold</b></td>\n",
       "<td><b>lift</b></td>\n",
       "<td><b>cumulative_lift</b></td>\n",
       "<td><b>response_rate</b></td>\n",
       "<td><b>cumulative_response_rate</b></td>\n",
       "<td><b>capture_rate</b></td>\n",
       "<td><b>cumulative_capture_rate</b></td>\n",
       "<td><b>gain</b></td>\n",
       "<td><b>cumulative_gain</b></td></tr>\n",
       "<tr><td></td>\n",
       "<td>1</td>\n",
       "<td>0.0100237</td>\n",
       "<td>0.9645713</td>\n",
       "<td>2.2038002</td>\n",
       "<td>2.2038002</td>\n",
       "<td>0.996</td>\n",
       "<td>0.996</td>\n",
       "<td>0.0220901</td>\n",
       "<td>0.0220901</td>\n",
       "<td>120.3800213</td>\n",
       "<td>120.3800213</td></tr>\n",
       "<tr><td></td>\n",
       "<td>2</td>\n",
       "<td>0.0200072</td>\n",
       "<td>0.9583768</td>\n",
       "<td>2.1859924</td>\n",
       "<td>2.1949141</td>\n",
       "<td>0.9879518</td>\n",
       "<td>0.9919840</td>\n",
       "<td>0.0218240</td>\n",
       "<td>0.0439141</td>\n",
       "<td>118.5992373</td>\n",
       "<td>119.4914136</td></tr>\n",
       "<tr><td></td>\n",
       "<td>3</td>\n",
       "<td>0.0300309</td>\n",
       "<td>0.9510550</td>\n",
       "<td>2.1949496</td>\n",
       "<td>2.1949260</td>\n",
       "<td>0.992</td>\n",
       "<td>0.9919893</td>\n",
       "<td>0.0220014</td>\n",
       "<td>0.0659155</td>\n",
       "<td>119.4949610</td>\n",
       "<td>119.4925977</td></tr>\n",
       "<tr><td></td>\n",
       "<td>4</td>\n",
       "<td>0.0400144</td>\n",
       "<td>0.9417037</td>\n",
       "<td>2.1415616</td>\n",
       "<td>2.1816116</td>\n",
       "<td>0.9678715</td>\n",
       "<td>0.9859719</td>\n",
       "<td>0.0213804</td>\n",
       "<td>0.0872960</td>\n",
       "<td>114.1561633</td>\n",
       "<td>118.1611626</td></tr>\n",
       "<tr><td></td>\n",
       "<td>5</td>\n",
       "<td>0.0500381</td>\n",
       "<td>0.9313735</td>\n",
       "<td>2.1241448</td>\n",
       "<td>2.1700998</td>\n",
       "<td>0.96</td>\n",
       "<td>0.9807692</td>\n",
       "<td>0.0212917</td>\n",
       "<td>0.1085877</td>\n",
       "<td>112.4144784</td>\n",
       "<td>117.0099839</td></tr>\n",
       "<tr><td></td>\n",
       "<td>6</td>\n",
       "<td>0.1000361</td>\n",
       "<td>0.8755742</td>\n",
       "<td>2.0227922</td>\n",
       "<td>2.0964756</td>\n",
       "<td>0.9141941</td>\n",
       "<td>0.9474950</td>\n",
       "<td>0.1011356</td>\n",
       "<td>0.2097232</td>\n",
       "<td>102.2792246</td>\n",
       "<td>109.6475563</td></tr>\n",
       "<tr><td></td>\n",
       "<td>7</td>\n",
       "<td>0.1500341</td>\n",
       "<td>0.8023088</td>\n",
       "<td>1.8684213</td>\n",
       "<td>2.0204778</td>\n",
       "<td>0.8444266</td>\n",
       "<td>0.9131480</td>\n",
       "<td>0.0934173</td>\n",
       "<td>0.3031405</td>\n",
       "<td>86.8421259</td>\n",
       "<td>102.0477776</td></tr>\n",
       "<tr><td></td>\n",
       "<td>8</td>\n",
       "<td>0.2000321</td>\n",
       "<td>0.7311753</td>\n",
       "<td>1.6200082</td>\n",
       "<td>1.9203804</td>\n",
       "<td>0.7321572</td>\n",
       "<td>0.8679094</td>\n",
       "<td>0.0809972</td>\n",
       "<td>0.3841377</td>\n",
       "<td>62.0008176</td>\n",
       "<td>92.0380444</td></tr>\n",
       "<tr><td></td>\n",
       "<td>9</td>\n",
       "<td>0.3000281</td>\n",
       "<td>0.5893090</td>\n",
       "<td>1.4141802</td>\n",
       "<td>1.7516696</td>\n",
       "<td>0.6391339</td>\n",
       "<td>0.7916611</td>\n",
       "<td>0.1414123</td>\n",
       "<td>0.5255500</td>\n",
       "<td>41.4180193</td>\n",
       "<td>75.1669576</td></tr>\n",
       "<tr><td></td>\n",
       "<td>10</td>\n",
       "<td>0.4000241</td>\n",
       "<td>0.4758105</td>\n",
       "<td>1.1072126</td>\n",
       "<td>1.5905715</td>\n",
       "<td>0.5004010</td>\n",
       "<td>0.7188534</td>\n",
       "<td>0.1107168</td>\n",
       "<td>0.6362669</td>\n",
       "<td>10.7212598</td>\n",
       "<td>59.0571480</td></tr>\n",
       "<tr><td></td>\n",
       "<td>11</td>\n",
       "<td>0.5000200</td>\n",
       "<td>0.3896158</td>\n",
       "<td>0.9315491</td>\n",
       "<td>1.4587776</td>\n",
       "<td>0.4210104</td>\n",
       "<td>0.6592896</td>\n",
       "<td>0.0931512</td>\n",
       "<td>0.7294180</td>\n",
       "<td>-6.8450939</td>\n",
       "<td>45.8777565</td></tr>\n",
       "<tr><td></td>\n",
       "<td>12</td>\n",
       "<td>0.6000160</td>\n",
       "<td>0.3215284</td>\n",
       "<td>0.7869372</td>\n",
       "<td>1.3468116</td>\n",
       "<td>0.3556536</td>\n",
       "<td>0.6086869</td>\n",
       "<td>0.0786906</td>\n",
       "<td>0.8081086</td>\n",
       "<td>-21.3062841</td>\n",
       "<td>34.6811646</td></tr>\n",
       "<tr><td></td>\n",
       "<td>13</td>\n",
       "<td>0.7000120</td>\n",
       "<td>0.2605536</td>\n",
       "<td>0.6653922</td>\n",
       "<td>1.2494716</td>\n",
       "<td>0.3007217</td>\n",
       "<td>0.5646944</td>\n",
       "<td>0.0665366</td>\n",
       "<td>0.8746451</td>\n",
       "<td>-33.4607814</td>\n",
       "<td>24.9471585</td></tr>\n",
       "<tr><td></td>\n",
       "<td>14</td>\n",
       "<td>0.8000080</td>\n",
       "<td>0.2038822</td>\n",
       "<td>0.5819964</td>\n",
       "<td>1.1660414</td>\n",
       "<td>0.2630313</td>\n",
       "<td>0.5269884</td>\n",
       "<td>0.0581973</td>\n",
       "<td>0.9328424</td>\n",
       "<td>-41.8003635</td>\n",
       "<td>16.6041364</td></tr>\n",
       "<tr><td></td>\n",
       "<td>15</td>\n",
       "<td>0.9000040</td>\n",
       "<td>0.1410170</td>\n",
       "<td>0.4391588</td>\n",
       "<td>1.0852802</td>\n",
       "<td>0.1984763</td>\n",
       "<td>0.4904887</td>\n",
       "<td>0.0439141</td>\n",
       "<td>0.9767566</td>\n",
       "<td>-56.0841157</td>\n",
       "<td>8.5280237</td></tr>\n",
       "<tr><td></td>\n",
       "<td>16</td>\n",
       "<td>1.0</td>\n",
       "<td>0.0215366</td>\n",
       "<td>0.2324437</td>\n",
       "<td>1.0</td>\n",
       "<td>0.1050521</td>\n",
       "<td>0.4519466</td>\n",
       "<td>0.0232434</td>\n",
       "<td>1.0</td>\n",
       "<td>-76.7556330</td>\n",
       "<td>0.0</td></tr></table></div>"
      ],
      "text/plain": [
       "    group    cumulative_data_fraction    lower_threshold    lift      cumulative_lift    response_rate    cumulative_response_rate    capture_rate    cumulative_capture_rate    gain      cumulative_gain\n",
       "--  -------  --------------------------  -----------------  --------  -----------------  ---------------  --------------------------  --------------  -------------------------  --------  -----------------\n",
       "    1        0.0100237                   0.964571           2.2038    2.2038             0.996            0.996                       0.0220901       0.0220901                  120.38    120.38\n",
       "    2        0.0200072                   0.958377           2.18599   2.19491            0.987952         0.991984                    0.021824        0.0439141                  118.599   119.491\n",
       "    3        0.0300309                   0.951055           2.19495   2.19493            0.992            0.991989                    0.0220014       0.0659155                  119.495   119.493\n",
       "    4        0.0400144                   0.941704           2.14156   2.18161            0.967871         0.985972                    0.0213804       0.087296                   114.156   118.161\n",
       "    5        0.0500381                   0.931373           2.12414   2.1701             0.96             0.980769                    0.0212917       0.108588                   112.414   117.01\n",
       "    6        0.100036                    0.875574           2.02279   2.09648            0.914194         0.947495                    0.101136        0.209723                   102.279   109.648\n",
       "    7        0.150034                    0.802309           1.86842   2.02048            0.844427         0.913148                    0.0934173       0.303141                   86.8421   102.048\n",
       "    8        0.200032                    0.731175           1.62001   1.92038            0.732157         0.867909                    0.0809972       0.384138                   62.0008   92.038\n",
       "    9        0.300028                    0.589309           1.41418   1.75167            0.639134         0.791661                    0.141412        0.52555                    41.418    75.167\n",
       "    10       0.400024                    0.47581            1.10721   1.59057            0.500401         0.718853                    0.110717        0.636267                   10.7213   59.0571\n",
       "    11       0.50002                     0.389616           0.931549  1.45878            0.42101          0.65929                     0.0931512       0.729418                   -6.84509  45.8778\n",
       "    12       0.600016                    0.321528           0.786937  1.34681            0.355654         0.608687                    0.0786906       0.808109                   -21.3063  34.6812\n",
       "    13       0.700012                    0.260554           0.665392  1.24947            0.300722         0.564694                    0.0665366       0.874645                   -33.4608  24.9472\n",
       "    14       0.800008                    0.203882           0.581996  1.16604            0.263031         0.526988                    0.0581973       0.932842                   -41.8004  16.6041\n",
       "    15       0.900004                    0.141017           0.439159  1.08528            0.198476         0.490489                    0.0439141       0.976757                   -56.0841  8.52802\n",
       "    16       1                           0.0215366          0.232444  1                  0.105052         0.451947                    0.0232434       1                          -76.7556  0"
      ]
     },
     "metadata": {},
     "output_type": "display_data"
    },
    {
     "name": "stdout",
     "output_type": "stream",
     "text": [
      "\n",
      "Cross-Validation Metrics Summary: \n"
     ]
    },
    {
     "data": {
      "text/html": [
       "<div style=\"overflow:auto\"><table style=\"width:50%\"><tr><td><b></b></td>\n",
       "<td><b>mean</b></td>\n",
       "<td><b>sd</b></td>\n",
       "<td><b>cv_1_valid</b></td>\n",
       "<td><b>cv_2_valid</b></td>\n",
       "<td><b>cv_3_valid</b></td>\n",
       "<td><b>cv_4_valid</b></td>\n",
       "<td><b>cv_5_valid</b></td></tr>\n",
       "<tr><td>accuracy</td>\n",
       "<td>0.6944594</td>\n",
       "<td>0.0080561</td>\n",
       "<td>0.685479</td>\n",
       "<td>0.6991484</td>\n",
       "<td>0.706278</td>\n",
       "<td>0.7044502</td>\n",
       "<td>0.6769416</td></tr>\n",
       "<tr><td>auc</td>\n",
       "<td>0.7911798</td>\n",
       "<td>0.0070518</td>\n",
       "<td>0.8082987</td>\n",
       "<td>0.7812758</td>\n",
       "<td>0.7948132</td>\n",
       "<td>0.7816272</td>\n",
       "<td>0.7898843</td></tr>\n",
       "<tr><td>err</td>\n",
       "<td>0.3055406</td>\n",
       "<td>0.0080561</td>\n",
       "<td>0.3145210</td>\n",
       "<td>0.3008516</td>\n",
       "<td>0.2937220</td>\n",
       "<td>0.2955498</td>\n",
       "<td>0.3230585</td></tr>\n",
       "<tr><td>err_count</td>\n",
       "<td>1524.2</td>\n",
       "<td>43.158775</td>\n",
       "<td>1566.0</td>\n",
       "<td>1519.0</td>\n",
       "<td>1441.0</td>\n",
       "<td>1481.0</td>\n",
       "<td>1614.0</td></tr>\n",
       "<tr><td>f0point5</td>\n",
       "<td>0.656682</td>\n",
       "<td>0.0085493</td>\n",
       "<td>0.6390042</td>\n",
       "<td>0.6558023</td>\n",
       "<td>0.6728051</td>\n",
       "<td>0.6666944</td>\n",
       "<td>0.6491041</td></tr>\n",
       "<tr><td>f1</td>\n",
       "<td>0.6980237</td>\n",
       "<td>0.0074751</td>\n",
       "<td>0.7023945</td>\n",
       "<td>0.6868687</td>\n",
       "<td>0.7096514</td>\n",
       "<td>0.6840196</td>\n",
       "<td>0.7071843</td></tr>\n",
       "<tr><td>f2</td>\n",
       "<td>0.7460976</td>\n",
       "<td>0.0215381</td>\n",
       "<td>0.7797468</td>\n",
       "<td>0.7210249</td>\n",
       "<td>0.7507674</td>\n",
       "<td>0.7022693</td>\n",
       "<td>0.7766797</td></tr>\n",
       "<tr><td>lift_top_group</td>\n",
       "<td>2.2046375</td>\n",
       "<td>0.0326171</td>\n",
       "<td>2.2219582</td>\n",
       "<td>2.2600715</td>\n",
       "<td>2.1756098</td>\n",
       "<td>2.235058</td>\n",
       "<td>2.1304903</td></tr>\n",
       "<tr><td>logloss</td>\n",
       "<td>0.5399684</td>\n",
       "<td>0.0070965</td>\n",
       "<td>0.5210699</td>\n",
       "<td>0.546563</td>\n",
       "<td>0.5383896</td>\n",
       "<td>0.5483429</td>\n",
       "<td>0.5454763</td></tr>\n",
       "<tr><td>max_per_class_error</td>\n",
       "<td>0.3792488</td>\n",
       "<td>0.0420645</td>\n",
       "<td>0.4376572</td>\n",
       "<td>0.3378331</td>\n",
       "<td>0.3572237</td>\n",
       "<td>0.3040809</td>\n",
       "<td>0.4594493</td></tr>\n",
       "<tr><td>mcc</td>\n",
       "<td>0.407232</td>\n",
       "<td>0.0090847</td>\n",
       "<td>0.4122625</td>\n",
       "<td>0.4054771</td>\n",
       "<td>0.4246256</td>\n",
       "<td>0.4087462</td>\n",
       "<td>0.3850486</td></tr>\n",
       "<tr><td>mean_per_class_accuracy</td>\n",
       "<td>0.7018081</td>\n",
       "<td>0.0061139</td>\n",
       "<td>0.7019364</td>\n",
       "<td>0.7039573</td>\n",
       "<td>0.7118538</td>\n",
       "<td>0.7054529</td>\n",
       "<td>0.6858404</td></tr>\n",
       "<tr><td>mean_per_class_error</td>\n",
       "<td>0.2981918</td>\n",
       "<td>0.0061139</td>\n",
       "<td>0.2980636</td>\n",
       "<td>0.2960427</td>\n",
       "<td>0.2881462</td>\n",
       "<td>0.2945471</td>\n",
       "<td>0.3141596</td></tr>\n",
       "<tr><td>mse</td>\n",
       "<td>0.1822148</td>\n",
       "<td>0.0029885</td>\n",
       "<td>0.1741794</td>\n",
       "<td>0.1848810</td>\n",
       "<td>0.1818041</td>\n",
       "<td>0.1857227</td>\n",
       "<td>0.1844869</td></tr>\n",
       "<tr><td>precision</td>\n",
       "<td>0.6321349</td>\n",
       "<td>0.0143016</td>\n",
       "<td>0.6027398</td>\n",
       "<td>0.6366068</td>\n",
       "<td>0.6502954</td>\n",
       "<td>0.6556237</td>\n",
       "<td>0.6154089</td></tr>\n",
       "<tr><td>r2</td>\n",
       "<td>0.2640206</td>\n",
       "<td>0.0114818</td>\n",
       "<td>0.293462</td>\n",
       "<td>0.2505523</td>\n",
       "<td>0.2680144</td>\n",
       "<td>0.2488005</td>\n",
       "<td>0.2592736</td></tr>\n",
       "<tr><td>recall</td>\n",
       "<td>0.7828651</td>\n",
       "<td>0.0342929</td>\n",
       "<td>0.84153</td>\n",
       "<td>0.7457476</td>\n",
       "<td>0.7809312</td>\n",
       "<td>0.7149866</td>\n",
       "<td>0.8311301</td></tr>\n",
       "<tr><td>rmse</td>\n",
       "<td>0.4268372</td>\n",
       "<td>0.0035252</td>\n",
       "<td>0.4173481</td>\n",
       "<td>0.4299779</td>\n",
       "<td>0.4263850</td>\n",
       "<td>0.4309556</td>\n",
       "<td>0.4295194</td></tr>\n",
       "<tr><td>specificity</td>\n",
       "<td>0.6207512</td>\n",
       "<td>0.0420645</td>\n",
       "<td>0.5623428</td>\n",
       "<td>0.6621670</td>\n",
       "<td>0.6427763</td>\n",
       "<td>0.6959191</td>\n",
       "<td>0.5405507</td></tr></table></div>"
      ],
      "text/plain": [
       "                         mean      sd          cv_1_valid    cv_2_valid    cv_3_valid    cv_4_valid    cv_5_valid\n",
       "-----------------------  --------  ----------  ------------  ------------  ------------  ------------  ------------\n",
       "accuracy                 0.694459  0.00805608  0.685479      0.699148      0.706278      0.70445       0.676942\n",
       "auc                      0.79118   0.0070518   0.808299      0.781276      0.794813      0.781627      0.789884\n",
       "err                      0.305541  0.00805608  0.314521      0.300852      0.293722      0.29555       0.323058\n",
       "err_count                1524.2    43.1588     1566          1519          1441          1481          1614\n",
       "f0point5                 0.656682  0.00854931  0.639004      0.655802      0.672805      0.666694      0.649104\n",
       "f1                       0.698024  0.00747512  0.702395      0.686869      0.709651      0.68402       0.707184\n",
       "f2                       0.746098  0.0215381   0.779747      0.721025      0.750767      0.702269      0.77668\n",
       "lift_top_group           2.20464   0.0326171   2.22196       2.26007       2.17561       2.23506       2.13049\n",
       "logloss                  0.539968  0.00709649  0.52107       0.546563      0.53839       0.548343      0.545476\n",
       "max_per_class_error      0.379249  0.0420645   0.437657      0.337833      0.357224      0.304081      0.459449\n",
       "mcc                      0.407232  0.00908472  0.412263      0.405477      0.424626      0.408746      0.385049\n",
       "mean_per_class_accuracy  0.701808  0.00611394  0.701936      0.703957      0.711854      0.705453      0.68584\n",
       "mean_per_class_error     0.298192  0.00611394  0.298064      0.296043      0.288146      0.294547      0.31416\n",
       "mse                      0.182215  0.00298852  0.174179      0.184881      0.181804      0.185723      0.184487\n",
       "precision                0.632135  0.0143016   0.60274       0.636607      0.650295      0.655624      0.615409\n",
       "r2                       0.264021  0.0114818   0.293462      0.250552      0.268014      0.248801      0.259274\n",
       "recall                   0.782865  0.0342929   0.84153       0.745748      0.780931      0.714987      0.83113\n",
       "rmse                     0.426837  0.00352516  0.417348      0.429978      0.426385      0.430956      0.429519\n",
       "specificity              0.620751  0.0420645   0.562343      0.662167      0.642776      0.695919      0.540551"
      ]
     },
     "metadata": {},
     "output_type": "display_data"
    },
    {
     "name": "stdout",
     "output_type": "stream",
     "text": [
      "Scoring History: \n"
     ]
    },
    {
     "data": {
      "text/html": [
       "<div style=\"overflow:auto\"><table style=\"width:50%\"><tr><td><b></b></td>\n",
       "<td><b>timestamp</b></td>\n",
       "<td><b>duration</b></td>\n",
       "<td><b>number_of_trees</b></td>\n",
       "<td><b>training_rmse</b></td>\n",
       "<td><b>training_logloss</b></td>\n",
       "<td><b>training_auc</b></td>\n",
       "<td><b>training_lift</b></td>\n",
       "<td><b>training_classification_error</b></td></tr>\n",
       "<tr><td></td>\n",
       "<td>2017-02-19 15:59:53</td>\n",
       "<td>32.152 sec</td>\n",
       "<td>0.0</td>\n",
       "<td>0.4976855</td>\n",
       "<td>0.6885218</td>\n",
       "<td>0.5</td>\n",
       "<td>1.0</td>\n",
       "<td>0.5480534</td></tr>\n",
       "<tr><td></td>\n",
       "<td>2017-02-19 15:59:54</td>\n",
       "<td>32.348 sec</td>\n",
       "<td>1.0</td>\n",
       "<td>0.4804385</td>\n",
       "<td>0.6544471</td>\n",
       "<td>0.8445332</td>\n",
       "<td>2.2126508</td>\n",
       "<td>0.2638627</td></tr>\n",
       "<tr><td></td>\n",
       "<td>2017-02-19 15:59:54</td>\n",
       "<td>32.490 sec</td>\n",
       "<td>2.0</td>\n",
       "<td>0.4652605</td>\n",
       "<td>0.6252141</td>\n",
       "<td>0.8659026</td>\n",
       "<td>2.2126508</td>\n",
       "<td>0.2351149</td></tr>\n",
       "<tr><td></td>\n",
       "<td>2017-02-19 15:59:54</td>\n",
       "<td>32.800 sec</td>\n",
       "<td>3.0</td>\n",
       "<td>0.4512631</td>\n",
       "<td>0.5987212</td>\n",
       "<td>0.8865311</td>\n",
       "<td>2.2126508</td>\n",
       "<td>0.2143860</td></tr>\n",
       "<tr><td></td>\n",
       "<td>2017-02-19 15:59:54</td>\n",
       "<td>32.982 sec</td>\n",
       "<td>4.0</td>\n",
       "<td>0.4387141</td>\n",
       "<td>0.5752094</td>\n",
       "<td>0.8983172</td>\n",
       "<td>2.2126508</td>\n",
       "<td>0.1971052</td></tr>\n",
       "<tr><td></td>\n",
       "<td>2017-02-19 15:59:55</td>\n",
       "<td>33.174 sec</td>\n",
       "<td>5.0</td>\n",
       "<td>0.4273872</td>\n",
       "<td>0.5540918</td>\n",
       "<td>0.9070973</td>\n",
       "<td>2.2126508</td>\n",
       "<td>0.1855980</td></tr>\n",
       "<tr><td></td>\n",
       "<td>2017-02-19 15:59:55</td>\n",
       "<td>33.400 sec</td>\n",
       "<td>6.0</td>\n",
       "<td>0.4170298</td>\n",
       "<td>0.5348353</td>\n",
       "<td>0.9140598</td>\n",
       "<td>2.2126508</td>\n",
       "<td>0.1832725</td></tr>\n",
       "<tr><td></td>\n",
       "<td>2017-02-19 15:59:55</td>\n",
       "<td>33.623 sec</td>\n",
       "<td>7.0</td>\n",
       "<td>0.4073610</td>\n",
       "<td>0.5169234</td>\n",
       "<td>0.9207208</td>\n",
       "<td>2.2126508</td>\n",
       "<td>0.1711639</td></tr>\n",
       "<tr><td></td>\n",
       "<td>2017-02-19 15:59:55</td>\n",
       "<td>33.863 sec</td>\n",
       "<td>8.0</td>\n",
       "<td>0.3985763</td>\n",
       "<td>0.5006357</td>\n",
       "<td>0.9263059</td>\n",
       "<td>2.2126508</td>\n",
       "<td>0.1602983</td></tr>\n",
       "<tr><td></td>\n",
       "<td>2017-02-19 15:59:56</td>\n",
       "<td>34.184 sec</td>\n",
       "<td>9.0</td>\n",
       "<td>0.3904916</td>\n",
       "<td>0.4856737</td>\n",
       "<td>0.9316146</td>\n",
       "<td>2.2126508</td>\n",
       "<td>0.1541638</td></tr>\n",
       "<tr><td></td>\n",
       "<td>2017-02-19 15:59:56</td>\n",
       "<td>34.438 sec</td>\n",
       "<td>10.0</td>\n",
       "<td>0.3834320</td>\n",
       "<td>0.4725328</td>\n",
       "<td>0.9355837</td>\n",
       "<td>2.2126508</td>\n",
       "<td>0.1513572</td></tr>\n",
       "<tr><td></td>\n",
       "<td>2017-02-19 15:59:56</td>\n",
       "<td>34.701 sec</td>\n",
       "<td>11.0</td>\n",
       "<td>0.3767841</td>\n",
       "<td>0.4601229</td>\n",
       "<td>0.9388411</td>\n",
       "<td>2.2126508</td>\n",
       "<td>0.1437392</td></tr>\n",
       "<tr><td></td>\n",
       "<td>2017-02-19 15:59:56</td>\n",
       "<td>34.983 sec</td>\n",
       "<td>12.0</td>\n",
       "<td>0.3705087</td>\n",
       "<td>0.4484571</td>\n",
       "<td>0.9419821</td>\n",
       "<td>2.2126508</td>\n",
       "<td>0.1408123</td></tr>\n",
       "<tr><td></td>\n",
       "<td>2017-02-19 15:59:57</td>\n",
       "<td>35.280 sec</td>\n",
       "<td>13.0</td>\n",
       "<td>0.3646114</td>\n",
       "<td>0.4374733</td>\n",
       "<td>0.9448952</td>\n",
       "<td>2.2126508</td>\n",
       "<td>0.1330340</td></tr>\n",
       "<tr><td></td>\n",
       "<td>2017-02-19 15:59:57</td>\n",
       "<td>35.599 sec</td>\n",
       "<td>14.0</td>\n",
       "<td>0.3591491</td>\n",
       "<td>0.4273508</td>\n",
       "<td>0.9478738</td>\n",
       "<td>2.2126508</td>\n",
       "<td>0.1305882</td></tr>\n",
       "<tr><td></td>\n",
       "<td>2017-02-19 15:59:57</td>\n",
       "<td>35.925 sec</td>\n",
       "<td>15.0</td>\n",
       "<td>0.3538188</td>\n",
       "<td>0.4175481</td>\n",
       "<td>0.9509535</td>\n",
       "<td>2.2126508</td>\n",
       "<td>0.1271801</td></tr>\n",
       "<tr><td></td>\n",
       "<td>2017-02-19 15:59:59</td>\n",
       "<td>37.240 sec</td>\n",
       "<td>30.0</td>\n",
       "<td>0.2940084</td>\n",
       "<td>0.3140095</td>\n",
       "<td>0.9809310</td>\n",
       "<td>2.2126508</td>\n",
       "<td>0.0725312</td></tr></table></div>"
      ],
      "text/plain": [
       "    timestamp            duration    number_of_trees    training_rmse    training_logloss    training_auc    training_lift    training_classification_error\n",
       "--  -------------------  ----------  -----------------  ---------------  ------------------  --------------  ---------------  -------------------------------\n",
       "    2017-02-19 15:59:53  32.152 sec  0                  0.497686         0.688522            0.5             1                0.548053\n",
       "    2017-02-19 15:59:54  32.348 sec  1                  0.480438         0.654447            0.844533        2.21265          0.263863\n",
       "    2017-02-19 15:59:54  32.490 sec  2                  0.46526          0.625214            0.865903        2.21265          0.235115\n",
       "    2017-02-19 15:59:54  32.800 sec  3                  0.451263         0.598721            0.886531        2.21265          0.214386\n",
       "    2017-02-19 15:59:54  32.982 sec  4                  0.438714         0.575209            0.898317        2.21265          0.197105\n",
       "    2017-02-19 15:59:55  33.174 sec  5                  0.427387         0.554092            0.907097        2.21265          0.185598\n",
       "    2017-02-19 15:59:55  33.400 sec  6                  0.41703          0.534835            0.91406         2.21265          0.183273\n",
       "    2017-02-19 15:59:55  33.623 sec  7                  0.407361         0.516923            0.920721        2.21265          0.171164\n",
       "    2017-02-19 15:59:55  33.863 sec  8                  0.398576         0.500636            0.926306        2.21265          0.160298\n",
       "    2017-02-19 15:59:56  34.184 sec  9                  0.390492         0.485674            0.931615        2.21265          0.154164\n",
       "    2017-02-19 15:59:56  34.438 sec  10                 0.383432         0.472533            0.935584        2.21265          0.151357\n",
       "    2017-02-19 15:59:56  34.701 sec  11                 0.376784         0.460123            0.938841        2.21265          0.143739\n",
       "    2017-02-19 15:59:56  34.983 sec  12                 0.370509         0.448457            0.941982        2.21265          0.140812\n",
       "    2017-02-19 15:59:57  35.280 sec  13                 0.364611         0.437473            0.944895        2.21265          0.133034\n",
       "    2017-02-19 15:59:57  35.599 sec  14                 0.359149         0.427351            0.947874        2.21265          0.130588\n",
       "    2017-02-19 15:59:57  35.925 sec  15                 0.353819         0.417548            0.950953        2.21265          0.12718\n",
       "    2017-02-19 15:59:59  37.240 sec  30                 0.294008         0.31401             0.980931        2.21265          0.0725312"
      ]
     },
     "metadata": {},
     "output_type": "display_data"
    },
    {
     "name": "stdout",
     "output_type": "stream",
     "text": [
      "Variable Importances: \n"
     ]
    },
    {
     "data": {
      "text/html": [
       "<div style=\"overflow:auto\"><table style=\"width:50%\"><tr><td><b>variable</b></td>\n",
       "<td><b>relative_importance</b></td>\n",
       "<td><b>scaled_importance</b></td>\n",
       "<td><b>percentage</b></td></tr>\n",
       "<tr><td>parent_repay_ratio</td>\n",
       "<td>3225.5710449</td>\n",
       "<td>1.0</td>\n",
       "<td>0.1551331</td></tr>\n",
       "<tr><td>reserve_fee_pct</td>\n",
       "<td>2195.3669434</td>\n",
       "<td>0.6806134</td>\n",
       "<td>0.1055857</td></tr>\n",
       "<tr><td>usd_installment_amount</td>\n",
       "<td>1578.3438721</td>\n",
       "<td>0.4893223</td>\n",
       "<td>0.0759101</td></tr>\n",
       "<tr><td>length(address_instructions)</td>\n",
       "<td>1357.3443604</td>\n",
       "<td>0.4208075</td>\n",
       "<td>0.0652812</td></tr>\n",
       "<tr><td>application_time</td>\n",
       "<td>1273.7399902</td>\n",
       "<td>0.3948882</td>\n",
       "<td>0.0612602</td></tr>\n",
       "<tr><td>---</td>\n",
       "<td>---</td>\n",
       "<td>---</td>\n",
       "<td>---</td></tr>\n",
       "<tr><td>missing_referred_by</td>\n",
       "<td>182.2612610</td>\n",
       "<td>0.0565051</td>\n",
       "<td>0.0087658</td></tr>\n",
       "<tr><td>peer_network_comments_by</td>\n",
       "<td>180.2558136</td>\n",
       "<td>0.0558834</td>\n",
       "<td>0.0086694</td></tr>\n",
       "<tr><td>peer_network_avg_char_per_comment_about</td>\n",
       "<td>177.6522522</td>\n",
       "<td>0.0550762</td>\n",
       "<td>0.0085441</td></tr>\n",
       "<tr><td>peer_repay_ratio</td>\n",
       "<td>124.4970245</td>\n",
       "<td>0.0385969</td>\n",
       "<td>0.0059877</td></tr>\n",
       "<tr><td>invited_flag</td>\n",
       "<td>0.6376617</td>\n",
       "<td>0.0001977</td>\n",
       "<td>0.0000307</td></tr></table></div>"
      ],
      "text/plain": [
       "variable                                 relative_importance    scaled_importance       percentage\n",
       "---------------------------------------  ---------------------  ----------------------  ----------------------\n",
       "parent_repay_ratio                       3225.571044921875      1.0                     0.1551331049620641\n",
       "reserve_fee_pct                          2195.366943359375      0.6806134209369268      0.10558567326879778\n",
       "usd_installment_amount                   1578.3438720703125     0.4893223091629472      0.07591008914765507\n",
       "length(address_instructions)             1357.3443603515625     0.42080746058545987     0.0652811679518238\n",
       "application_time                         1273.739990234375      0.39488821436429583     0.06126023480725837\n",
       "---                                      ---                    ---                     ---\n",
       "missing_referred_by                      182.26126098632812     0.05650511442718589     0.008765813847326071\n",
       "peer_network_comments_by                 180.2558135986328      0.0558833803652893      0.008669362311843377\n",
       "peer_network_avg_char_per_comment_about  177.65225219726562     0.055076217427283004    0.008544144619060159\n",
       "peer_repay_ratio                         124.49702453613281     0.03859689425602101     0.005987656047828997\n",
       "invited_flag                             0.6376616954803467     0.00019768955220634155  3.0668194052329834e-05"
      ]
     },
     "metadata": {},
     "output_type": "display_data"
    },
    {
     "name": "stdout",
     "output_type": "stream",
     "text": [
      "\n",
      "See the whole table with table.as_data_frame()\n"
     ]
    },
    {
     "data": {
      "text/plain": [
       "<bound method ModelBase.coef_norm of >"
      ]
     },
     "execution_count": 82,
     "metadata": {},
     "output_type": "execute_result"
    }
   ],
   "source": [
    "best_model = grid_results[0]\n",
    "best_model.coef_norm"
   ]
  },
  {
   "cell_type": "code",
   "execution_count": 83,
   "metadata": {
    "ExecuteTime": {
     "end_time": "2017-02-08T07:42:15.315706",
     "start_time": "2017-02-08T07:42:15.016498"
    },
    "collapsed": false
   },
   "outputs": [
    {
     "name": "stdout",
     "output_type": "stream",
     "text": [
      "gbm prediction progress: |████████████████████████████████████████████████| 100%\n"
     ]
    }
   ],
   "source": [
    "holdout_preds = best_model.predict(test)['p1']\n",
    "holdout_eval = pd.concat([holdout_preds['p1'].as_data_frame(), test['default_flag'].as_data_frame()], axis = 1)"
   ]
  },
  {
   "cell_type": "code",
   "execution_count": 84,
   "metadata": {
    "ExecuteTime": {
     "end_time": "2017-02-08T07:42:43.339087",
     "start_time": "2017-02-08T07:42:43.332825"
    },
    "collapsed": false
   },
   "outputs": [
    {
     "name": "stdout",
     "output_type": "stream",
     "text": [
      "holdout log-loss: 0.534793141864\n"
     ]
    }
   ],
   "source": [
    "print('holdout log-loss:', log_loss(holdout_eval.default_flag.values, holdout_eval.p1.values))"
   ]
  },
  {
   "cell_type": "markdown",
   "metadata": {},
   "source": [
    "## Save Best Model To Disk"
   ]
  },
  {
   "cell_type": "markdown",
   "metadata": {},
   "source": [
    "We must save path to disk, unfortunately I cannot specify the name of the file"
   ]
  },
  {
   "cell_type": "code",
   "execution_count": 85,
   "metadata": {
    "collapsed": false
   },
   "outputs": [
    {
     "name": "stdout",
     "output_type": "stream",
     "text": [
      "Model is saved to this path:  /Users/hamelhusain/Dropbox/zidisha/models/zidisha_model_0\n"
     ]
    }
   ],
   "source": [
    "#the path the model is to be saved on\n",
    "model_save_path = '/Users/hamelhusain/Dropbox/zidisha/models/'\n",
    "#before we save the model, clear the directory of previous model\n",
    "shutil.rmtree(model_save_path)\n",
    "#save the model to the saved path\n",
    "saved_model = h2o.save_model(best_model, path = model_save_path)\n",
    "print('Model is saved to this path: ', saved_model)"
   ]
  },
  {
   "cell_type": "markdown",
   "metadata": {},
   "source": [
    "## Load Model From Disk"
   ]
  },
  {
   "cell_type": "code",
   "execution_count": 86,
   "metadata": {
    "collapsed": false
   },
   "outputs": [],
   "source": [
    "#inspect the model directory to retrieve the filename of the model object\n",
    "models = os.listdir(model_save_path)\n",
    "\n",
    "#check to make sure there is only one model object in the directory, if there \n",
    "# is no model file or there is more than one model then raise an error.  \n",
    "assert len(models) == 1, \\\n",
    "    ('Exactly one model must be present in path: {}\\n Clear this directory, retrain the model and try again'.\n",
    "     format(model_save_path))"
   ]
  },
  {
   "cell_type": "code",
   "execution_count": 87,
   "metadata": {
    "collapsed": false
   },
   "outputs": [
    {
     "name": "stdout",
     "output_type": "stream",
     "text": [
      "loading model from: /Users/hamelhusain/Dropbox/zidisha/models/zidisha_model_0\n"
     ]
    }
   ],
   "source": [
    "#Construct the model's full path\n",
    "full_model_path = model_save_path + models[0]\n",
    "\n",
    "#print the full path for verfication and load model\n",
    "print('loading model from: {}'.format(full_model_path))\n",
    "final_model = h2o.load_model(full_model_path)"
   ]
  },
  {
   "cell_type": "markdown",
   "metadata": {},
   "source": [
    "## Use Model To Make Prediction"
   ]
  },
  {
   "cell_type": "code",
   "execution_count": 88,
   "metadata": {
    "collapsed": false
   },
   "outputs": [
    {
     "name": "stdout",
     "output_type": "stream",
     "text": [
      "Parse progress: |█████████████████████████████████████████████████████████| 100%\n"
     ]
    }
   ],
   "source": [
    "#Load loans to be scored into H2o\n",
    "df_predict = pd.read_csv('/Users/hamelhusain/Dropbox/zidisha/for_predictions.csv')\n",
    "pred_cols = columns[:-1]\n",
    "pred_col_types = col_types[:-1]\n",
    "\n",
    "HDF_predict = HF.from_python(df_predict, column_types=pred_col_types)"
   ]
  },
  {
   "cell_type": "code",
   "execution_count": 89,
   "metadata": {
    "collapsed": false,
    "scrolled": false
   },
   "outputs": [
    {
     "name": "stdout",
     "output_type": "stream",
     "text": [
      "gbm prediction progress: |████████████████████████████████████████████████| 100%\n"
     ]
    },
    {
     "data": {
      "text/html": [
       "<table>\n",
       "<thead>\n",
       "<tr><th style=\"text-align: right;\">  borrower_id</th><th>category_id  </th><th style=\"text-align: right;\">   id</th><th style=\"text-align: right;\">  Default_Prediction</th></tr>\n",
       "</thead>\n",
       "<tbody>\n",
       "<tr><td style=\"text-align: right;\">        15031</td><td>nan          </td><td style=\"text-align: right;\"> 4863</td><td style=\"text-align: right;\">            0.197912</td></tr>\n",
       "<tr><td style=\"text-align: right;\">        15031</td><td>nan          </td><td style=\"text-align: right;\"> 5687</td><td style=\"text-align: right;\">            0.15878 </td></tr>\n",
       "<tr><td style=\"text-align: right;\">        15057</td><td>nan          </td><td style=\"text-align: right;\"> 4895</td><td style=\"text-align: right;\">            0.227824</td></tr>\n",
       "<tr><td style=\"text-align: right;\">        15057</td><td>9c           </td><td style=\"text-align: right;\">10181</td><td style=\"text-align: right;\">            0.212473</td></tr>\n",
       "<tr><td style=\"text-align: right;\">        15057</td><td>9c           </td><td style=\"text-align: right;\">20720</td><td style=\"text-align: right;\">            0.184139</td></tr>\n",
       "<tr><td style=\"text-align: right;\">        15057</td><td>9c           </td><td style=\"text-align: right;\">33386</td><td style=\"text-align: right;\">            0.247697</td></tr>\n",
       "<tr><td style=\"text-align: right;\">        15059</td><td>nan          </td><td style=\"text-align: right;\"> 4859</td><td style=\"text-align: right;\">            0.545076</td></tr>\n",
       "</tbody>\n",
       "</table>"
      ]
     },
     "metadata": {},
     "output_type": "display_data"
    },
    {
     "data": {
      "text/plain": []
     },
     "execution_count": 89,
     "metadata": {},
     "output_type": "execute_result"
    }
   ],
   "source": [
    "#Make predictions on new loans\n",
    "predictions = HDF_predict[id_fields].concat(final_model.predict(HDF_predict)['p1'].set_names(['Default_Prediction']))\n",
    "predictions"
   ]
  },
  {
   "cell_type": "code",
   "execution_count": 90,
   "metadata": {
    "collapsed": false
   },
   "outputs": [
    {
     "name": "stdout",
     "output_type": "stream",
     "text": [
      "Export File progress: |███████████████████████████████████████████████████| 100%\n"
     ]
    }
   ],
   "source": [
    "#Export data to csv\n",
    "h2o.export_file(predictions, '/Users/hamelhusain/Dropbox/zidisha/model_predictions.csv', force = True)"
   ]
  },
  {
   "cell_type": "markdown",
   "metadata": {},
   "source": [
    "#  Part 2 Experimental - Text Features (Ignore This Section)"
   ]
  },
  {
   "cell_type": "markdown",
   "metadata": {},
   "source": [
    "Extract text features from data frame and split into test vs. train set.  TODO:  use the same train/test split as above."
   ]
  },
  {
   "cell_type": "code",
   "execution_count": 184,
   "metadata": {
    "ExecuteTime": {
     "end_time": "2017-02-08T07:57:03.278015",
     "start_time": "2017-02-08T07:57:03.100462"
    },
    "collapsed": false
   },
   "outputs": [
    {
     "name": "stderr",
     "output_type": "stream",
     "text": [
      "/Users/hamel_husain/anaconda3/lib/python3.5/site-packages/ipykernel/__main__.py:2: SettingWithCopyWarning: \n",
      "A value is trying to be set on a copy of a slice from a DataFrame\n",
      "\n",
      "See the caveats in the documentation: http://pandas.pydata.org/pandas-docs/stable/indexing.html#indexing-view-versus-copy\n",
      "  from ipykernel import kernelapp as app\n",
      "/Users/hamel_husain/.local/lib/python3.5/site-packages/pandas/core/generic.py:4702: SettingWithCopyWarning: \n",
      "A value is trying to be set on a copy of a slice from a DataFrame\n",
      "\n",
      "See the caveats in the documentation: http://pandas.pydata.org/pandas-docs/stable/indexing.html#indexing-view-versus-copy\n",
      "  self._update_inplace(new_data)\n",
      "/Users/hamel_husain/.local/lib/python3.5/site-packages/IPython/core/interactiveshell.py:2881: SettingWithCopyWarning: \n",
      "A value is trying to be set on a copy of a slice from a DataFrame\n",
      "\n",
      "See the caveats in the documentation: http://pandas.pydata.org/pandas-docs/stable/indexing.html#indexing-view-versus-copy\n",
      "  exec(code_obj, self.user_global_ns, self.user_ns)\n"
     ]
    },
    {
     "name": "stdout",
     "output_type": "stream",
     "text": [
      "size of train (24912, 4)\n",
      "size of test (6228, 4)\n"
     ]
    }
   ],
   "source": [
    "df_text = df[text_fields + ['default_flag']]\n",
    "df_text.proposal_field[df.proposal_field.isnull()] = ''\n",
    "df_text_train, df_text_test = tts(df_text, test_size = .2)\n",
    "print('size of train', df_text_train.shape)\n",
    "print('size of test', df_text_test.shape)"
   ]
  },
  {
   "cell_type": "markdown",
   "metadata": {},
   "source": [
    "## Try two basic text vectorizers \n",
    "- Count Vectorizer (Bag of Words with frequency count)\n",
    "- TFIDF"
   ]
  },
  {
   "cell_type": "code",
   "execution_count": 2,
   "metadata": {
    "collapsed": true
   },
   "outputs": [],
   "source": [
    "from sklearn.linear_model import ElasticNetCV\n",
    "from sklearn.feature_extraction.text import TfidfVectorizer as TFIDF\n",
    "from sklearn.feature_extraction.text import CountVectorizer as Cvec\n",
    "enet = ElasticNetCV(l1_ratio = [.001, .01, .1, .5], cv = 5, normalize = True)\n",
    "tfidf = TFIDF(stop_words = 'english', min_df=.05, max_df = .95, sublinear_tf = True, ngram_range=(1, 4))\n",
    "cvec = Cvec(stop_words = 'english', min_df=.05, max_df = .95, ngram_range=(1, 4))"
   ]
  },
  {
   "cell_type": "code",
   "execution_count": 185,
   "metadata": {
    "ExecuteTime": {
     "end_time": "2017-02-08T07:57:38.108790",
     "start_time": "2017-02-08T07:57:06.046359"
    },
    "collapsed": false
   },
   "outputs": [],
   "source": [
    "cvec_dat = cvec.fit_transform(df_text_train.proposal_field)\n",
    "tfidf_data = tfidf.fit_transform(df_text_train.proposal_field)"
   ]
  },
  {
   "cell_type": "code",
   "execution_count": 186,
   "metadata": {
    "ExecuteTime": {
     "end_time": "2017-02-08T07:59:41.982561",
     "start_time": "2017-02-08T07:58:49.702011"
    },
    "collapsed": false
   },
   "outputs": [
    {
     "data": {
      "text/plain": [
       "ElasticNetCV(alphas=None, copy_X=True, cv=5, eps=0.001, fit_intercept=True,\n",
       "       l1_ratio=[0.001, 0.01, 0.1, 0.5], max_iter=1000, n_alphas=100,\n",
       "       n_jobs=1, normalize=True, positive=False, precompute='auto',\n",
       "       random_state=None, selection='cyclic', tol=0.0001, verbose=0)"
      ]
     },
     "execution_count": 186,
     "metadata": {},
     "output_type": "execute_result"
    }
   ],
   "source": [
    "enet.fit(cvec_dat, df_text_train.default_flag)\n",
    "cvec_preds = enet.predict(cvec.transform(df_text_test.proposal_field))"
   ]
  },
  {
   "cell_type": "code",
   "execution_count": 189,
   "metadata": {
    "ExecuteTime": {
     "end_time": "2017-02-08T08:01:05.060949",
     "start_time": "2017-02-08T08:01:05.052980"
    },
    "collapsed": false
   },
   "outputs": [
    {
     "name": "stdout",
     "output_type": "stream",
     "text": [
      "log loss on holdout set (count vectorizer): 0.679630228373\n"
     ]
    }
   ],
   "source": [
    "print('log loss on holdout set (count vectorizer):', log_loss(df_text_test.default_flag, cvec_preds))"
   ]
  },
  {
   "cell_type": "code",
   "execution_count": 190,
   "metadata": {
    "ExecuteTime": {
     "end_time": "2017-02-08T08:03:06.651056",
     "start_time": "2017-02-08T08:02:22.154749"
    },
    "collapsed": true
   },
   "outputs": [],
   "source": [
    "enet.fit(tfidf_data, df_text_train.default_flag)\n",
    "tfidf_preds = enet.predict(tfidf.transform(df_text_test.proposal_field))"
   ]
  },
  {
   "cell_type": "code",
   "execution_count": 192,
   "metadata": {
    "ExecuteTime": {
     "end_time": "2017-02-08T08:03:20.382271",
     "start_time": "2017-02-08T08:03:20.375925"
    },
    "collapsed": false
   },
   "outputs": [
    {
     "name": "stdout",
     "output_type": "stream",
     "text": [
      "log loss on holdout set (TFIDF vectorizer): 0.677721258792\n"
     ]
    }
   ],
   "source": [
    "print('log loss on holdout set (TFIDF vectorizer):', log_loss(df_text_test.default_flag, tfidf_preds))"
   ]
  },
  {
   "cell_type": "markdown",
   "metadata": {},
   "source": [
    "## Scratch Work"
   ]
  },
  {
   "cell_type": "code",
   "execution_count": 178,
   "metadata": {
    "ExecuteTime": {
     "end_time": "2017-02-08T07:49:08.924867",
     "start_time": "2017-02-08T07:49:08.899704"
    },
    "collapsed": false
   },
   "outputs": [],
   "source": [
    ">>> from sklearn import datasets, linear_model\n",
    ">>> from sklearn.cross_validation import cross_val_predict\n",
    ">>> diabetes = datasets.load_diabetes()\n",
    ">>> X = diabetes.data[:150]\n",
    ">>> y = diabetes.target[:150]\n",
    ">>> lasso = linear_model.Lasso()\n",
    ">>> y_pred = cross_val_predict(lasso, X, y)"
   ]
  },
  {
   "cell_type": "code",
   "execution_count": 182,
   "metadata": {
    "ExecuteTime": {
     "end_time": "2017-02-08T07:49:34.185267",
     "start_time": "2017-02-08T07:49:34.177832"
    },
    "collapsed": false,
    "scrolled": true
   },
   "outputs": [
    {
     "data": {
      "text/plain": [
       "array([ 174.26933996,  117.6539241 ,  164.60228641,  155.65049088,\n",
       "        132.68647979,  128.49511245,  120.76146877,  141.069413  ,\n",
       "        164.18904498,  182.37394949,  111.04181265,  127.94311443,\n",
       "        135.0869234 ,  162.83066014,  135.3573514 ,  157.64516523,\n",
       "        178.95843326,  163.3919841 ,  143.85237903,  144.29748882,\n",
       "        133.58117218,  124.77928571,  132.90918003,  208.52927   ,\n",
       "        153.61908967,  154.16616341,  118.95351821,  163.50467541,\n",
       "        145.89406196,  168.3308101 ,  155.87411031,  123.45960148,\n",
       "        185.70459144,  133.38468582,  117.2789469 ,  150.27895019,\n",
       "        174.1541028 ,  160.03235091,  192.31389633,  161.58568256,\n",
       "        154.2224809 ,  119.35517679,  146.15706413,  133.82056934,\n",
       "        179.68118754,  137.96619936,  146.07788398,  126.77579723,\n",
       "        123.32101099,  166.26710247,  146.41559964,  161.67261029,\n",
       "        147.47731459,  138.44595305,  144.85421048,  113.77990664,\n",
       "        185.54970402,  115.31624749,  142.23672103,  171.07792136,\n",
       "        132.5394716 ,  177.80524864,  116.5616502 ,  134.25230846,\n",
       "        142.88707475,  173.2830912 ,  154.31273504,  149.16680759,\n",
       "        144.88238997,  121.97783103,  110.38457621,  180.25559631,\n",
       "        199.06141058,  151.1195546 ,  161.14217698,  153.96960812,\n",
       "        150.77179755,  113.30903579,  165.15755771,  115.85735727,\n",
       "        174.19267171,  150.12027233,  115.47891783,  153.38967232,\n",
       "        115.31573467,  156.49909623,   92.62211515,  178.15649994,\n",
       "        131.59320715,  134.46166754,  116.97678633,  190.00790119,\n",
       "        166.01173292,  126.25944471,  134.29256991,  144.71971963,\n",
       "        190.9769591 ,  182.39199466,  154.45325308,  148.30325558,\n",
       "        151.72036937,  124.12825466,  138.6011155 ,  137.75891286,\n",
       "        123.0917243 ,  131.74735403,  112.07367481,  124.56956904,\n",
       "        156.78432061,  128.63135591,   93.68260079,  130.54324394,\n",
       "        131.8693231 ,  154.5708257 ,  179.81343019,  165.78130755,\n",
       "        150.04779033,  162.37974736,  143.92996797,  143.15645843,\n",
       "        125.20161377,  145.99590279,  155.3505536 ,  145.97574185,\n",
       "        134.66120515,  163.92450638,  101.92329396,  139.33014324,\n",
       "        122.71377023,  152.20573113,  153.36931089,  116.76545147,\n",
       "        131.96936127,  109.74817383,  132.57453994,  159.38030328,\n",
       "        109.31343881,  147.69926269,  156.3664255 ,  161.12509958,\n",
       "        128.16523686,  156.78446286,  154.04375702,  124.83705022,\n",
       "        143.85606595,  143.23651701,  147.76316913,  154.21572891,\n",
       "        129.07895017,  157.79644923])"
      ]
     },
     "execution_count": 182,
     "metadata": {},
     "output_type": "execute_result"
    }
   ],
   "source": [
    "y_pred"
   ]
  },
  {
   "cell_type": "code",
   "execution_count": 193,
   "metadata": {
    "ExecuteTime": {
     "end_time": "2017-02-08T08:08:32.734494",
     "start_time": "2017-02-08T08:08:32.598460"
    },
    "collapsed": false
   },
   "outputs": [
    {
     "name": "stdout",
     "output_type": "stream",
     "text": [
      "/Users/hamel_husain/Dropbox/zidisha\r\n"
     ]
    }
   ],
   "source": [
    "!pwd"
   ]
  },
  {
   "cell_type": "code",
   "execution_count": null,
   "metadata": {
    "collapsed": true
   },
   "outputs": [],
   "source": []
  }
 ],
 "metadata": {
  "anaconda-cloud": {},
  "kernelspec": {
   "display_name": "Python [conda env:drpy3]",
   "language": "python",
   "name": "conda-env-drpy3-py"
  },
  "language_info": {
   "codemirror_mode": {
    "name": "ipython",
    "version": 3
   },
   "file_extension": ".py",
   "mimetype": "text/x-python",
   "name": "python",
   "nbconvert_exporter": "python",
   "pygments_lexer": "ipython3",
   "version": "3.5.2"
  },
  "nav_menu": {},
  "toc": {
   "navigate_menu": true,
   "number_sections": true,
   "sideBar": true,
   "threshold": 6,
   "toc_cell": false,
   "toc_section_display": "block",
   "toc_window_display": false
  }
 },
 "nbformat": 4,
 "nbformat_minor": 1
}
