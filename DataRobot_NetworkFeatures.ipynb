{
 "cells": [
  {
   "cell_type": "markdown",
   "metadata": {},
   "source": [
    "# Import Data"
   ]
  },
  {
   "cell_type": "code",
   "execution_count": 50,
   "metadata": {
    "ExecuteTime": {
     "end_time": "2017-01-03T21:03:47.213038",
     "start_time": "2017-01-03T21:03:43.166630"
    },
    "collapsed": false
   },
   "outputs": [],
   "source": [
    "import pandas as pd\n",
    "pd.options.display.max_columns = 900\n",
    "df = pd.read_csv('20170103_features.csv', parse_dates=[40])"
   ]
  },
  {
   "cell_type": "markdown",
   "metadata": {},
   "source": [
    "# Create Date Features"
   ]
  },
  {
   "cell_type": "code",
   "execution_count": 51,
   "metadata": {
    "ExecuteTime": {
     "end_time": "2017-01-03T21:03:48.430563",
     "start_time": "2017-01-03T21:03:47.214381"
    },
    "collapsed": false
   },
   "outputs": [],
   "source": [
    "df['created_month'] = df.created_at.apply(lambda x: x.month)\n",
    "df['created_year'] = df.created_at.apply(lambda x: x.year)\n",
    "df['created_weekday_name'] = df.created_at.apply(lambda x: x.weekday_name)\n",
    "df['created_is_month_start'] = df.created_at.apply(lambda x: int(x.is_month_start))\n",
    "df['created_is_month_end'] = df.created_at.apply(lambda x: int(x.is_month_end))\n",
    "df['created_weekofyear'] = df.created_at.apply(lambda x: x.weekofyear)"
   ]
  },
  {
   "cell_type": "markdown",
   "metadata": {
    "ExecuteTime": {
     "end_time": "2017-01-03T21:04:18.801231",
     "start_time": "2017-01-03T21:04:18.797808"
    }
   },
   "source": [
    "Preview dataset"
   ]
  },
  {
   "cell_type": "code",
   "execution_count": 3,
   "metadata": {
    "ExecuteTime": {
     "end_time": "2017-01-03T21:04:00.009398",
     "start_time": "2017-01-03T21:03:59.970993"
    },
    "collapsed": false,
    "scrolled": true
   },
   "outputs": [
    {
     "data": {
      "text/html": [
       "<div>\n",
       "<table border=\"1\" class=\"dataframe\">\n",
       "  <thead>\n",
       "    <tr style=\"text-align: right;\">\n",
       "      <th></th>\n",
       "      <th>id</th>\n",
       "      <th>borrower_id</th>\n",
       "      <th>usd_amount</th>\n",
       "      <th>length(loans.proposal)</th>\n",
       "      <th>length(about_me)</th>\n",
       "      <th>length(about_business)</th>\n",
       "      <th>length(address_instructions)</th>\n",
       "      <th>missing_natl_id</th>\n",
       "      <th>missing_referred_by</th>\n",
       "      <th>application_time</th>\n",
       "      <th>default_flag</th>\n",
       "      <th>fraud_flag</th>\n",
       "      <th>friends_count</th>\n",
       "      <th>country_id</th>\n",
       "      <th>name</th>\n",
       "      <th>category_id</th>\n",
       "      <th>invited_flag</th>\n",
       "      <th>made_pmts</th>\n",
       "      <th>missed_pmts</th>\n",
       "      <th>sift_science_score</th>\n",
       "      <th>english_flag</th>\n",
       "      <th>business_years</th>\n",
       "      <th>reserve_fee_pct</th>\n",
       "      <th>sift_labeled_bad</th>\n",
       "      <th>about_me_field</th>\n",
       "      <th>about_business_field</th>\n",
       "      <th>proposal_field</th>\n",
       "      <th>ip_user_count</th>\n",
       "      <th>ip_borrowers_defaulted</th>\n",
       "      <th>ip_defaulted_ratio</th>\n",
       "      <th>ip_borrowers_fraudulent</th>\n",
       "      <th>ip_fraudulent_ratio</th>\n",
       "      <th>invited</th>\n",
       "      <th>parent_age_at_invite</th>\n",
       "      <th>parent_comment_cnt</th>\n",
       "      <th>parent_comment_char_cnt</th>\n",
       "      <th>parent_avg_char_per_comment</th>\n",
       "      <th>parent_repay_ratio</th>\n",
       "      <th>parent_usd_total_amount</th>\n",
       "      <th>disbursed_at</th>\n",
       "      <th>created_at</th>\n",
       "      <th>usd_installment_amount</th>\n",
       "      <th>prior_loans</th>\n",
       "      <th>country_internet_users</th>\n",
       "      <th>country_life_expectancy</th>\n",
       "      <th>country_literacy</th>\n",
       "      <th>country_gdppc</th>\n",
       "      <th>created_month</th>\n",
       "      <th>created_year</th>\n",
       "      <th>created_weekday_name</th>\n",
       "      <th>created_is_month_start</th>\n",
       "      <th>created_is_month_end</th>\n",
       "      <th>created_weekofyear</th>\n",
       "    </tr>\n",
       "  </thead>\n",
       "  <tbody>\n",
       "    <tr>\n",
       "      <th>0</th>\n",
       "      <td>5028</td>\n",
       "      <td>15316</td>\n",
       "      <td>250.0</td>\n",
       "      <td>356</td>\n",
       "      <td>595.0</td>\n",
       "      <td>529.0</td>\n",
       "      <td>32</td>\n",
       "      <td>0</td>\n",
       "      <td>1</td>\n",
       "      <td>NaN</td>\n",
       "      <td>0</td>\n",
       "      <td>0</td>\n",
       "      <td>1307.0</td>\n",
       "      <td>32</td>\n",
       "      <td>Kenya</td>\n",
       "      <td>NaN</td>\n",
       "      <td>1</td>\n",
       "      <td>119.0</td>\n",
       "      <td>0.0</td>\n",
       "      <td>NaN</td>\n",
       "      <td>1</td>\n",
       "      <td>NaN</td>\n",
       "      <td>0.0</td>\n",
       "      <td>0</td>\n",
       "      <td>My name is  John Wanyoike.  I was born in 1985...</td>\n",
       "      <td>Since 2011, I have been doing my IT technical ...</td>\n",
       "      <td>Thank you for giving me this opportunity to ap...</td>\n",
       "      <td>NaN</td>\n",
       "      <td>NaN</td>\n",
       "      <td>NaN</td>\n",
       "      <td>NaN</td>\n",
       "      <td>NaN</td>\n",
       "      <td>1.0</td>\n",
       "      <td>321.0</td>\n",
       "      <td>62.0</td>\n",
       "      <td>38573.0</td>\n",
       "      <td>622.0</td>\n",
       "      <td>1.000054</td>\n",
       "      <td>412.0</td>\n",
       "      <td>1/28/2014 23:00</td>\n",
       "      <td>2014-01-10 08:47:00</td>\n",
       "      <td>NaN</td>\n",
       "      <td>0.0</td>\n",
       "      <td>46.0</td>\n",
       "      <td>62.0</td>\n",
       "      <td>78.0</td>\n",
       "      <td>1429.0</td>\n",
       "      <td>1</td>\n",
       "      <td>2014</td>\n",
       "      <td>Friday</td>\n",
       "      <td>0</td>\n",
       "      <td>0</td>\n",
       "      <td>2</td>\n",
       "    </tr>\n",
       "    <tr>\n",
       "      <th>1</th>\n",
       "      <td>4866</td>\n",
       "      <td>15063</td>\n",
       "      <td>250.0</td>\n",
       "      <td>473</td>\n",
       "      <td>882.0</td>\n",
       "      <td>1082.0</td>\n",
       "      <td>206</td>\n",
       "      <td>0</td>\n",
       "      <td>1</td>\n",
       "      <td>NaN</td>\n",
       "      <td>1</td>\n",
       "      <td>0</td>\n",
       "      <td>151.0</td>\n",
       "      <td>32</td>\n",
       "      <td>Kenya</td>\n",
       "      <td>NaN</td>\n",
       "      <td>1</td>\n",
       "      <td>28.0</td>\n",
       "      <td>56.0</td>\n",
       "      <td>NaN</td>\n",
       "      <td>1</td>\n",
       "      <td>NaN</td>\n",
       "      <td>0.0</td>\n",
       "      <td>1</td>\n",
       "      <td>My\\r\\n names are tom mwaura from narok town an...</td>\n",
       "      <td>I\\r\\n am a businessman whose business deals in...</td>\n",
       "      <td>The first loan given will be used to aid in re...</td>\n",
       "      <td>NaN</td>\n",
       "      <td>NaN</td>\n",
       "      <td>NaN</td>\n",
       "      <td>NaN</td>\n",
       "      <td>NaN</td>\n",
       "      <td>1.0</td>\n",
       "      <td>352.0</td>\n",
       "      <td>9.0</td>\n",
       "      <td>1447.0</td>\n",
       "      <td>161.0</td>\n",
       "      <td>1.000131</td>\n",
       "      <td>89.0</td>\n",
       "      <td>1/26/2014 23:00</td>\n",
       "      <td>2014-01-02 06:35:00</td>\n",
       "      <td>NaN</td>\n",
       "      <td>0.0</td>\n",
       "      <td>46.0</td>\n",
       "      <td>62.0</td>\n",
       "      <td>78.0</td>\n",
       "      <td>1429.0</td>\n",
       "      <td>1</td>\n",
       "      <td>2014</td>\n",
       "      <td>Thursday</td>\n",
       "      <td>0</td>\n",
       "      <td>0</td>\n",
       "      <td>1</td>\n",
       "    </tr>\n",
       "  </tbody>\n",
       "</table>\n",
       "</div>"
      ],
      "text/plain": [
       "     id  borrower_id  usd_amount  length(loans.proposal)  length(about_me)  \\\n",
       "0  5028        15316       250.0                     356             595.0   \n",
       "1  4866        15063       250.0                     473             882.0   \n",
       "\n",
       "   length(about_business)  length(address_instructions)  missing_natl_id  \\\n",
       "0                   529.0                            32                0   \n",
       "1                  1082.0                           206                0   \n",
       "\n",
       "   missing_referred_by application_time  default_flag  fraud_flag  \\\n",
       "0                    1              NaN             0           0   \n",
       "1                    1              NaN             1           0   \n",
       "\n",
       "   friends_count  country_id   name  category_id  invited_flag  made_pmts  \\\n",
       "0         1307.0          32  Kenya          NaN             1      119.0   \n",
       "1          151.0          32  Kenya          NaN             1       28.0   \n",
       "\n",
       "   missed_pmts  sift_science_score  english_flag  business_years  \\\n",
       "0          0.0                 NaN             1             NaN   \n",
       "1         56.0                 NaN             1             NaN   \n",
       "\n",
       "   reserve_fee_pct  sift_labeled_bad  \\\n",
       "0              0.0                 0   \n",
       "1              0.0                 1   \n",
       "\n",
       "                                      about_me_field  \\\n",
       "0  My name is  John Wanyoike.  I was born in 1985...   \n",
       "1  My\\r\\n names are tom mwaura from narok town an...   \n",
       "\n",
       "                                about_business_field  \\\n",
       "0  Since 2011, I have been doing my IT technical ...   \n",
       "1  I\\r\\n am a businessman whose business deals in...   \n",
       "\n",
       "                                      proposal_field  ip_user_count  \\\n",
       "0  Thank you for giving me this opportunity to ap...            NaN   \n",
       "1  The first loan given will be used to aid in re...            NaN   \n",
       "\n",
       "   ip_borrowers_defaulted  ip_defaulted_ratio  ip_borrowers_fraudulent  \\\n",
       "0                     NaN                 NaN                      NaN   \n",
       "1                     NaN                 NaN                      NaN   \n",
       "\n",
       "   ip_fraudulent_ratio  invited  parent_age_at_invite  parent_comment_cnt  \\\n",
       "0                  NaN      1.0                 321.0                62.0   \n",
       "1                  NaN      1.0                 352.0                 9.0   \n",
       "\n",
       "   parent_comment_char_cnt  parent_avg_char_per_comment  parent_repay_ratio  \\\n",
       "0                  38573.0                        622.0            1.000054   \n",
       "1                   1447.0                        161.0            1.000131   \n",
       "\n",
       "   parent_usd_total_amount     disbursed_at          created_at  \\\n",
       "0                    412.0  1/28/2014 23:00 2014-01-10 08:47:00   \n",
       "1                     89.0  1/26/2014 23:00 2014-01-02 06:35:00   \n",
       "\n",
       "   usd_installment_amount  prior_loans  country_internet_users  \\\n",
       "0                     NaN          0.0                    46.0   \n",
       "1                     NaN          0.0                    46.0   \n",
       "\n",
       "   country_life_expectancy  country_literacy  country_gdppc  created_month  \\\n",
       "0                     62.0              78.0         1429.0              1   \n",
       "1                     62.0              78.0         1429.0              1   \n",
       "\n",
       "   created_year created_weekday_name  created_is_month_start  \\\n",
       "0          2014               Friday                       0   \n",
       "1          2014             Thursday                       0   \n",
       "\n",
       "   created_is_month_end  created_weekofyear  \n",
       "0                     0                   2  \n",
       "1                     0                   1  "
      ]
     },
     "execution_count": 3,
     "metadata": {},
     "output_type": "execute_result"
    }
   ],
   "source": [
    "df.head(2)"
   ]
  },
  {
   "cell_type": "markdown",
   "metadata": {},
   "source": [
    "# Create Date Partition For Train, Validation, Holdout"
   ]
  },
  {
   "cell_type": "code",
   "execution_count": 68,
   "metadata": {
    "collapsed": false
   },
   "outputs": [],
   "source": [
    "def custom_partition(dt):\n",
    "    if dt >= pd.to_datetime('2016-05-15'):\n",
    "        return 'h'\n",
    "    elif ((dt >= pd.to_datetime('2016-03-01')) & (dt < pd.to_datetime('2016-05-15'))):\n",
    "        return 'v'\n",
    "    else:\n",
    "        return 't'"
   ]
  },
  {
   "cell_type": "code",
   "execution_count": 69,
   "metadata": {
    "collapsed": false
   },
   "outputs": [],
   "source": [
    "df['part'] = df.created_at.apply(custom_partition)"
   ]
  },
  {
   "cell_type": "markdown",
   "metadata": {},
   "source": [
    "Check partition statistics"
   ]
  },
  {
   "cell_type": "code",
   "execution_count": 70,
   "metadata": {
    "collapsed": false
   },
   "outputs": [
    {
     "data": {
      "text/html": [
       "<div>\n",
       "<table border=\"1\" class=\"dataframe\">\n",
       "  <thead>\n",
       "    <tr style=\"text-align: right;\">\n",
       "      <th></th>\n",
       "      <th>min</th>\n",
       "      <th>max</th>\n",
       "      <th>count</th>\n",
       "    </tr>\n",
       "    <tr>\n",
       "      <th>part</th>\n",
       "      <th></th>\n",
       "      <th></th>\n",
       "      <th></th>\n",
       "    </tr>\n",
       "  </thead>\n",
       "  <tbody>\n",
       "    <tr>\n",
       "      <th>h</th>\n",
       "      <td>2016-05-15 00:41:00</td>\n",
       "      <td>2016-07-24 06:34:00</td>\n",
       "      <td>2272</td>\n",
       "    </tr>\n",
       "    <tr>\n",
       "      <th>t</th>\n",
       "      <td>2014-01-01 03:51:00</td>\n",
       "      <td>2016-02-29 23:21:00</td>\n",
       "      <td>18579</td>\n",
       "    </tr>\n",
       "    <tr>\n",
       "      <th>v</th>\n",
       "      <td>2016-03-01 00:19:00</td>\n",
       "      <td>2016-05-14 18:35:00</td>\n",
       "      <td>2210</td>\n",
       "    </tr>\n",
       "  </tbody>\n",
       "</table>\n",
       "</div>"
      ],
      "text/plain": [
       "                     min                 max  count\n",
       "part                                               \n",
       "h    2016-05-15 00:41:00 2016-07-24 06:34:00   2272\n",
       "t    2014-01-01 03:51:00 2016-02-29 23:21:00  18579\n",
       "v    2016-03-01 00:19:00 2016-05-14 18:35:00   2210"
      ]
     },
     "execution_count": 70,
     "metadata": {},
     "output_type": "execute_result"
    }
   ],
   "source": [
    "df.groupby('part')['created_at'].agg(['min', 'max', 'count'])"
   ]
  },
  {
   "cell_type": "markdown",
   "metadata": {},
   "source": [
    "# Send To DataRobot"
   ]
  },
  {
   "cell_type": "code",
   "execution_count": 74,
   "metadata": {
    "collapsed": true
   },
   "outputs": [],
   "source": [
    "import datarobot as dr\n",
    "from datarobot import UserTVH\n",
    "#Create custom partition object\n",
    "part = UserTVH(user_partition_col = 'part', training_level = 't', \n",
    "               validation_level ='v', holdout_level ='h', seed=0)"
   ]
  },
  {
   "cell_type": "code",
   "execution_count": 75,
   "metadata": {
    "collapsed": true
   },
   "outputs": [],
   "source": [
    "droplist = ['missed_pmts', 'nonfraud_default', 'sift_labeled_bad', 'sift_science_score', \n",
    "                'made_pmts', 'fraud_flag', 'reserve_fee_pct','country_id', 'created_at']\n",
    "\n",
    "def send_to_datarobot(df, proj_name, cols_to_drop, part):\n",
    "    \"\"\"\n",
    "    helper function that takes data and uploads to DataRobot\n",
    "    \"\"\"\n",
    "    df = df.copy()\n",
    "    #drop irrelevant columns\n",
    "    cols_to_drop = [x for x in cols_to_drop if x in df.columns]\n",
    "    final_df = df.drop(cols_to_drop, axis=1)\n",
    "    #Combine the ids to obtain a unique user id\n",
    "    final_df['unique_id'] = final_df.borrower_id.astype(str) +'__'+ final_df.id.astype(str)\n",
    "    final_df.drop(['borrower_id', 'id'], axis = 1, inplace=True)\n",
    "    \n",
    "    #save file to disk, with compression\n",
    "    file_path = '/Users/hamelhusain/Google Drive/Team Shared Folder - Zidisha/DR_'+proj_name+'.gz'\n",
    "    print('Saving {}'.format(file_path))\n",
    "    final_df.to_csv(file_path, compression = 'gzip', index=False)\n",
    "    \n",
    "    print('Beginning DR Upload')\n",
    "    proj = dr.Project.create(file_path, project_name=proj_name)\n",
    "    proj.set_target(target = 'default_flag', \n",
    "                partitioning_method = part,\n",
    "                worker_count = 30)\n",
    "    return proj\n"
   ]
  },
  {
   "cell_type": "code",
   "execution_count": null,
   "metadata": {
    "collapsed": false
   },
   "outputs": [
    {
     "name": "stdout",
     "output_type": "stream",
     "text": [
      "Saving /Users/hamelhusain/Google Drive/Team Shared Folder - Zidisha/DR_Zidisha_20170103_JasonFeatures_v2.gz\n",
      "Beginning DR Upload\n"
     ]
    }
   ],
   "source": [
    "proj = send_to_datarobot(df, 'Zidisha_20170103_JasonFeatures_v2', cols_to_drop=droplist, part=part)"
   ]
  },
  {
   "cell_type": "markdown",
   "metadata": {},
   "source": [
    "### Link To Project"
   ]
  },
  {
   "cell_type": "code",
   "execution_count": null,
   "metadata": {
    "collapsed": false
   },
   "outputs": [],
   "source": [
    "proj.get_leaderboard_ui_permalink()"
   ]
  },
  {
   "cell_type": "code",
   "execution_count": null,
   "metadata": {
    "collapsed": true
   },
   "outputs": [],
   "source": []
  }
 ],
 "metadata": {
  "anaconda-cloud": {},
  "kernelspec": {
   "display_name": "Python [conda env:drpy3]",
   "language": "python",
   "name": "conda-env-drpy3-py"
  },
  "language_info": {
   "codemirror_mode": {
    "name": "ipython",
    "version": 3
   },
   "file_extension": ".py",
   "mimetype": "text/x-python",
   "name": "python",
   "nbconvert_exporter": "python",
   "pygments_lexer": "ipython3",
   "version": "3.5.2"
  },
  "toc": {
   "colors": {
    "hover_highlight": "#DAA520",
    "running_highlight": "#FF0000",
    "selected_highlight": "#FFD700"
   },
   "moveMenuLeft": true,
   "nav_menu": {
    "height": "111px",
    "width": "252px"
   },
   "navigate_menu": true,
   "number_sections": true,
   "sideBar": true,
   "threshold": 4,
   "toc_cell": false,
   "toc_section_display": "block",
   "toc_window_display": false
  }
 },
 "nbformat": 4,
 "nbformat_minor": 2
}
