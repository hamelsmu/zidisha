{
 "cells": [
  {
   "cell_type": "code",
   "execution_count": 167,
   "metadata": {
    "ExecuteTime": {
     "end_time": "2017-02-08T07:43:23.491069",
     "start_time": "2017-02-08T07:43:23.485469"
    },
    "collapsed": false
   },
   "outputs": [],
   "source": [
    "import h2o\n",
    "import pandas as pd\n",
    "from h2o.estimators.gbm import H2OGradientBoostingEstimator as gbm\n",
    "from h2o.grid.grid_search import H2OGridSearch\n",
    "from sklearn.cross_validation import train_test_split as tts\n",
    "from sklearn.metrics import log_loss\n",
    "from sklearn.feature_extraction.text import TfidfVectorizer as TFIDF\n",
    "from sklearn.feature_extraction.text import CountVectorizer as Cvec\n",
    "from sklearn.metrics import log_loss\n",
    "from sklearn.linear_model import ElasticNetCV\n",
    "enet = ElasticNetCV(l1_ratio = [.001, .01, .1, .5], cv = 5, normalize = True)\n",
    "tfidf = TFIDF(stop_words = 'english', min_df=.05, max_df = .95, sublinear_tf = True, ngram_range=(1, 4))\n",
    "cvec = Cvec(stop_words = 'english', min_df=.05, max_df = .95, ngram_range=(1, 4))"
   ]
  },
  {
   "cell_type": "code",
   "execution_count": 142,
   "metadata": {
    "ExecuteTime": {
     "end_time": "2017-02-08T07:05:21.063318",
     "start_time": "2017-02-08T07:05:21.052528"
    },
    "collapsed": false,
    "scrolled": false
   },
   "outputs": [
    {
     "name": "stdout",
     "output_type": "stream",
     "text": [
      "Checking whether there is an H2O instance running at http://localhost:54321. connected.\n"
     ]
    },
    {
     "data": {
      "text/html": [
       "<div style=\"overflow:auto\"><table style=\"width:50%\"><tr><td>H2O cluster uptime:</td>\n",
       "<td>8 hours 36 mins</td></tr>\n",
       "<tr><td>H2O cluster version:</td>\n",
       "<td>3.10.0.10</td></tr>\n",
       "<tr><td>H2O cluster version age:</td>\n",
       "<td>3 months </td></tr>\n",
       "<tr><td>H2O cluster name:</td>\n",
       "<td>H2O_from_python_hamel_husain_ok0hrs</td></tr>\n",
       "<tr><td>H2O cluster total nodes:</td>\n",
       "<td>1</td></tr>\n",
       "<tr><td>H2O cluster free memory:</td>\n",
       "<td>2.748 Gb</td></tr>\n",
       "<tr><td>H2O cluster total cores:</td>\n",
       "<td>8</td></tr>\n",
       "<tr><td>H2O cluster allowed cores:</td>\n",
       "<td>8</td></tr>\n",
       "<tr><td>H2O cluster status:</td>\n",
       "<td>locked, healthy</td></tr>\n",
       "<tr><td>H2O connection url:</td>\n",
       "<td>http://localhost:54321</td></tr>\n",
       "<tr><td>H2O connection proxy:</td>\n",
       "<td>None</td></tr>\n",
       "<tr><td>Python version:</td>\n",
       "<td>3.5.2 final</td></tr></table></div>"
      ],
      "text/plain": [
       "--------------------------  -----------------------------------\n",
       "H2O cluster uptime:         8 hours 36 mins\n",
       "H2O cluster version:        3.10.0.10\n",
       "H2O cluster version age:    3 months\n",
       "H2O cluster name:           H2O_from_python_hamel_husain_ok0hrs\n",
       "H2O cluster total nodes:    1\n",
       "H2O cluster free memory:    2.748 Gb\n",
       "H2O cluster total cores:    8\n",
       "H2O cluster allowed cores:  8\n",
       "H2O cluster status:         locked, healthy\n",
       "H2O connection url:         http://localhost:54321\n",
       "H2O connection proxy:\n",
       "Python version:             3.5.2 final\n",
       "--------------------------  -----------------------------------"
      ]
     },
     "metadata": {},
     "output_type": "display_data"
    }
   ],
   "source": [
    "h2o.init()"
   ]
  },
  {
   "cell_type": "markdown",
   "metadata": {},
   "source": [
    "## Read in Data"
   ]
  },
  {
   "cell_type": "code",
   "execution_count": 143,
   "metadata": {
    "ExecuteTime": {
     "end_time": "2017-02-08T07:05:21.982383",
     "start_time": "2017-02-08T07:05:21.203392"
    },
    "collapsed": false
   },
   "outputs": [],
   "source": [
    "df = pd.read_csv('/Users/hamel_husain/Dropbox/zidisha/Regression_Dataset_20170125.csv')\n",
    "text_fields =  ['about_me_field', 'about_business_field', 'proposal_field']\n",
    "id_fields = ['borrower_id', 'category_id', 'id']\n",
    "non_text_cols = [c for c in df.columns if c not in text_fields]\n",
    "features = [c for c in non_text_cols if c not in id_fields]"
   ]
  },
  {
   "cell_type": "markdown",
   "metadata": {},
   "source": [
    "## Upload Data To H2O"
   ]
  },
  {
   "cell_type": "code",
   "execution_count": 155,
   "metadata": {
    "ExecuteTime": {
     "end_time": "2017-02-08T07:40:21.146933",
     "start_time": "2017-02-08T07:40:19.843274"
    },
    "collapsed": false
   },
   "outputs": [
    {
     "name": "stdout",
     "output_type": "stream",
     "text": [
      "Parse progress: |█████████████████████████████████████████████████████████| 100%\n"
     ]
    }
   ],
   "source": [
    "col_types = ['int','real', 'int','int', 'int','int','int','int',\n",
    "             'enum','int','int','int', 'int','int','enum','int','int',\n",
    "             'int','int', 'int','real','real','enum','enum','enum',\n",
    "             'enum', 'real', 'real','real', 'real']\n",
    "\n",
    "HF = h2o.H2OFrame()\n",
    "HDF = HF.from_python(df[non_text_cols], \n",
    "                     column_types = col_types)\n",
    "\n",
    "hgbm = gbm(nfolds=5, distribution='bernoulli')\n",
    "hyper_params = {'max_depth': [20], 'min_rows': [20, 40], 'ntrees':[30]}\n",
    "grid = H2OGridSearch(hgbm, hyper_params)"
   ]
  },
  {
   "cell_type": "markdown",
   "metadata": {},
   "source": [
    "## Split Train & Test"
   ]
  },
  {
   "cell_type": "code",
   "execution_count": 156,
   "metadata": {
    "ExecuteTime": {
     "end_time": "2017-02-08T07:40:30.224385",
     "start_time": "2017-02-08T07:40:30.042825"
    },
    "collapsed": false
   },
   "outputs": [
    {
     "name": "stdout",
     "output_type": "stream",
     "text": [
      "test set shape: (6281, 30)\n",
      "train set shape: (24859, 30)\n"
     ]
    }
   ],
   "source": [
    "test, train = HDF.split_frame([.2])\n",
    "print('test set shape:', test.shape)\n",
    "print('train set shape:', train.shape)"
   ]
  },
  {
   "cell_type": "markdown",
   "metadata": {},
   "source": [
    "## Train Model And Evaluate Results"
   ]
  },
  {
   "cell_type": "code",
   "execution_count": 157,
   "metadata": {
    "ExecuteTime": {
     "end_time": "2017-02-08T07:41:59.083958",
     "start_time": "2017-02-08T07:40:33.110088"
    },
    "collapsed": false
   },
   "outputs": [
    {
     "name": "stdout",
     "output_type": "stream",
     "text": [
      "gbm Grid Build progress: |████████████████████████████████████████████████| 100%\n"
     ]
    }
   ],
   "source": [
    "grid.train(x=features, y='default_flag', training_frame=train)"
   ]
  },
  {
   "cell_type": "code",
   "execution_count": 158,
   "metadata": {
    "ExecuteTime": {
     "end_time": "2017-02-08T07:42:01.534317",
     "start_time": "2017-02-08T07:42:01.301705"
    },
    "collapsed": false,
    "scrolled": false
   },
   "outputs": [
    {
     "data": {
      "text/html": [
       "<div>\n",
       "<table border=\"1\" class=\"dataframe\">\n",
       "  <thead>\n",
       "    <tr style=\"text-align: right;\">\n",
       "      <th></th>\n",
       "      <th></th>\n",
       "      <th>max_depth</th>\n",
       "      <th>min_rows</th>\n",
       "      <th>ntrees</th>\n",
       "      <th>model_ids</th>\n",
       "      <th>logloss</th>\n",
       "    </tr>\n",
       "  </thead>\n",
       "  <tbody>\n",
       "    <tr>\n",
       "      <th>0</th>\n",
       "      <td></td>\n",
       "      <td>20</td>\n",
       "      <td>20.0</td>\n",
       "      <td>30</td>\n",
       "      <td>Grid_GBM_py_48_sid_9794_model_python_1486535343200_5212_model_0</td>\n",
       "      <td>0.55295434725286</td>\n",
       "    </tr>\n",
       "    <tr>\n",
       "      <th>1</th>\n",
       "      <td></td>\n",
       "      <td>20</td>\n",
       "      <td>40.0</td>\n",
       "      <td>30</td>\n",
       "      <td>Grid_GBM_py_48_sid_9794_model_python_1486535343200_5212_model_1</td>\n",
       "      <td>0.5540855403855385</td>\n",
       "    </tr>\n",
       "  </tbody>\n",
       "</table>\n",
       "</div>"
      ],
      "text/plain": [
       "    max_depth min_rows ntrees  \\\n",
       "0          20     20.0     30   \n",
       "1          20     40.0     30   \n",
       "\n",
       "                                                         model_ids  \\\n",
       "0  Grid_GBM_py_48_sid_9794_model_python_1486535343200_5212_model_0   \n",
       "1  Grid_GBM_py_48_sid_9794_model_python_1486535343200_5212_model_1   \n",
       "\n",
       "              logloss  \n",
       "0    0.55295434725286  \n",
       "1  0.5540855403855385  "
      ]
     },
     "execution_count": 158,
     "metadata": {},
     "output_type": "execute_result"
    }
   ],
   "source": [
    "grid_results = grid.get_grid(sort_by='logloss', decreasing=False)\n",
    "grid_results.sorted_metric_table()"
   ]
  },
  {
   "cell_type": "code",
   "execution_count": 159,
   "metadata": {
    "ExecuteTime": {
     "end_time": "2017-02-08T07:42:05.567006",
     "start_time": "2017-02-08T07:42:05.504679"
    },
    "collapsed": false,
    "scrolled": true
   },
   "outputs": [
    {
     "name": "stdout",
     "output_type": "stream",
     "text": [
      "Model Details\n",
      "=============\n",
      "H2OGradientBoostingEstimator :  Gradient Boosting Machine\n",
      "Model Key:  Grid_GBM_py_48_sid_9794_model_python_1486535343200_5212_model_0\n",
      "Model Summary: \n"
     ]
    },
    {
     "data": {
      "text/html": [
       "<div style=\"overflow:auto\"><table style=\"width:50%\"><tr><td><b></b></td>\n",
       "<td><b>number_of_trees</b></td>\n",
       "<td><b>number_of_internal_trees</b></td>\n",
       "<td><b>model_size_in_bytes</b></td>\n",
       "<td><b>min_depth</b></td>\n",
       "<td><b>max_depth</b></td>\n",
       "<td><b>mean_depth</b></td>\n",
       "<td><b>min_leaves</b></td>\n",
       "<td><b>max_leaves</b></td>\n",
       "<td><b>mean_leaves</b></td></tr>\n",
       "<tr><td></td>\n",
       "<td>30.0</td>\n",
       "<td>30.0</td>\n",
       "<td>474576.0</td>\n",
       "<td>20.0</td>\n",
       "<td>20.0</td>\n",
       "<td>20.0</td>\n",
       "<td>346.0</td>\n",
       "<td>1007.0</td>\n",
       "<td>708.43335</td></tr></table></div>"
      ],
      "text/plain": [
       "    number_of_trees    number_of_internal_trees    model_size_in_bytes    min_depth    max_depth    mean_depth    min_leaves    max_leaves    mean_leaves\n",
       "--  -----------------  --------------------------  ---------------------  -----------  -----------  ------------  ------------  ------------  -------------\n",
       "    30                 30                          474576                 20           20           20            346           1007          708.433"
      ]
     },
     "metadata": {},
     "output_type": "display_data"
    },
    {
     "name": "stdout",
     "output_type": "stream",
     "text": [
      "\n",
      "\n",
      "ModelMetricsBinomial: gbm\n",
      "** Reported on train data. **\n",
      "\n",
      "MSE: 0.12140987717908508\n",
      "RMSE: 0.34843920155327684\n",
      "LogLoss: 0.3982588564436409\n",
      "Mean Per-Class Error: 0.1457990714245927\n",
      "AUC: 0.938126640057931\n",
      "Gini: 0.876253280115862\n",
      "Confusion Matrix (Act/Pred) for max f1 @ threshold = 0.39734398753212635: \n"
     ]
    },
    {
     "data": {
      "text/html": [
       "<div style=\"overflow:auto\"><table style=\"width:50%\"><tr><td><b></b></td>\n",
       "<td><b>0</b></td>\n",
       "<td><b>1</b></td>\n",
       "<td><b>Error</b></td>\n",
       "<td><b>Rate</b></td></tr>\n",
       "<tr><td>0</td>\n",
       "<td>11561.0</td>\n",
       "<td>2121.0</td>\n",
       "<td>0.155</td>\n",
       "<td> (2121.0/13682.0)</td></tr>\n",
       "<tr><td>1</td>\n",
       "<td>1529.0</td>\n",
       "<td>9648.0</td>\n",
       "<td>0.1368</td>\n",
       "<td> (1529.0/11177.0)</td></tr>\n",
       "<tr><td>Total</td>\n",
       "<td>13090.0</td>\n",
       "<td>11769.0</td>\n",
       "<td>0.1468</td>\n",
       "<td> (3650.0/24859.0)</td></tr></table></div>"
      ],
      "text/plain": [
       "       0      1      Error    Rate\n",
       "-----  -----  -----  -------  ----------------\n",
       "0      11561  2121   0.155    (2121.0/13682.0)\n",
       "1      1529   9648   0.1368   (1529.0/11177.0)\n",
       "Total  13090  11769  0.1468   (3650.0/24859.0)"
      ]
     },
     "metadata": {},
     "output_type": "display_data"
    },
    {
     "name": "stdout",
     "output_type": "stream",
     "text": [
      "Maximum Metrics: Maximum metrics at their respective thresholds\n",
      "\n"
     ]
    },
    {
     "data": {
      "text/html": [
       "<div style=\"overflow:auto\"><table style=\"width:50%\"><tr><td><b>metric</b></td>\n",
       "<td><b>threshold</b></td>\n",
       "<td><b>value</b></td>\n",
       "<td><b>idx</b></td></tr>\n",
       "<tr><td>max f1</td>\n",
       "<td>0.3973440</td>\n",
       "<td>0.8409309</td>\n",
       "<td>234.0</td></tr>\n",
       "<tr><td>max f2</td>\n",
       "<td>0.3083178</td>\n",
       "<td>0.8920149</td>\n",
       "<td>275.0</td></tr>\n",
       "<tr><td>max f0point5</td>\n",
       "<td>0.5624460</td>\n",
       "<td>0.8649695</td>\n",
       "<td>164.0</td></tr>\n",
       "<tr><td>max accuracy</td>\n",
       "<td>0.4266237</td>\n",
       "<td>0.8544189</td>\n",
       "<td>221.0</td></tr>\n",
       "<tr><td>max precision</td>\n",
       "<td>0.9690433</td>\n",
       "<td>1.0</td>\n",
       "<td>0.0</td></tr>\n",
       "<tr><td>max recall</td>\n",
       "<td>0.1599995</td>\n",
       "<td>1.0</td>\n",
       "<td>354.0</td></tr>\n",
       "<tr><td>max specificity</td>\n",
       "<td>0.9690433</td>\n",
       "<td>1.0</td>\n",
       "<td>0.0</td></tr>\n",
       "<tr><td>max absolute_mcc</td>\n",
       "<td>0.3999631</td>\n",
       "<td>0.7060912</td>\n",
       "<td>233.0</td></tr>\n",
       "<tr><td>max min_per_class_accuracy</td>\n",
       "<td>0.4035698</td>\n",
       "<td>0.8531647</td>\n",
       "<td>231.0</td></tr>\n",
       "<tr><td>max mean_per_class_accuracy</td>\n",
       "<td>0.3999631</td>\n",
       "<td>0.8542009</td>\n",
       "<td>233.0</td></tr></table></div>"
      ],
      "text/plain": [
       "metric                       threshold    value     idx\n",
       "---------------------------  -----------  --------  -----\n",
       "max f1                       0.397344     0.840931  234\n",
       "max f2                       0.308318     0.892015  275\n",
       "max f0point5                 0.562446     0.86497   164\n",
       "max accuracy                 0.426624     0.854419  221\n",
       "max precision                0.969043     1         0\n",
       "max recall                   0.159999     1         354\n",
       "max specificity              0.969043     1         0\n",
       "max absolute_mcc             0.399963     0.706091  233\n",
       "max min_per_class_accuracy   0.40357      0.853165  231\n",
       "max mean_per_class_accuracy  0.399963     0.854201  233"
      ]
     },
     "metadata": {},
     "output_type": "display_data"
    },
    {
     "name": "stdout",
     "output_type": "stream",
     "text": [
      "Gains/Lift Table: Avg response rate: 44.96 %\n",
      "\n"
     ]
    },
    {
     "data": {
      "text/html": [
       "<div style=\"overflow:auto\"><table style=\"width:50%\"><tr><td><b></b></td>\n",
       "<td><b>group</b></td>\n",
       "<td><b>cumulative_data_fraction</b></td>\n",
       "<td><b>lower_threshold</b></td>\n",
       "<td><b>lift</b></td>\n",
       "<td><b>cumulative_lift</b></td>\n",
       "<td><b>response_rate</b></td>\n",
       "<td><b>cumulative_response_rate</b></td>\n",
       "<td><b>capture_rate</b></td>\n",
       "<td><b>cumulative_capture_rate</b></td>\n",
       "<td><b>gain</b></td>\n",
       "<td><b>cumulative_gain</b></td></tr>\n",
       "<tr><td></td>\n",
       "<td>1</td>\n",
       "<td>0.0100165</td>\n",
       "<td>0.9595026</td>\n",
       "<td>2.2241210</td>\n",
       "<td>2.2241210</td>\n",
       "<td>1.0</td>\n",
       "<td>1.0</td>\n",
       "<td>0.0222779</td>\n",
       "<td>0.0222779</td>\n",
       "<td>122.4120963</td>\n",
       "<td>122.4120963</td></tr>\n",
       "<tr><td></td>\n",
       "<td>2</td>\n",
       "<td>0.0200330</td>\n",
       "<td>0.9536849</td>\n",
       "<td>2.2241210</td>\n",
       "<td>2.2241210</td>\n",
       "<td>1.0</td>\n",
       "<td>1.0</td>\n",
       "<td>0.0222779</td>\n",
       "<td>0.0445558</td>\n",
       "<td>122.4120963</td>\n",
       "<td>122.4120963</td></tr>\n",
       "<tr><td></td>\n",
       "<td>3</td>\n",
       "<td>0.0300093</td>\n",
       "<td>0.9462814</td>\n",
       "<td>2.2241210</td>\n",
       "<td>2.2241210</td>\n",
       "<td>1.0</td>\n",
       "<td>1.0</td>\n",
       "<td>0.0221884</td>\n",
       "<td>0.0667442</td>\n",
       "<td>122.4120963</td>\n",
       "<td>122.4120963</td></tr>\n",
       "<tr><td></td>\n",
       "<td>4</td>\n",
       "<td>0.0400257</td>\n",
       "<td>0.9381132</td>\n",
       "<td>2.2241210</td>\n",
       "<td>2.2241210</td>\n",
       "<td>1.0</td>\n",
       "<td>1.0</td>\n",
       "<td>0.0222779</td>\n",
       "<td>0.0890221</td>\n",
       "<td>122.4120963</td>\n",
       "<td>122.4120963</td></tr>\n",
       "<tr><td></td>\n",
       "<td>5</td>\n",
       "<td>0.0500020</td>\n",
       "<td>0.9297010</td>\n",
       "<td>2.2241210</td>\n",
       "<td>2.2241210</td>\n",
       "<td>1.0</td>\n",
       "<td>1.0</td>\n",
       "<td>0.0221884</td>\n",
       "<td>0.1112105</td>\n",
       "<td>122.4120963</td>\n",
       "<td>122.4120963</td></tr>\n",
       "<tr><td></td>\n",
       "<td>6</td>\n",
       "<td>0.1000040</td>\n",
       "<td>0.8653398</td>\n",
       "<td>2.2241210</td>\n",
       "<td>2.2241210</td>\n",
       "<td>1.0</td>\n",
       "<td>1.0</td>\n",
       "<td>0.1112105</td>\n",
       "<td>0.2224210</td>\n",
       "<td>122.4120963</td>\n",
       "<td>122.4120963</td></tr>\n",
       "<tr><td></td>\n",
       "<td>7</td>\n",
       "<td>0.1500060</td>\n",
       "<td>0.7982108</td>\n",
       "<td>2.1972812</td>\n",
       "<td>2.2151744</td>\n",
       "<td>0.9879324</td>\n",
       "<td>0.9959775</td>\n",
       "<td>0.1098685</td>\n",
       "<td>0.3322895</td>\n",
       "<td>119.7281209</td>\n",
       "<td>121.5174378</td></tr>\n",
       "<tr><td></td>\n",
       "<td>8</td>\n",
       "<td>0.2000080</td>\n",
       "<td>0.7247330</td>\n",
       "<td>2.1346551</td>\n",
       "<td>2.1950446</td>\n",
       "<td>0.9597747</td>\n",
       "<td>0.9869268</td>\n",
       "<td>0.1067370</td>\n",
       "<td>0.4390266</td>\n",
       "<td>113.4655115</td>\n",
       "<td>119.5044562</td></tr>\n",
       "<tr><td></td>\n",
       "<td>9</td>\n",
       "<td>0.3000121</td>\n",
       "<td>0.5865825</td>\n",
       "<td>1.9279890</td>\n",
       "<td>2.1060260</td>\n",
       "<td>0.8668544</td>\n",
       "<td>0.9469027</td>\n",
       "<td>0.1928067</td>\n",
       "<td>0.6318332</td>\n",
       "<td>92.7989008</td>\n",
       "<td>110.6026044</td></tr>\n",
       "<tr><td></td>\n",
       "<td>10</td>\n",
       "<td>0.4000161</td>\n",
       "<td>0.4650361</td>\n",
       "<td>1.4672399</td>\n",
       "<td>1.9463295</td>\n",
       "<td>0.6596943</td>\n",
       "<td>0.8751006</td>\n",
       "<td>0.1467299</td>\n",
       "<td>0.7785631</td>\n",
       "<td>46.7239895</td>\n",
       "<td>94.6329507</td></tr>\n",
       "<tr><td></td>\n",
       "<td>11</td>\n",
       "<td>0.5000201</td>\n",
       "<td>0.3749927</td>\n",
       "<td>1.0807474</td>\n",
       "<td>1.7732131</td>\n",
       "<td>0.4859212</td>\n",
       "<td>0.7972647</td>\n",
       "<td>0.1080791</td>\n",
       "<td>0.8866422</td>\n",
       "<td>8.0747435</td>\n",
       "<td>77.3213093</td></tr>\n",
       "<tr><td></td>\n",
       "<td>12</td>\n",
       "<td>0.5999839</td>\n",
       "<td>0.3147365</td>\n",
       "<td>0.6444133</td>\n",
       "<td>1.5851429</td>\n",
       "<td>0.2897384</td>\n",
       "<td>0.7127053</td>\n",
       "<td>0.0644180</td>\n",
       "<td>0.9510602</td>\n",
       "<td>-35.5586683</td>\n",
       "<td>58.5142865</td></tr>\n",
       "<tr><td></td>\n",
       "<td>13</td>\n",
       "<td>0.6999879</td>\n",
       "<td>0.2705398</td>\n",
       "<td>0.3480221</td>\n",
       "<td>1.4084012</td>\n",
       "<td>0.1564763</td>\n",
       "<td>0.6332395</td>\n",
       "<td>0.0348036</td>\n",
       "<td>0.9858638</td>\n",
       "<td>-65.1977854</td>\n",
       "<td>40.8401177</td></tr>\n",
       "<tr><td></td>\n",
       "<td>14</td>\n",
       "<td>0.7999920</td>\n",
       "<td>0.2236308</td>\n",
       "<td>0.1279362</td>\n",
       "<td>1.2483350</td>\n",
       "<td>0.0575221</td>\n",
       "<td>0.5612712</td>\n",
       "<td>0.0127941</td>\n",
       "<td>0.9986580</td>\n",
       "<td>-87.2063838</td>\n",
       "<td>24.8335002</td></tr>\n",
       "<tr><td></td>\n",
       "<td>15</td>\n",
       "<td>0.8999960</td>\n",
       "<td>0.1504801</td>\n",
       "<td>0.0134199</td>\n",
       "<td>1.1111161</td>\n",
       "<td>0.0060338</td>\n",
       "<td>0.4995754</td>\n",
       "<td>0.0013420</td>\n",
       "<td>1.0</td>\n",
       "<td>-98.6580123</td>\n",
       "<td>11.1116077</td></tr>\n",
       "<tr><td></td>\n",
       "<td>16</td>\n",
       "<td>1.0</td>\n",
       "<td>0.0397302</td>\n",
       "<td>0.0</td>\n",
       "<td>1.0</td>\n",
       "<td>0.0</td>\n",
       "<td>0.4496158</td>\n",
       "<td>0.0</td>\n",
       "<td>1.0</td>\n",
       "<td>-100.0</td>\n",
       "<td>0.0</td></tr></table></div>"
      ],
      "text/plain": [
       "    group    cumulative_data_fraction    lower_threshold    lift       cumulative_lift    response_rate    cumulative_response_rate    capture_rate    cumulative_capture_rate    gain      cumulative_gain\n",
       "--  -------  --------------------------  -----------------  ---------  -----------------  ---------------  --------------------------  --------------  -------------------------  --------  -----------------\n",
       "    1        0.0100165                   0.959503           2.22412    2.22412            1                1                           0.0222779       0.0222779                  122.412   122.412\n",
       "    2        0.020033                    0.953685           2.22412    2.22412            1                1                           0.0222779       0.0445558                  122.412   122.412\n",
       "    3        0.0300093                   0.946281           2.22412    2.22412            1                1                           0.0221884       0.0667442                  122.412   122.412\n",
       "    4        0.0400257                   0.938113           2.22412    2.22412            1                1                           0.0222779       0.0890221                  122.412   122.412\n",
       "    5        0.050002                    0.929701           2.22412    2.22412            1                1                           0.0221884       0.111211                   122.412   122.412\n",
       "    6        0.100004                    0.86534            2.22412    2.22412            1                1                           0.111211        0.222421                   122.412   122.412\n",
       "    7        0.150006                    0.798211           2.19728    2.21517            0.987932         0.995977                    0.109868        0.33229                    119.728   121.517\n",
       "    8        0.200008                    0.724733           2.13466    2.19504            0.959775         0.986927                    0.106737        0.439027                   113.466   119.504\n",
       "    9        0.300012                    0.586583           1.92799    2.10603            0.866854         0.946903                    0.192807        0.631833                   92.7989   110.603\n",
       "    10       0.400016                    0.465036           1.46724    1.94633            0.659694         0.875101                    0.14673         0.778563                   46.724    94.633\n",
       "    11       0.50002                     0.374993           1.08075    1.77321            0.485921         0.797265                    0.108079        0.886642                   8.07474   77.3213\n",
       "    12       0.599984                    0.314736           0.644413   1.58514            0.289738         0.712705                    0.064418        0.95106                    -35.5587  58.5143\n",
       "    13       0.699988                    0.27054            0.348022   1.4084             0.156476         0.633239                    0.0348036       0.985864                   -65.1978  40.8401\n",
       "    14       0.799992                    0.223631           0.127936   1.24834            0.0575221        0.561271                    0.0127941       0.998658                   -87.2064  24.8335\n",
       "    15       0.899996                    0.15048            0.0134199  1.11112            0.00603379       0.499575                    0.00134204      1                          -98.658   11.1116\n",
       "    16       1                           0.0397302          0          1                  0                0.449616                    0               1                          -100      0"
      ]
     },
     "metadata": {},
     "output_type": "display_data"
    },
    {
     "name": "stdout",
     "output_type": "stream",
     "text": [
      "\n",
      "\n",
      "ModelMetricsBinomial: gbm\n",
      "** Reported on cross-validation data. **\n",
      "\n",
      "MSE: 0.18739553808707646\n",
      "RMSE: 0.43289206285987325\n",
      "LogLoss: 0.55295434725286\n",
      "Mean Per-Class Error: 0.2941315105648036\n",
      "AUC: 0.7767939902375115\n",
      "Gini: 0.553587980475023\n",
      "Confusion Matrix (Act/Pred) for max f1 @ threshold = 0.3531199660326569: \n"
     ]
    },
    {
     "data": {
      "text/html": [
       "<div style=\"overflow:auto\"><table style=\"width:50%\"><tr><td><b></b></td>\n",
       "<td><b>0</b></td>\n",
       "<td><b>1</b></td>\n",
       "<td><b>Error</b></td>\n",
       "<td><b>Rate</b></td></tr>\n",
       "<tr><td>0</td>\n",
       "<td>8452.0</td>\n",
       "<td>5230.0</td>\n",
       "<td>0.3823</td>\n",
       "<td> (5230.0/13682.0)</td></tr>\n",
       "<tr><td>1</td>\n",
       "<td>2621.0</td>\n",
       "<td>8556.0</td>\n",
       "<td>0.2345</td>\n",
       "<td> (2621.0/11177.0)</td></tr>\n",
       "<tr><td>Total</td>\n",
       "<td>11073.0</td>\n",
       "<td>13786.0</td>\n",
       "<td>0.3158</td>\n",
       "<td> (7851.0/24859.0)</td></tr></table></div>"
      ],
      "text/plain": [
       "       0      1      Error    Rate\n",
       "-----  -----  -----  -------  ----------------\n",
       "0      8452   5230   0.3823   (5230.0/13682.0)\n",
       "1      2621   8556   0.2345   (2621.0/11177.0)\n",
       "Total  11073  13786  0.3158   (7851.0/24859.0)"
      ]
     },
     "metadata": {},
     "output_type": "display_data"
    },
    {
     "name": "stdout",
     "output_type": "stream",
     "text": [
      "Maximum Metrics: Maximum metrics at their respective thresholds\n",
      "\n"
     ]
    },
    {
     "data": {
      "text/html": [
       "<div style=\"overflow:auto\"><table style=\"width:50%\"><tr><td><b>metric</b></td>\n",
       "<td><b>threshold</b></td>\n",
       "<td><b>value</b></td>\n",
       "<td><b>idx</b></td></tr>\n",
       "<tr><td>max f1</td>\n",
       "<td>0.3531200</td>\n",
       "<td>0.6854945</td>\n",
       "<td>247.0</td></tr>\n",
       "<tr><td>max f2</td>\n",
       "<td>0.1472856</td>\n",
       "<td>0.8103441</td>\n",
       "<td>362.0</td></tr>\n",
       "<tr><td>max f0point5</td>\n",
       "<td>0.5758792</td>\n",
       "<td>0.7036580</td>\n",
       "<td>144.0</td></tr>\n",
       "<tr><td>max accuracy</td>\n",
       "<td>0.4926624</td>\n",
       "<td>0.7164005</td>\n",
       "<td>179.0</td></tr>\n",
       "<tr><td>max precision</td>\n",
       "<td>0.9672483</td>\n",
       "<td>1.0</td>\n",
       "<td>0.0</td></tr>\n",
       "<tr><td>max recall</td>\n",
       "<td>0.0514200</td>\n",
       "<td>1.0</td>\n",
       "<td>398.0</td></tr>\n",
       "<tr><td>max specificity</td>\n",
       "<td>0.9672483</td>\n",
       "<td>1.0</td>\n",
       "<td>0.0</td></tr>\n",
       "<tr><td>max absolute_mcc</td>\n",
       "<td>0.5596448</td>\n",
       "<td>0.4260518</td>\n",
       "<td>151.0</td></tr>\n",
       "<tr><td>max min_per_class_accuracy</td>\n",
       "<td>0.3951270</td>\n",
       "<td>0.6993130</td>\n",
       "<td>225.0</td></tr>\n",
       "<tr><td>max mean_per_class_accuracy</td>\n",
       "<td>0.4767713</td>\n",
       "<td>0.7058685</td>\n",
       "<td>186.0</td></tr></table></div>"
      ],
      "text/plain": [
       "metric                       threshold    value     idx\n",
       "---------------------------  -----------  --------  -----\n",
       "max f1                       0.35312      0.685495  247\n",
       "max f2                       0.147286     0.810344  362\n",
       "max f0point5                 0.575879     0.703658  144\n",
       "max accuracy                 0.492662     0.7164    179\n",
       "max precision                0.967248     1         0\n",
       "max recall                   0.05142      1         398\n",
       "max specificity              0.967248     1         0\n",
       "max absolute_mcc             0.559645     0.426052  151\n",
       "max min_per_class_accuracy   0.395127     0.699313  225\n",
       "max mean_per_class_accuracy  0.476771     0.705868  186"
      ]
     },
     "metadata": {},
     "output_type": "display_data"
    },
    {
     "name": "stdout",
     "output_type": "stream",
     "text": [
      "Gains/Lift Table: Avg response rate: 44.96 %\n",
      "\n"
     ]
    },
    {
     "data": {
      "text/html": [
       "<div style=\"overflow:auto\"><table style=\"width:50%\"><tr><td><b></b></td>\n",
       "<td><b>group</b></td>\n",
       "<td><b>cumulative_data_fraction</b></td>\n",
       "<td><b>lower_threshold</b></td>\n",
       "<td><b>lift</b></td>\n",
       "<td><b>cumulative_lift</b></td>\n",
       "<td><b>response_rate</b></td>\n",
       "<td><b>cumulative_response_rate</b></td>\n",
       "<td><b>capture_rate</b></td>\n",
       "<td><b>cumulative_capture_rate</b></td>\n",
       "<td><b>gain</b></td>\n",
       "<td><b>cumulative_gain</b></td></tr>\n",
       "<tr><td></td>\n",
       "<td>1</td>\n",
       "<td>0.0100165</td>\n",
       "<td>0.9592377</td>\n",
       "<td>2.1973243</td>\n",
       "<td>2.1973243</td>\n",
       "<td>0.9879518</td>\n",
       "<td>0.9879518</td>\n",
       "<td>0.0220095</td>\n",
       "<td>0.0220095</td>\n",
       "<td>119.7324325</td>\n",
       "<td>119.7324325</td></tr>\n",
       "<tr><td></td>\n",
       "<td>2</td>\n",
       "<td>0.0200330</td>\n",
       "<td>0.9517443</td>\n",
       "<td>2.1883921</td>\n",
       "<td>2.1928582</td>\n",
       "<td>0.9839357</td>\n",
       "<td>0.9859438</td>\n",
       "<td>0.0219200</td>\n",
       "<td>0.0439295</td>\n",
       "<td>118.8392112</td>\n",
       "<td>119.2858218</td></tr>\n",
       "<tr><td></td>\n",
       "<td>3</td>\n",
       "<td>0.0300093</td>\n",
       "<td>0.9430476</td>\n",
       "<td>2.1792798</td>\n",
       "<td>2.1883442</td>\n",
       "<td>0.9798387</td>\n",
       "<td>0.9839142</td>\n",
       "<td>0.0217411</td>\n",
       "<td>0.0656706</td>\n",
       "<td>117.9279814</td>\n",
       "<td>118.8344218</td></tr>\n",
       "<tr><td></td>\n",
       "<td>4</td>\n",
       "<td>0.0400257</td>\n",
       "<td>0.9323897</td>\n",
       "<td>2.1705277</td>\n",
       "<td>2.1838856</td>\n",
       "<td>0.9759036</td>\n",
       "<td>0.9819095</td>\n",
       "<td>0.0217411</td>\n",
       "<td>0.0874116</td>\n",
       "<td>117.0527686</td>\n",
       "<td>118.3885609</td></tr>\n",
       "<tr><td></td>\n",
       "<td>5</td>\n",
       "<td>0.0500020</td>\n",
       "<td>0.9206131</td>\n",
       "<td>2.1075340</td>\n",
       "<td>2.1686521</td>\n",
       "<td>0.9475806</td>\n",
       "<td>0.9750603</td>\n",
       "<td>0.0210253</td>\n",
       "<td>0.1084370</td>\n",
       "<td>110.7533977</td>\n",
       "<td>116.8652137</td></tr>\n",
       "<tr><td></td>\n",
       "<td>6</td>\n",
       "<td>0.1000040</td>\n",
       "<td>0.8472125</td>\n",
       "<td>1.9879311</td>\n",
       "<td>2.0782916</td>\n",
       "<td>0.8938053</td>\n",
       "<td>0.9344328</td>\n",
       "<td>0.0994006</td>\n",
       "<td>0.2078375</td>\n",
       "<td>98.7931126</td>\n",
       "<td>107.8291632</td></tr>\n",
       "<tr><td></td>\n",
       "<td>7</td>\n",
       "<td>0.1500060</td>\n",
       "<td>0.7702347</td>\n",
       "<td>1.8233140</td>\n",
       "<td>1.9932991</td>\n",
       "<td>0.8197908</td>\n",
       "<td>0.8962188</td>\n",
       "<td>0.0911694</td>\n",
       "<td>0.2990069</td>\n",
       "<td>82.3313967</td>\n",
       "<td>99.3299077</td></tr>\n",
       "<tr><td></td>\n",
       "<td>8</td>\n",
       "<td>0.2000080</td>\n",
       "<td>0.6941207</td>\n",
       "<td>1.5907028</td>\n",
       "<td>1.8926500</td>\n",
       "<td>0.7152051</td>\n",
       "<td>0.8509654</td>\n",
       "<td>0.0795383</td>\n",
       "<td>0.3785452</td>\n",
       "<td>59.0702764</td>\n",
       "<td>89.2649999</td></tr>\n",
       "<tr><td></td>\n",
       "<td>9</td>\n",
       "<td>0.3000121</td>\n",
       "<td>0.5599633</td>\n",
       "<td>1.3706168</td>\n",
       "<td>1.7186389</td>\n",
       "<td>0.6162510</td>\n",
       "<td>0.7727273</td>\n",
       "<td>0.1370672</td>\n",
       "<td>0.5156124</td>\n",
       "<td>37.0616780</td>\n",
       "<td>71.8638926</td></tr>\n",
       "<tr><td></td>\n",
       "<td>10</td>\n",
       "<td>0.4000161</td>\n",
       "<td>0.4554407</td>\n",
       "<td>1.0941673</td>\n",
       "<td>1.5625210</td>\n",
       "<td>0.4919549</td>\n",
       "<td>0.7025342</td>\n",
       "<td>0.1094211</td>\n",
       "<td>0.6250336</td>\n",
       "<td>9.4167312</td>\n",
       "<td>56.2521022</td></tr>\n",
       "<tr><td></td>\n",
       "<td>11</td>\n",
       "<td>0.5000201</td>\n",
       "<td>0.3823649</td>\n",
       "<td>0.9411807</td>\n",
       "<td>1.4382530</td>\n",
       "<td>0.4231698</td>\n",
       "<td>0.6466613</td>\n",
       "<td>0.0941219</td>\n",
       "<td>0.7191554</td>\n",
       "<td>-5.8819287</td>\n",
       "<td>43.8252960</td></tr>\n",
       "<tr><td></td>\n",
       "<td>12</td>\n",
       "<td>0.5999839</td>\n",
       "<td>0.3288539</td>\n",
       "<td>0.7992515</td>\n",
       "<td>1.3317884</td>\n",
       "<td>0.3593561</td>\n",
       "<td>0.5987932</td>\n",
       "<td>0.0798962</td>\n",
       "<td>0.7990516</td>\n",
       "<td>-20.0748483</td>\n",
       "<td>33.1788422</td></tr>\n",
       "<tr><td></td>\n",
       "<td>13</td>\n",
       "<td>0.6999879</td>\n",
       "<td>0.2845547</td>\n",
       "<td>0.6611526</td>\n",
       "<td>1.2359778</td>\n",
       "<td>0.2972647</td>\n",
       "<td>0.5557152</td>\n",
       "<td>0.0661179</td>\n",
       "<td>0.8651695</td>\n",
       "<td>-33.8847389</td>\n",
       "<td>23.5977801</td></tr>\n",
       "<tr><td></td>\n",
       "<td>14</td>\n",
       "<td>0.7999920</td>\n",
       "<td>0.2402099</td>\n",
       "<td>0.5761601</td>\n",
       "<td>1.1534964</td>\n",
       "<td>0.2590507</td>\n",
       "<td>0.5186303</td>\n",
       "<td>0.0576183</td>\n",
       "<td>0.9227879</td>\n",
       "<td>-42.3839944</td>\n",
       "<td>15.3496435</td></tr>\n",
       "<tr><td></td>\n",
       "<td>15</td>\n",
       "<td>0.8999960</td>\n",
       "<td>0.1711740</td>\n",
       "<td>0.4938515</td>\n",
       "<td>1.0801993</td>\n",
       "<td>0.2220434</td>\n",
       "<td>0.4856747</td>\n",
       "<td>0.0493871</td>\n",
       "<td>0.9721750</td>\n",
       "<td>-50.6148523</td>\n",
       "<td>8.0199275</td></tr>\n",
       "<tr><td></td>\n",
       "<td>16</td>\n",
       "<td>1.0</td>\n",
       "<td>0.0368611</td>\n",
       "<td>0.2782388</td>\n",
       "<td>1.0</td>\n",
       "<td>0.1251006</td>\n",
       "<td>0.4496158</td>\n",
       "<td>0.0278250</td>\n",
       "<td>1.0</td>\n",
       "<td>-72.1761215</td>\n",
       "<td>0.0</td></tr></table></div>"
      ],
      "text/plain": [
       "    group    cumulative_data_fraction    lower_threshold    lift      cumulative_lift    response_rate    cumulative_response_rate    capture_rate    cumulative_capture_rate    gain      cumulative_gain\n",
       "--  -------  --------------------------  -----------------  --------  -----------------  ---------------  --------------------------  --------------  -------------------------  --------  -----------------\n",
       "    1        0.0100165                   0.959238           2.19732   2.19732            0.987952         0.987952                    0.0220095       0.0220095                  119.732   119.732\n",
       "    2        0.020033                    0.951744           2.18839   2.19286            0.983936         0.985944                    0.02192         0.0439295                  118.839   119.286\n",
       "    3        0.0300093                   0.943048           2.17928   2.18834            0.979839         0.983914                    0.0217411       0.0656706                  117.928   118.834\n",
       "    4        0.0400257                   0.93239            2.17053   2.18389            0.975904         0.98191                     0.0217411       0.0874116                  117.053   118.389\n",
       "    5        0.050002                    0.920613           2.10753   2.16865            0.947581         0.97506                     0.0210253       0.108437                   110.753   116.865\n",
       "    6        0.100004                    0.847212           1.98793   2.07829            0.893805         0.934433                    0.0994006       0.207838                   98.7931   107.829\n",
       "    7        0.150006                    0.770235           1.82331   1.9933             0.819791         0.896219                    0.0911694       0.299007                   82.3314   99.3299\n",
       "    8        0.200008                    0.694121           1.5907    1.89265            0.715205         0.850965                    0.0795383       0.378545                   59.0703   89.265\n",
       "    9        0.300012                    0.559963           1.37062   1.71864            0.616251         0.772727                    0.137067        0.515612                   37.0617   71.8639\n",
       "    10       0.400016                    0.455441           1.09417   1.56252            0.491955         0.702534                    0.109421        0.625034                   9.41673   56.2521\n",
       "    11       0.50002                     0.382365           0.941181  1.43825            0.42317          0.646661                    0.0941219       0.719155                   -5.88193  43.8253\n",
       "    12       0.599984                    0.328854           0.799252  1.33179            0.359356         0.598793                    0.0798962       0.799052                   -20.0748  33.1788\n",
       "    13       0.699988                    0.284555           0.661153  1.23598            0.297265         0.555715                    0.0661179       0.86517                    -33.8847  23.5978\n",
       "    14       0.799992                    0.24021            0.57616   1.1535             0.259051         0.51863                     0.0576183       0.922788                   -42.384   15.3496\n",
       "    15       0.899996                    0.171174           0.493851  1.0802             0.222043         0.485675                    0.0493871       0.972175                   -50.6149  8.01993\n",
       "    16       1                           0.0368611          0.278239  1                  0.125101         0.449616                    0.027825        1                          -72.1761  0"
      ]
     },
     "metadata": {},
     "output_type": "display_data"
    },
    {
     "name": "stdout",
     "output_type": "stream",
     "text": [
      "\n",
      "Cross-Validation Metrics Summary: \n"
     ]
    },
    {
     "data": {
      "text/html": [
       "<div style=\"overflow:auto\"><table style=\"width:50%\"><tr><td><b></b></td>\n",
       "<td><b>mean</b></td>\n",
       "<td><b>sd</b></td>\n",
       "<td><b>cv_1_valid</b></td>\n",
       "<td><b>cv_2_valid</b></td>\n",
       "<td><b>cv_3_valid</b></td>\n",
       "<td><b>cv_4_valid</b></td>\n",
       "<td><b>cv_5_valid</b></td></tr>\n",
       "<tr><td>accuracy</td>\n",
       "<td>0.6807503</td>\n",
       "<td>0.0104317</td>\n",
       "<td>0.6676804</td>\n",
       "<td>0.6782069</td>\n",
       "<td>0.7089746</td>\n",
       "<td>0.6786148</td>\n",
       "<td>0.6702746</td></tr>\n",
       "<tr><td>auc</td>\n",
       "<td>0.7767161</td>\n",
       "<td>0.0062445</td>\n",
       "<td>0.7602965</td>\n",
       "<td>0.7793535</td>\n",
       "<td>0.7867511</td>\n",
       "<td>0.7802712</td>\n",
       "<td>0.7769083</td></tr>\n",
       "<tr><td>err</td>\n",
       "<td>0.3192497</td>\n",
       "<td>0.0104317</td>\n",
       "<td>0.3323196</td>\n",
       "<td>0.3217931</td>\n",
       "<td>0.2910254</td>\n",
       "<td>0.3213852</td>\n",
       "<td>0.3297254</td></tr>\n",
       "<tr><td>err_count</td>\n",
       "<td>1587.0</td>\n",
       "<td>48.651825</td>\n",
       "<td>1639.0</td>\n",
       "<td>1608.0</td>\n",
       "<td>1456.0</td>\n",
       "<td>1587.0</td>\n",
       "<td>1645.0</td></tr>\n",
       "<tr><td>f0point5</td>\n",
       "<td>0.6419515</td>\n",
       "<td>0.0117463</td>\n",
       "<td>0.6245257</td>\n",
       "<td>0.635857</td>\n",
       "<td>0.6719037</td>\n",
       "<td>0.6465179</td>\n",
       "<td>0.6309532</td></tr>\n",
       "<tr><td>f1</td>\n",
       "<td>0.6871622</td>\n",
       "<td>0.0076229</td>\n",
       "<td>0.6676131</td>\n",
       "<td>0.6860601</td>\n",
       "<td>0.6983009</td>\n",
       "<td>0.6956855</td>\n",
       "<td>0.6881517</td></tr>\n",
       "<tr><td>f2</td>\n",
       "<td>0.7397031</td>\n",
       "<td>0.0108138</td>\n",
       "<td>0.7170864</td>\n",
       "<td>0.7448702</td>\n",
       "<td>0.7268571</td>\n",
       "<td>0.7529470</td>\n",
       "<td>0.7567545</td></tr>\n",
       "<tr><td>lift_top_group</td>\n",
       "<td>2.1982698</td>\n",
       "<td>0.0451440</td>\n",
       "<td>2.2603116</td>\n",
       "<td>2.2468526</td>\n",
       "<td>2.2186253</td>\n",
       "<td>2.0818973</td>\n",
       "<td>2.1836624</td></tr>\n",
       "<tr><td>logloss</td>\n",
       "<td>0.5529907</td>\n",
       "<td>0.0055853</td>\n",
       "<td>0.5670603</td>\n",
       "<td>0.549654</td>\n",
       "<td>0.5429523</td>\n",
       "<td>0.5516805</td>\n",
       "<td>0.5536061</td></tr>\n",
       "<tr><td>max_per_class_error</td>\n",
       "<td>0.4002745</td>\n",
       "<td>0.0293073</td>\n",
       "<td>0.4010909</td>\n",
       "<td>0.4114677</td>\n",
       "<td>0.3224163</td>\n",
       "<td>0.4223976</td>\n",
       "<td>0.444</td></tr>\n",
       "<tr><td>mcc</td>\n",
       "<td>0.3821956</td>\n",
       "<td>0.0160466</td>\n",
       "<td>0.3532462</td>\n",
       "<td>0.3811628</td>\n",
       "<td>0.4229078</td>\n",
       "<td>0.3800510</td>\n",
       "<td>0.3736105</td></tr>\n",
       "<tr><td>mean_per_class_accuracy</td>\n",
       "<td>0.689752</td>\n",
       "<td>0.0085667</td>\n",
       "<td>0.6766315</td>\n",
       "<td>0.6892751</td>\n",
       "<td>0.7124060</td>\n",
       "<td>0.6871324</td>\n",
       "<td>0.6833149</td></tr>\n",
       "<tr><td>mean_per_class_error</td>\n",
       "<td>0.3102480</td>\n",
       "<td>0.0085667</td>\n",
       "<td>0.3233685</td>\n",
       "<td>0.3107249</td>\n",
       "<td>0.2875940</td>\n",
       "<td>0.3128677</td>\n",
       "<td>0.3166851</td></tr>\n",
       "<tr><td>mse</td>\n",
       "<td>0.1874106</td>\n",
       "<td>0.0024399</td>\n",
       "<td>0.193469</td>\n",
       "<td>0.1861767</td>\n",
       "<td>0.1829071</td>\n",
       "<td>0.1865528</td>\n",
       "<td>0.1879474</td></tr>\n",
       "<tr><td>precision</td>\n",
       "<td>0.6151367</td>\n",
       "<td>0.0150716</td>\n",
       "<td>0.5987632</td>\n",
       "<td>0.6062802</td>\n",
       "<td>0.655387</td>\n",
       "<td>0.6174268</td>\n",
       "<td>0.5978261</td></tr>\n",
       "<tr><td>r2</td>\n",
       "<td>0.2425205</td>\n",
       "<td>0.0106347</td>\n",
       "<td>0.2157219</td>\n",
       "<td>0.2461946</td>\n",
       "<td>0.2611975</td>\n",
       "<td>0.2492486</td>\n",
       "<td>0.2402398</td></tr>\n",
       "<tr><td>recall</td>\n",
       "<td>0.7797784</td>\n",
       "<td>0.0174575</td>\n",
       "<td>0.7543538</td>\n",
       "<td>0.7900180</td>\n",
       "<td>0.7472284</td>\n",
       "<td>0.7966623</td>\n",
       "<td>0.8106297</td></tr>\n",
       "<tr><td>rmse</td>\n",
       "<td>0.4328912</td>\n",
       "<td>0.0028102</td>\n",
       "<td>0.4398511</td>\n",
       "<td>0.4314819</td>\n",
       "<td>0.4276764</td>\n",
       "<td>0.4319176</td>\n",
       "<td>0.433529</td></tr>\n",
       "<tr><td>specificity</td>\n",
       "<td>0.5997255</td>\n",
       "<td>0.0293073</td>\n",
       "<td>0.5989091</td>\n",
       "<td>0.5885323</td>\n",
       "<td>0.6775837</td>\n",
       "<td>0.5776024</td>\n",
       "<td>0.556</td></tr></table></div>"
      ],
      "text/plain": [
       "                         mean      sd          cv_1_valid    cv_2_valid    cv_3_valid    cv_4_valid    cv_5_valid\n",
       "-----------------------  --------  ----------  ------------  ------------  ------------  ------------  ------------\n",
       "accuracy                 0.68075   0.0104317   0.66768       0.678207      0.708975      0.678615      0.670275\n",
       "auc                      0.776716  0.00624451  0.760296      0.779354      0.786751      0.780271      0.776908\n",
       "err                      0.31925   0.0104317   0.33232       0.321793      0.291025      0.321385      0.329725\n",
       "err_count                1587      48.6518     1639          1608          1456          1587          1645\n",
       "f0point5                 0.641952  0.0117463   0.624526      0.635857      0.671904      0.646518      0.630953\n",
       "f1                       0.687162  0.00762286  0.667613      0.68606       0.698301      0.695685      0.688152\n",
       "f2                       0.739703  0.0108138   0.717086      0.74487       0.726857      0.752947      0.756754\n",
       "lift_top_group           2.19827   0.045144    2.26031       2.24685       2.21863       2.0819        2.18366\n",
       "logloss                  0.552991  0.00558529  0.56706       0.549654      0.542952      0.551681      0.553606\n",
       "max_per_class_error      0.400275  0.0293073   0.401091      0.411468      0.322416      0.422398      0.444\n",
       "mcc                      0.382196  0.0160466   0.353246      0.381163      0.422908      0.380051      0.373611\n",
       "mean_per_class_accuracy  0.689752  0.00856669  0.676631      0.689275      0.712406      0.687132      0.683315\n",
       "mean_per_class_error     0.310248  0.00856669  0.323369      0.310725      0.287594      0.312868      0.316685\n",
       "mse                      0.187411  0.00243992  0.193469      0.186177      0.182907      0.186553      0.187947\n",
       "precision                0.615137  0.0150716   0.598763      0.60628       0.655387      0.617427      0.597826\n",
       "r2                       0.24252   0.0106347   0.215722      0.246195      0.261198      0.249249      0.24024\n",
       "recall                   0.779778  0.0174575   0.754354      0.790018      0.747228      0.796662      0.81063\n",
       "rmse                     0.432891  0.00281025  0.439851      0.431482      0.427676      0.431918      0.433529\n",
       "specificity              0.599726  0.0293073   0.598909      0.588532      0.677584      0.577602      0.556"
      ]
     },
     "metadata": {},
     "output_type": "display_data"
    },
    {
     "name": "stdout",
     "output_type": "stream",
     "text": [
      "Scoring History: \n"
     ]
    },
    {
     "data": {
      "text/html": [
       "<div style=\"overflow:auto\"><table style=\"width:50%\"><tr><td><b></b></td>\n",
       "<td><b>timestamp</b></td>\n",
       "<td><b>duration</b></td>\n",
       "<td><b>number_of_trees</b></td>\n",
       "<td><b>training_rmse</b></td>\n",
       "<td><b>training_logloss</b></td>\n",
       "<td><b>training_auc</b></td>\n",
       "<td><b>training_lift</b></td>\n",
       "<td><b>training_classification_error</b></td></tr>\n",
       "<tr><td></td>\n",
       "<td>2017-02-08 07:41:10</td>\n",
       "<td>37.482 sec</td>\n",
       "<td>0.0</td>\n",
       "<td>0.4974550</td>\n",
       "<td>0.6880614</td>\n",
       "<td>0.5</td>\n",
       "<td>1.0</td>\n",
       "<td>0.5503842</td></tr>\n",
       "<tr><td></td>\n",
       "<td>2017-02-08 07:41:10</td>\n",
       "<td>37.610 sec</td>\n",
       "<td>1.0</td>\n",
       "<td>0.4882238</td>\n",
       "<td>0.6697087</td>\n",
       "<td>0.7236020</td>\n",
       "<td>2.2241210</td>\n",
       "<td>0.4952331</td></tr>\n",
       "<tr><td></td>\n",
       "<td>2017-02-08 07:41:10</td>\n",
       "<td>37.781 sec</td>\n",
       "<td>2.0</td>\n",
       "<td>0.4771886</td>\n",
       "<td>0.6480764</td>\n",
       "<td>0.7910987</td>\n",
       "<td>2.2241210</td>\n",
       "<td>0.3119192</td></tr>\n",
       "<tr><td></td>\n",
       "<td>2017-02-08 07:41:11</td>\n",
       "<td>38.040 sec</td>\n",
       "<td>3.0</td>\n",
       "<td>0.4673608</td>\n",
       "<td>0.6290509</td>\n",
       "<td>0.8142465</td>\n",
       "<td>2.2241210</td>\n",
       "<td>0.3093849</td></tr>\n",
       "<tr><td></td>\n",
       "<td>2017-02-08 07:41:11</td>\n",
       "<td>38.333 sec</td>\n",
       "<td>4.0</td>\n",
       "<td>0.4573849</td>\n",
       "<td>0.6098163</td>\n",
       "<td>0.8355073</td>\n",
       "<td>2.2241210</td>\n",
       "<td>0.2615149</td></tr>\n",
       "<tr><td></td>\n",
       "<td>2017-02-08 07:41:11</td>\n",
       "<td>38.634 sec</td>\n",
       "<td>5.0</td>\n",
       "<td>0.4488621</td>\n",
       "<td>0.5933916</td>\n",
       "<td>0.8449572</td>\n",
       "<td>2.2241210</td>\n",
       "<td>0.2571302</td></tr>\n",
       "<tr><td></td>\n",
       "<td>2017-02-08 07:41:12</td>\n",
       "<td>38.912 sec</td>\n",
       "<td>6.0</td>\n",
       "<td>0.4444117</td>\n",
       "<td>0.5846155</td>\n",
       "<td>0.8448200</td>\n",
       "<td>2.2241210</td>\n",
       "<td>0.2564866</td></tr>\n",
       "<tr><td></td>\n",
       "<td>2017-02-08 07:41:12</td>\n",
       "<td>39.241 sec</td>\n",
       "<td>7.0</td>\n",
       "<td>0.4376184</td>\n",
       "<td>0.5713864</td>\n",
       "<td>0.8511790</td>\n",
       "<td>2.2241210</td>\n",
       "<td>0.2502112</td></tr>\n",
       "<tr><td></td>\n",
       "<td>2017-02-08 07:41:12</td>\n",
       "<td>39.572 sec</td>\n",
       "<td>8.0</td>\n",
       "<td>0.4315082</td>\n",
       "<td>0.5593732</td>\n",
       "<td>0.8557237</td>\n",
       "<td>2.2241210</td>\n",
       "<td>0.2516191</td></tr>\n",
       "<tr><td></td>\n",
       "<td>2017-02-08 07:41:13</td>\n",
       "<td>39.896 sec</td>\n",
       "<td>9.0</td>\n",
       "<td>0.4278151</td>\n",
       "<td>0.5519788</td>\n",
       "<td>0.8565814</td>\n",
       "<td>2.2241210</td>\n",
       "<td>0.2504526</td></tr>\n",
       "<tr><td></td>\n",
       "<td>2017-02-08 07:41:13</td>\n",
       "<td>40.289 sec</td>\n",
       "<td>10.0</td>\n",
       "<td>0.4230465</td>\n",
       "<td>0.5424727</td>\n",
       "<td>0.8608639</td>\n",
       "<td>2.2241210</td>\n",
       "<td>0.2394304</td></tr>\n",
       "<tr><td></td>\n",
       "<td>2017-02-08 07:41:13</td>\n",
       "<td>40.686 sec</td>\n",
       "<td>11.0</td>\n",
       "<td>0.4181324</td>\n",
       "<td>0.5326247</td>\n",
       "<td>0.8651182</td>\n",
       "<td>2.2241210</td>\n",
       "<td>0.2397522</td></tr>\n",
       "<tr><td></td>\n",
       "<td>2017-02-08 07:41:14</td>\n",
       "<td>41.095 sec</td>\n",
       "<td>12.0</td>\n",
       "<td>0.4151704</td>\n",
       "<td>0.5264088</td>\n",
       "<td>0.8663825</td>\n",
       "<td>2.2241210</td>\n",
       "<td>0.2388270</td></tr>\n",
       "<tr><td></td>\n",
       "<td>2017-02-08 07:41:17</td>\n",
       "<td>44.058 sec</td>\n",
       "<td>30.0</td>\n",
       "<td>0.3484392</td>\n",
       "<td>0.3982589</td>\n",
       "<td>0.9381266</td>\n",
       "<td>2.2241210</td>\n",
       "<td>0.1468281</td></tr></table></div>"
      ],
      "text/plain": [
       "    timestamp            duration    number_of_trees    training_rmse    training_logloss    training_auc    training_lift    training_classification_error\n",
       "--  -------------------  ----------  -----------------  ---------------  ------------------  --------------  ---------------  -------------------------------\n",
       "    2017-02-08 07:41:10  37.482 sec  0                  0.497455         0.688061            0.5             1                0.550384\n",
       "    2017-02-08 07:41:10  37.610 sec  1                  0.488224         0.669709            0.723602        2.22412          0.495233\n",
       "    2017-02-08 07:41:10  37.781 sec  2                  0.477189         0.648076            0.791099        2.22412          0.311919\n",
       "    2017-02-08 07:41:11  38.040 sec  3                  0.467361         0.629051            0.814247        2.22412          0.309385\n",
       "    2017-02-08 07:41:11  38.333 sec  4                  0.457385         0.609816            0.835507        2.22412          0.261515\n",
       "    2017-02-08 07:41:11  38.634 sec  5                  0.448862         0.593392            0.844957        2.22412          0.25713\n",
       "    2017-02-08 07:41:12  38.912 sec  6                  0.444412         0.584615            0.84482         2.22412          0.256487\n",
       "    2017-02-08 07:41:12  39.241 sec  7                  0.437618         0.571386            0.851179        2.22412          0.250211\n",
       "    2017-02-08 07:41:12  39.572 sec  8                  0.431508         0.559373            0.855724        2.22412          0.251619\n",
       "    2017-02-08 07:41:13  39.896 sec  9                  0.427815         0.551979            0.856581        2.22412          0.250453\n",
       "    2017-02-08 07:41:13  40.289 sec  10                 0.423047         0.542473            0.860864        2.22412          0.23943\n",
       "    2017-02-08 07:41:13  40.686 sec  11                 0.418132         0.532625            0.865118        2.22412          0.239752\n",
       "    2017-02-08 07:41:14  41.095 sec  12                 0.41517          0.526409            0.866382        2.22412          0.238827\n",
       "    2017-02-08 07:41:17  44.058 sec  30                 0.348439         0.398259            0.938127        2.22412          0.146828"
      ]
     },
     "metadata": {},
     "output_type": "display_data"
    },
    {
     "name": "stdout",
     "output_type": "stream",
     "text": [
      "Variable Importances: \n"
     ]
    },
    {
     "data": {
      "text/html": [
       "<div style=\"overflow:auto\"><table style=\"width:50%\"><tr><td><b>variable</b></td>\n",
       "<td><b>relative_importance</b></td>\n",
       "<td><b>scaled_importance</b></td>\n",
       "<td><b>percentage</b></td></tr>\n",
       "<tr><td>reserve_fee_pct</td>\n",
       "<td>14538.1152344</td>\n",
       "<td>1.0</td>\n",
       "<td>0.3940146</td></tr>\n",
       "<tr><td>peer_repay_ratio</td>\n",
       "<td>5030.3208008</td>\n",
       "<td>0.3460091</td>\n",
       "<td>0.1363327</td></tr>\n",
       "<tr><td>peer_network_comments_by</td>\n",
       "<td>3667.4553223</td>\n",
       "<td>0.2522648</td>\n",
       "<td>0.0993960</td></tr>\n",
       "<tr><td>parent_repay_ratio</td>\n",
       "<td>2901.9892578</td>\n",
       "<td>0.1996125</td>\n",
       "<td>0.0786502</td></tr>\n",
       "<tr><td>peer_network_avg_char_per_comment_by</td>\n",
       "<td>2130.2753906</td>\n",
       "<td>0.1465304</td>\n",
       "<td>0.0577351</td></tr>\n",
       "<tr><td>---</td>\n",
       "<td>---</td>\n",
       "<td>---</td>\n",
       "<td>---</td></tr>\n",
       "<tr><td>parent_comment_cnt</td>\n",
       "<td>87.1575775</td>\n",
       "<td>0.0059951</td>\n",
       "<td>0.0023622</td></tr>\n",
       "<tr><td>missing_referred_by</td>\n",
       "<td>81.7057571</td>\n",
       "<td>0.0056201</td>\n",
       "<td>0.0022144</td></tr>\n",
       "<tr><td>peer_network_avg_char_per_comment_about</td>\n",
       "<td>69.8431091</td>\n",
       "<td>0.0048041</td>\n",
       "<td>0.0018929</td></tr>\n",
       "<tr><td>peer_network_comments_about</td>\n",
       "<td>62.3737526</td>\n",
       "<td>0.0042904</td>\n",
       "<td>0.0016905</td></tr>\n",
       "<tr><td>invited_flag</td>\n",
       "<td>1.7427065</td>\n",
       "<td>0.0001199</td>\n",
       "<td>0.0000472</td></tr></table></div>"
      ],
      "text/plain": [
       "variable                                 relative_importance    scaled_importance       percentage\n",
       "---------------------------------------  ---------------------  ----------------------  ---------------------\n",
       "reserve_fee_pct                          14538.115234375        1.0                     0.39401462260164183\n",
       "peer_repay_ratio                         5030.32080078125       0.3460091435296362      0.13633266210454692\n",
       "peer_network_comments_by                 3667.455322265625      0.25226484060286036     0.09939603596579934\n",
       "parent_repay_ratio                       2901.9892578125        0.19961248146876845     0.07865023655249402\n",
       "peer_network_avg_char_per_comment_by     2130.275390625         0.14653036905279293     0.057735108062015504\n",
       "---                                      ---                    ---                     ---\n",
       "parent_comment_cnt                       87.15757751464844      0.005995108451786555    0.0023621603940865927\n",
       "missing_referred_by                      81.70575714111328      0.005620106583549573    0.0022144041744982875\n",
       "peer_network_avg_char_per_comment_about  69.84310913085938      0.004804137813250863    0.0018929005474143156\n",
       "peer_network_comments_about              62.37375259399414      0.004290360310703344    0.0016904646986468407\n",
       "invited_flag                             1.742706537246704      0.00011987155894363247  4.723114705784581e-05"
      ]
     },
     "metadata": {},
     "output_type": "display_data"
    },
    {
     "name": "stdout",
     "output_type": "stream",
     "text": [
      "\n",
      "See the whole table with table.as_data_frame()\n"
     ]
    },
    {
     "data": {
      "text/plain": [
       "<bound method ModelBase.coef_norm of >"
      ]
     },
     "execution_count": 159,
     "metadata": {},
     "output_type": "execute_result"
    }
   ],
   "source": [
    "best_model = grid_results[0]\n",
    "best_model.coef_norm"
   ]
  },
  {
   "cell_type": "code",
   "execution_count": 161,
   "metadata": {
    "ExecuteTime": {
     "end_time": "2017-02-08T07:42:15.315706",
     "start_time": "2017-02-08T07:42:15.016498"
    },
    "collapsed": false
   },
   "outputs": [
    {
     "name": "stdout",
     "output_type": "stream",
     "text": [
      "gbm prediction progress: |████████████████████████████████████████████████| 100%\n"
     ]
    }
   ],
   "source": [
    "holdout_preds = best_model.predict(test)['p1']\n",
    "holdout_eval = pd.concat([holdout_preds['p1'].as_data_frame(), test['default_flag'].as_data_frame()], axis = 1)"
   ]
  },
  {
   "cell_type": "code",
   "execution_count": 164,
   "metadata": {
    "ExecuteTime": {
     "end_time": "2017-02-08T07:42:43.339087",
     "start_time": "2017-02-08T07:42:43.332825"
    },
    "collapsed": false
   },
   "outputs": [
    {
     "name": "stdout",
     "output_type": "stream",
     "text": [
      "holdout log-loss: 0.547096885488\n"
     ]
    }
   ],
   "source": [
    "print('holdout log-loss:', log_loss(holdout_eval.default_flag.values, holdout_eval.p1.values))"
   ]
  },
  {
   "cell_type": "markdown",
   "metadata": {},
   "source": [
    "#  Part 2 Experimental - Text Features"
   ]
  },
  {
   "cell_type": "markdown",
   "metadata": {},
   "source": [
    "Extract text features from data frame and split into test vs. train set.  TODO:  use the same train/test split as above."
   ]
  },
  {
   "cell_type": "code",
   "execution_count": 184,
   "metadata": {
    "ExecuteTime": {
     "end_time": "2017-02-08T07:57:03.278015",
     "start_time": "2017-02-08T07:57:03.100462"
    },
    "collapsed": false
   },
   "outputs": [
    {
     "name": "stderr",
     "output_type": "stream",
     "text": [
      "/Users/hamel_husain/anaconda3/lib/python3.5/site-packages/ipykernel/__main__.py:2: SettingWithCopyWarning: \n",
      "A value is trying to be set on a copy of a slice from a DataFrame\n",
      "\n",
      "See the caveats in the documentation: http://pandas.pydata.org/pandas-docs/stable/indexing.html#indexing-view-versus-copy\n",
      "  from ipykernel import kernelapp as app\n",
      "/Users/hamel_husain/.local/lib/python3.5/site-packages/pandas/core/generic.py:4702: SettingWithCopyWarning: \n",
      "A value is trying to be set on a copy of a slice from a DataFrame\n",
      "\n",
      "See the caveats in the documentation: http://pandas.pydata.org/pandas-docs/stable/indexing.html#indexing-view-versus-copy\n",
      "  self._update_inplace(new_data)\n",
      "/Users/hamel_husain/.local/lib/python3.5/site-packages/IPython/core/interactiveshell.py:2881: SettingWithCopyWarning: \n",
      "A value is trying to be set on a copy of a slice from a DataFrame\n",
      "\n",
      "See the caveats in the documentation: http://pandas.pydata.org/pandas-docs/stable/indexing.html#indexing-view-versus-copy\n",
      "  exec(code_obj, self.user_global_ns, self.user_ns)\n"
     ]
    },
    {
     "name": "stdout",
     "output_type": "stream",
     "text": [
      "size of train (24912, 4)\n",
      "size of test (6228, 4)\n"
     ]
    }
   ],
   "source": [
    "df_text = df[text_fields + ['default_flag']]\n",
    "df_text.proposal_field[df.proposal_field.isnull()] = ''\n",
    "df_text_train, df_text_test = tts(df_text, test_size = .2)\n",
    "print('size of train', df_text_train.shape)\n",
    "print('size of test', df_text_test.shape)"
   ]
  },
  {
   "cell_type": "markdown",
   "metadata": {},
   "source": [
    "## Try two basic text vectorizers \n",
    "- Count Vectorizer (Bag of Words with frequency count)\n",
    "- TFIDF"
   ]
  },
  {
   "cell_type": "code",
   "execution_count": 185,
   "metadata": {
    "ExecuteTime": {
     "end_time": "2017-02-08T07:57:38.108790",
     "start_time": "2017-02-08T07:57:06.046359"
    },
    "collapsed": false
   },
   "outputs": [],
   "source": [
    "cvec_dat = cvec.fit_transform(df_text_train.proposal_field)\n",
    "tfidf_data = tfidf.fit_transform(df_text_train.proposal_field)"
   ]
  },
  {
   "cell_type": "code",
   "execution_count": 186,
   "metadata": {
    "ExecuteTime": {
     "end_time": "2017-02-08T07:59:41.982561",
     "start_time": "2017-02-08T07:58:49.702011"
    },
    "collapsed": false
   },
   "outputs": [
    {
     "data": {
      "text/plain": [
       "ElasticNetCV(alphas=None, copy_X=True, cv=5, eps=0.001, fit_intercept=True,\n",
       "       l1_ratio=[0.001, 0.01, 0.1, 0.5], max_iter=1000, n_alphas=100,\n",
       "       n_jobs=1, normalize=True, positive=False, precompute='auto',\n",
       "       random_state=None, selection='cyclic', tol=0.0001, verbose=0)"
      ]
     },
     "execution_count": 186,
     "metadata": {},
     "output_type": "execute_result"
    }
   ],
   "source": [
    "enet.fit(cvec_dat, df_text_train.default_flag)\n",
    "cvec_preds = enet.predict(cvec.transform(df_text_test.proposal_field))"
   ]
  },
  {
   "cell_type": "code",
   "execution_count": 189,
   "metadata": {
    "ExecuteTime": {
     "end_time": "2017-02-08T08:01:05.060949",
     "start_time": "2017-02-08T08:01:05.052980"
    },
    "collapsed": false
   },
   "outputs": [
    {
     "name": "stdout",
     "output_type": "stream",
     "text": [
      "log loss on holdout set (count vectorizer): 0.679630228373\n"
     ]
    }
   ],
   "source": [
    "print('log loss on holdout set (count vectorizer):', log_loss(df_text_test.default_flag, cvec_preds))"
   ]
  },
  {
   "cell_type": "code",
   "execution_count": 190,
   "metadata": {
    "ExecuteTime": {
     "end_time": "2017-02-08T08:03:06.651056",
     "start_time": "2017-02-08T08:02:22.154749"
    },
    "collapsed": true
   },
   "outputs": [],
   "source": [
    "enet.fit(tfidf_data, df_text_train.default_flag)\n",
    "tfidf_preds = enet.predict(tfidf.transform(df_text_test.proposal_field))"
   ]
  },
  {
   "cell_type": "code",
   "execution_count": 192,
   "metadata": {
    "ExecuteTime": {
     "end_time": "2017-02-08T08:03:20.382271",
     "start_time": "2017-02-08T08:03:20.375925"
    },
    "collapsed": false
   },
   "outputs": [
    {
     "name": "stdout",
     "output_type": "stream",
     "text": [
      "log loss on holdout set (TFIDF vectorizer): 0.677721258792\n"
     ]
    }
   ],
   "source": [
    "print('log loss on holdout set (TFIDF vectorizer):', log_loss(df_text_test.default_flag, tfidf_preds))"
   ]
  },
  {
   "cell_type": "markdown",
   "metadata": {},
   "source": [
    "## Scratch Work"
   ]
  },
  {
   "cell_type": "code",
   "execution_count": 178,
   "metadata": {
    "ExecuteTime": {
     "end_time": "2017-02-08T07:49:08.924867",
     "start_time": "2017-02-08T07:49:08.899704"
    },
    "collapsed": false
   },
   "outputs": [],
   "source": [
    ">>> from sklearn import datasets, linear_model\n",
    ">>> from sklearn.cross_validation import cross_val_predict\n",
    ">>> diabetes = datasets.load_diabetes()\n",
    ">>> X = diabetes.data[:150]\n",
    ">>> y = diabetes.target[:150]\n",
    ">>> lasso = linear_model.Lasso()\n",
    ">>> y_pred = cross_val_predict(lasso, X, y)"
   ]
  },
  {
   "cell_type": "code",
   "execution_count": 182,
   "metadata": {
    "ExecuteTime": {
     "end_time": "2017-02-08T07:49:34.185267",
     "start_time": "2017-02-08T07:49:34.177832"
    },
    "collapsed": false,
    "scrolled": true
   },
   "outputs": [
    {
     "data": {
      "text/plain": [
       "array([ 174.26933996,  117.6539241 ,  164.60228641,  155.65049088,\n",
       "        132.68647979,  128.49511245,  120.76146877,  141.069413  ,\n",
       "        164.18904498,  182.37394949,  111.04181265,  127.94311443,\n",
       "        135.0869234 ,  162.83066014,  135.3573514 ,  157.64516523,\n",
       "        178.95843326,  163.3919841 ,  143.85237903,  144.29748882,\n",
       "        133.58117218,  124.77928571,  132.90918003,  208.52927   ,\n",
       "        153.61908967,  154.16616341,  118.95351821,  163.50467541,\n",
       "        145.89406196,  168.3308101 ,  155.87411031,  123.45960148,\n",
       "        185.70459144,  133.38468582,  117.2789469 ,  150.27895019,\n",
       "        174.1541028 ,  160.03235091,  192.31389633,  161.58568256,\n",
       "        154.2224809 ,  119.35517679,  146.15706413,  133.82056934,\n",
       "        179.68118754,  137.96619936,  146.07788398,  126.77579723,\n",
       "        123.32101099,  166.26710247,  146.41559964,  161.67261029,\n",
       "        147.47731459,  138.44595305,  144.85421048,  113.77990664,\n",
       "        185.54970402,  115.31624749,  142.23672103,  171.07792136,\n",
       "        132.5394716 ,  177.80524864,  116.5616502 ,  134.25230846,\n",
       "        142.88707475,  173.2830912 ,  154.31273504,  149.16680759,\n",
       "        144.88238997,  121.97783103,  110.38457621,  180.25559631,\n",
       "        199.06141058,  151.1195546 ,  161.14217698,  153.96960812,\n",
       "        150.77179755,  113.30903579,  165.15755771,  115.85735727,\n",
       "        174.19267171,  150.12027233,  115.47891783,  153.38967232,\n",
       "        115.31573467,  156.49909623,   92.62211515,  178.15649994,\n",
       "        131.59320715,  134.46166754,  116.97678633,  190.00790119,\n",
       "        166.01173292,  126.25944471,  134.29256991,  144.71971963,\n",
       "        190.9769591 ,  182.39199466,  154.45325308,  148.30325558,\n",
       "        151.72036937,  124.12825466,  138.6011155 ,  137.75891286,\n",
       "        123.0917243 ,  131.74735403,  112.07367481,  124.56956904,\n",
       "        156.78432061,  128.63135591,   93.68260079,  130.54324394,\n",
       "        131.8693231 ,  154.5708257 ,  179.81343019,  165.78130755,\n",
       "        150.04779033,  162.37974736,  143.92996797,  143.15645843,\n",
       "        125.20161377,  145.99590279,  155.3505536 ,  145.97574185,\n",
       "        134.66120515,  163.92450638,  101.92329396,  139.33014324,\n",
       "        122.71377023,  152.20573113,  153.36931089,  116.76545147,\n",
       "        131.96936127,  109.74817383,  132.57453994,  159.38030328,\n",
       "        109.31343881,  147.69926269,  156.3664255 ,  161.12509958,\n",
       "        128.16523686,  156.78446286,  154.04375702,  124.83705022,\n",
       "        143.85606595,  143.23651701,  147.76316913,  154.21572891,\n",
       "        129.07895017,  157.79644923])"
      ]
     },
     "execution_count": 182,
     "metadata": {},
     "output_type": "execute_result"
    }
   ],
   "source": [
    "y_pred"
   ]
  },
  {
   "cell_type": "code",
   "execution_count": 193,
   "metadata": {
    "ExecuteTime": {
     "end_time": "2017-02-08T08:08:32.734494",
     "start_time": "2017-02-08T08:08:32.598460"
    },
    "collapsed": false
   },
   "outputs": [
    {
     "name": "stdout",
     "output_type": "stream",
     "text": [
      "/Users/hamel_husain/Dropbox/zidisha\r\n"
     ]
    }
   ],
   "source": [
    "!pwd"
   ]
  },
  {
   "cell_type": "code",
   "execution_count": null,
   "metadata": {
    "collapsed": true
   },
   "outputs": [],
   "source": []
  }
 ],
 "metadata": {
  "anaconda-cloud": {},
  "kernelspec": {
   "display_name": "Python [conda root]",
   "language": "python",
   "name": "conda-root-py"
  },
  "language_info": {
   "codemirror_mode": {
    "name": "ipython",
    "version": 3
   },
   "file_extension": ".py",
   "mimetype": "text/x-python",
   "name": "python",
   "nbconvert_exporter": "python",
   "pygments_lexer": "ipython3",
   "version": "3.5.2"
  },
  "nav_menu": {},
  "toc": {
   "navigate_menu": true,
   "number_sections": true,
   "sideBar": true,
   "threshold": 6,
   "toc_cell": false,
   "toc_section_display": "block",
   "toc_window_display": false
  }
 },
 "nbformat": 4,
 "nbformat_minor": 1
}
