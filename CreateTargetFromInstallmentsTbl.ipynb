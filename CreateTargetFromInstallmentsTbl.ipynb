{
 "cells": [
  {
   "cell_type": "code",
   "execution_count": 220,
   "metadata": {
    "collapsed": true
   },
   "outputs": [],
   "source": [
    "import pandas as pd"
   ]
  },
  {
   "cell_type": "code",
   "execution_count": 221,
   "metadata": {
    "collapsed": false
   },
   "outputs": [],
   "source": [
    "ins = pd.read_csv('InstallmentsTable.csv')\n",
    "ins.set_index(['borrower_id', 'loan_id'], inplace=True)"
   ]
  },
  {
   "cell_type": "markdown",
   "metadata": {},
   "source": [
    "## Check Which Loans Have Defaulted  (Miss 2 installments In a row)"
   ]
  },
  {
   "cell_type": "code",
   "execution_count": null,
   "metadata": {
    "collapsed": false
   },
   "outputs": [],
   "source": [
    "#Mask for maximum lag\n",
    "lag_mask = ins.groupby(level=1).shift(1).due_date.isnull()\n",
    "#Mask for defaults (must occur beyond lag window if at beginning of installment series)\n",
    "default_mask = (#ins.groupby(level=1).shift(2).paid_amount.isnull() & \n",
    "                ins.groupby(level=1).shift(1).paid_amount.isnull() & \n",
    "                ins.paid_amount.isnull() & ~lag_mask)"
   ]
  },
  {
   "cell_type": "markdown",
   "metadata": {},
   "source": [
    "## Calculate Default Date"
   ]
  },
  {
   "cell_type": "code",
   "execution_count": null,
   "metadata": {
    "collapsed": false
   },
   "outputs": [],
   "source": [
    "defaults = ins[default_mask].groupby(level = ['borrower_id', 'loan_id']).agg({'due_date':'min'})\n",
    "defaults.columns = ['default_date']"
   ]
  },
  {
   "cell_type": "code",
   "execution_count": null,
   "metadata": {
    "collapsed": false
   },
   "outputs": [],
   "source": [
    "targets = (ins.\n",
    "join(defaults[['default_date']]).\n",
    "groupby(level = ['borrower_id', 'loan_id']).\n",
    "agg({'default_date':{'default_date': 'min', 'default_flag':lambda x: max(~x.isnull())}}))\n",
    "\n",
    "targets.columns = targets.columns.droplevel()\n",
    "\n",
    "targets.head(10)"
   ]
  },
  {
   "cell_type": "code",
   "execution_count": null,
   "metadata": {
    "collapsed": true
   },
   "outputs": [],
   "source": [
    "targets.to_csv('defaults.csv')"
   ]
  },
  {
   "cell_type": "code",
   "execution_count": 219,
   "metadata": {
    "collapsed": false,
    "scrolled": false
   },
   "outputs": [],
   "source": [
    "#check calculation\n",
    "#ins[ins.index.get_level_values('borrower_id') == 131][['due_date', 'paid_amount']]"
   ]
  }
 ],
 "metadata": {
  "kernelspec": {
   "display_name": "Python 3",
   "language": "python",
   "name": "python3"
  },
  "language_info": {
   "codemirror_mode": {
    "name": "ipython",
    "version": 3
   },
   "file_extension": ".py",
   "mimetype": "text/x-python",
   "name": "python",
   "nbconvert_exporter": "python",
   "pygments_lexer": "ipython3",
   "version": "3.5.1"
  }
 },
 "nbformat": 4,
 "nbformat_minor": 0
}
