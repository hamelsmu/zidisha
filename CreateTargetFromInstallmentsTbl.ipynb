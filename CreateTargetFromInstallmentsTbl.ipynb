{
 "cells": [
  {
   "cell_type": "code",
   "execution_count": 1,
   "metadata": {
    "collapsed": true
   },
   "outputs": [],
   "source": [
    "import pandas as pd"
   ]
  },
  {
   "cell_type": "code",
   "execution_count": 2,
   "metadata": {
    "collapsed": false
   },
   "outputs": [],
   "source": [
    "ins = pd.read_csv('InstallmentsTable.csv')\n",
    "ins.set_index(['borrower_id', 'loan_id'], inplace=True)"
   ]
  },
  {
   "cell_type": "markdown",
   "metadata": {},
   "source": [
    "## Check Which Loans Have Defaulted  (Miss 2 installments In a row)"
   ]
  },
  {
   "cell_type": "code",
   "execution_count": 3,
   "metadata": {
    "collapsed": false
   },
   "outputs": [],
   "source": [
    "#Mask for maximum lag\n",
    "lag_mask = ins.groupby(level=1).shift(1).due_date.isnull()\n",
    "#Mask for defaults (must occur beyond lag window if at beginning of installment series)\n",
    "default_mask = (#ins.groupby(level=1).shift(2).paid_amount.isnull() & \n",
    "                ins.groupby(level=1).shift(1).paid_amount.isnull() & \n",
    "                ins.paid_amount.isnull() & ~lag_mask)"
   ]
  },
  {
   "cell_type": "markdown",
   "metadata": {},
   "source": [
    "## Calculate Default Date"
   ]
  },
  {
   "cell_type": "code",
   "execution_count": 4,
   "metadata": {
    "collapsed": false
   },
   "outputs": [],
   "source": [
    "defaults = ins[default_mask].groupby(level = ['borrower_id', 'loan_id']).agg({'due_date':'min'})\n",
    "defaults.columns = ['default_date']"
   ]
  },
  {
   "cell_type": "code",
   "execution_count": 5,
   "metadata": {
    "collapsed": false
   },
   "outputs": [
    {
     "data": {
      "text/html": [
       "<div>\n",
       "<table border=\"1\" class=\"dataframe\">\n",
       "  <thead>\n",
       "    <tr style=\"text-align: right;\">\n",
       "      <th></th>\n",
       "      <th></th>\n",
       "      <th>default_flag</th>\n",
       "      <th>default_date</th>\n",
       "    </tr>\n",
       "    <tr>\n",
       "      <th>borrower_id</th>\n",
       "      <th>loan_id</th>\n",
       "      <th></th>\n",
       "      <th></th>\n",
       "    </tr>\n",
       "  </thead>\n",
       "  <tbody>\n",
       "    <tr>\n",
       "      <th rowspan=\"2\" valign=\"top\">129</th>\n",
       "      <th>1</th>\n",
       "      <td>False</td>\n",
       "      <td>NaN</td>\n",
       "    </tr>\n",
       "    <tr>\n",
       "      <th>58</th>\n",
       "      <td>True</td>\n",
       "      <td>2012-07-04 10:38:55</td>\n",
       "    </tr>\n",
       "    <tr>\n",
       "      <th rowspan=\"2\" valign=\"top\">130</th>\n",
       "      <th>2</th>\n",
       "      <td>False</td>\n",
       "      <td>NaN</td>\n",
       "    </tr>\n",
       "    <tr>\n",
       "      <th>59</th>\n",
       "      <td>True</td>\n",
       "      <td>2011-02-22 07:57:19</td>\n",
       "    </tr>\n",
       "    <tr>\n",
       "      <th rowspan=\"2\" valign=\"top\">131</th>\n",
       "      <th>3</th>\n",
       "      <td>False</td>\n",
       "      <td>NaN</td>\n",
       "    </tr>\n",
       "    <tr>\n",
       "      <th>60</th>\n",
       "      <td>True</td>\n",
       "      <td>2011-02-22 07:58:00</td>\n",
       "    </tr>\n",
       "    <tr>\n",
       "      <th rowspan=\"4\" valign=\"top\">146</th>\n",
       "      <th>4</th>\n",
       "      <td>False</td>\n",
       "      <td>NaN</td>\n",
       "    </tr>\n",
       "    <tr>\n",
       "      <th>69</th>\n",
       "      <td>False</td>\n",
       "      <td>NaN</td>\n",
       "    </tr>\n",
       "    <tr>\n",
       "      <th>408</th>\n",
       "      <td>False</td>\n",
       "      <td>NaN</td>\n",
       "    </tr>\n",
       "    <tr>\n",
       "      <th>4393</th>\n",
       "      <td>False</td>\n",
       "      <td>NaN</td>\n",
       "    </tr>\n",
       "  </tbody>\n",
       "</table>\n",
       "</div>"
      ],
      "text/plain": [
       "                    default_flag         default_date\n",
       "borrower_id loan_id                                  \n",
       "129         1              False                  NaN\n",
       "            58              True  2012-07-04 10:38:55\n",
       "130         2              False                  NaN\n",
       "            59              True  2011-02-22 07:57:19\n",
       "131         3              False                  NaN\n",
       "            60              True  2011-02-22 07:58:00\n",
       "146         4              False                  NaN\n",
       "            69             False                  NaN\n",
       "            408            False                  NaN\n",
       "            4393           False                  NaN"
      ]
     },
     "execution_count": 5,
     "metadata": {},
     "output_type": "execute_result"
    }
   ],
   "source": [
    "targets = (ins.\n",
    "join(defaults[['default_date']]).\n",
    "groupby(level = ['borrower_id', 'loan_id']).\n",
    "agg({'default_date':{'default_date': 'min', 'default_flag':lambda x: max(~x.isnull())}}))\n",
    "\n",
    "targets.columns = targets.columns.droplevel()\n",
    "\n",
    "targets.head(10)"
   ]
  },
  {
   "cell_type": "code",
   "execution_count": 6,
   "metadata": {
    "collapsed": true
   },
   "outputs": [],
   "source": [
    "targets.to_csv('defaults.csv')"
   ]
  },
  {
   "cell_type": "code",
   "execution_count": 8,
   "metadata": {
    "collapsed": false,
    "scrolled": false
   },
   "outputs": [],
   "source": [
    "#check calculation\n",
    "#ins[ins.index.get_level_values('borrower_id') == 131][['due_date', 'paid_amount']]"
   ]
  }
 ],
 "metadata": {
  "kernelspec": {
   "display_name": "Python 3",
   "language": "python",
   "name": "python3"
  },
  "language_info": {
   "codemirror_mode": {
    "name": "ipython",
    "version": 3
   },
   "file_extension": ".py",
   "mimetype": "text/x-python",
   "name": "python",
   "nbconvert_exporter": "python",
   "pygments_lexer": "ipython3",
   "version": "3.5.1"
  }
 },
 "nbformat": 4,
 "nbformat_minor": 0
}
