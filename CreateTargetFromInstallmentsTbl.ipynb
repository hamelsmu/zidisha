{
 "cells": [
  {
   "cell_type": "code",
   "execution_count": 66,
   "metadata": {
    "collapsed": true
   },
   "outputs": [],
   "source": [
    "import pandas as pd\n",
    "import numpy as np"
   ]
  },
  {
   "cell_type": "code",
   "execution_count": 36,
   "metadata": {
    "collapsed": false
   },
   "outputs": [],
   "source": [
    "ins = pd.read_csv('InstallmentsTable.csv')\n",
    "ins.set_index(['borrower_id', 'loan_id'], inplace=True)"
   ]
  },
  {
   "cell_type": "markdown",
   "metadata": {},
   "source": [
    "## Check Which Loans Have Defaulted  (Miss n installments In a row)"
   ]
  },
  {
   "cell_type": "code",
   "execution_count": 37,
   "metadata": {
    "collapsed": false
   },
   "outputs": [],
   "source": [
    "#n = number of installments in a row that you must miss in a row before a default\n",
    "#WARNING, this should probably be different depending on your installment period\n",
    "n = 9\n",
    "#Mask for maximum lag\n",
    "lag_mask = ins.groupby(level=1).shift(n).due_date.isnull()\n",
    "\n",
    "#Mask for defaults (must occur beyond lag window if at beginning of installment series)\n",
    "default_mask = ins.paid_amount.isnull()\n",
    "for i in range(1, n):\n",
    "    default_mask = default_mask & ins.groupby(level=1).shift(i).paid_amount.isnull()\n",
    "    \n",
    "default_mask = default_mask & ~lag_mask"
   ]
  },
  {
   "cell_type": "markdown",
   "metadata": {},
   "source": [
    "## Calculate Default Date"
   ]
  },
  {
   "cell_type": "code",
   "execution_count": 69,
   "metadata": {
    "collapsed": false
   },
   "outputs": [],
   "source": [
    "ins['due_date_previous'] = ins.groupby(level=1).shift(1)['due_date']\n",
    "ins.due_date = pd.to_datetime(ins.due_date)\n",
    "ins.due_date_previous = pd.to_datetime(ins.due_date_previous)\n",
    "ins['installment_interval'] = (ins.due_date.dt.date - ins.due_date_previous.dt.date).dt.days"
   ]
  },
  {
   "cell_type": "code",
   "execution_count": 70,
   "metadata": {
    "collapsed": false
   },
   "outputs": [],
   "source": [
    "defaults = ins[default_mask].groupby(level = ['borrower_id', 'loan_id']).agg({'due_date':'min'})\n",
    "defaults.columns = ['default_date']"
   ]
  },
  {
   "cell_type": "code",
   "execution_count": 71,
   "metadata": {
    "collapsed": false
   },
   "outputs": [
    {
     "data": {
      "text/html": [
       "<div>\n",
       "<table border=\"1\" class=\"dataframe\">\n",
       "  <thead>\n",
       "    <tr style=\"text-align: right;\">\n",
       "      <th></th>\n",
       "      <th></th>\n",
       "      <th>default_date</th>\n",
       "      <th>default_flag</th>\n",
       "      <th>installment_peroid_min</th>\n",
       "      <th>installment_peroid_median</th>\n",
       "      <th>installment_peroid_max</th>\n",
       "    </tr>\n",
       "    <tr>\n",
       "      <th>borrower_id</th>\n",
       "      <th>loan_id</th>\n",
       "      <th></th>\n",
       "      <th></th>\n",
       "      <th></th>\n",
       "      <th></th>\n",
       "      <th></th>\n",
       "    </tr>\n",
       "  </thead>\n",
       "  <tbody>\n",
       "    <tr>\n",
       "      <th rowspan=\"2\" valign=\"top\">129</th>\n",
       "      <th>1</th>\n",
       "      <td>NaT</td>\n",
       "      <td>False</td>\n",
       "      <td>28.0</td>\n",
       "      <td>31.0</td>\n",
       "      <td>31.0</td>\n",
       "    </tr>\n",
       "    <tr>\n",
       "      <th>58</th>\n",
       "      <td>2013-02-04 10:38:55</td>\n",
       "      <td>True</td>\n",
       "      <td>28.0</td>\n",
       "      <td>31.0</td>\n",
       "      <td>273.0</td>\n",
       "    </tr>\n",
       "    <tr>\n",
       "      <th rowspan=\"2\" valign=\"top\">130</th>\n",
       "      <th>2</th>\n",
       "      <td>NaT</td>\n",
       "      <td>False</td>\n",
       "      <td>28.0</td>\n",
       "      <td>31.0</td>\n",
       "      <td>31.0</td>\n",
       "    </tr>\n",
       "    <tr>\n",
       "      <th>59</th>\n",
       "      <td>2011-10-22 07:57:19</td>\n",
       "      <td>True</td>\n",
       "      <td>28.0</td>\n",
       "      <td>31.0</td>\n",
       "      <td>31.0</td>\n",
       "    </tr>\n",
       "    <tr>\n",
       "      <th rowspan=\"2\" valign=\"top\">131</th>\n",
       "      <th>3</th>\n",
       "      <td>NaT</td>\n",
       "      <td>False</td>\n",
       "      <td>28.0</td>\n",
       "      <td>31.0</td>\n",
       "      <td>31.0</td>\n",
       "    </tr>\n",
       "    <tr>\n",
       "      <th>60</th>\n",
       "      <td>2011-10-22 07:58:00</td>\n",
       "      <td>True</td>\n",
       "      <td>28.0</td>\n",
       "      <td>31.0</td>\n",
       "      <td>31.0</td>\n",
       "    </tr>\n",
       "    <tr>\n",
       "      <th rowspan=\"4\" valign=\"top\">146</th>\n",
       "      <th>4</th>\n",
       "      <td>NaT</td>\n",
       "      <td>False</td>\n",
       "      <td>30.0</td>\n",
       "      <td>31.0</td>\n",
       "      <td>31.0</td>\n",
       "    </tr>\n",
       "    <tr>\n",
       "      <th>69</th>\n",
       "      <td>NaT</td>\n",
       "      <td>False</td>\n",
       "      <td>28.0</td>\n",
       "      <td>31.0</td>\n",
       "      <td>122.0</td>\n",
       "    </tr>\n",
       "    <tr>\n",
       "      <th>408</th>\n",
       "      <td>NaT</td>\n",
       "      <td>False</td>\n",
       "      <td>28.0</td>\n",
       "      <td>31.0</td>\n",
       "      <td>91.0</td>\n",
       "    </tr>\n",
       "    <tr>\n",
       "      <th>4393</th>\n",
       "      <td>NaT</td>\n",
       "      <td>False</td>\n",
       "      <td>28.0</td>\n",
       "      <td>31.0</td>\n",
       "      <td>32.0</td>\n",
       "    </tr>\n",
       "  </tbody>\n",
       "</table>\n",
       "</div>"
      ],
      "text/plain": [
       "                           default_date default_flag  installment_peroid_min  \\\n",
       "borrower_id loan_id                                                            \n",
       "129         1                       NaT        False                    28.0   \n",
       "            58      2013-02-04 10:38:55         True                    28.0   \n",
       "130         2                       NaT        False                    28.0   \n",
       "            59      2011-10-22 07:57:19         True                    28.0   \n",
       "131         3                       NaT        False                    28.0   \n",
       "            60      2011-10-22 07:58:00         True                    28.0   \n",
       "146         4                       NaT        False                    30.0   \n",
       "            69                      NaT        False                    28.0   \n",
       "            408                     NaT        False                    28.0   \n",
       "            4393                    NaT        False                    28.0   \n",
       "\n",
       "                     installment_peroid_median  installment_peroid_max  \n",
       "borrower_id loan_id                                                     \n",
       "129         1                             31.0                    31.0  \n",
       "            58                            31.0                   273.0  \n",
       "130         2                             31.0                    31.0  \n",
       "            59                            31.0                    31.0  \n",
       "131         3                             31.0                    31.0  \n",
       "            60                            31.0                    31.0  \n",
       "146         4                             31.0                    31.0  \n",
       "            69                            31.0                   122.0  \n",
       "            408                           31.0                    91.0  \n",
       "            4393                          31.0                    32.0  "
      ]
     },
     "execution_count": 71,
     "metadata": {},
     "output_type": "execute_result"
    }
   ],
   "source": [
    "targets = (ins.\n",
    "join(defaults[['default_date']]).\n",
    "groupby(level = ['borrower_id', 'loan_id']).\n",
    "agg({'default_date':{'default_date': 'min', 'default_flag':lambda x: max(~x.isnull())}, \n",
    "    'installment_interval':{'installment_peroid_min':'min', 'installment_peroid_max':'max', 'installment_peroid_median':'median'}}))\n",
    "\n",
    "targets.columns = targets.columns.droplevel()\n",
    "\n",
    "targets.head(10)"
   ]
  },
  {
   "cell_type": "code",
   "execution_count": 72,
   "metadata": {
    "collapsed": true
   },
   "outputs": [],
   "source": [
    "targets.to_csv('defaults.csv')"
   ]
  },
  {
   "cell_type": "code",
   "execution_count": 74,
   "metadata": {
    "collapsed": false,
    "scrolled": false
   },
   "outputs": [],
   "source": [
    "#check calculation\n",
    "#ins[ins.index.get_level_values('borrower_id') == 129][['due_date', 'paid_amount']]"
   ]
  },
  {
   "cell_type": "markdown",
   "metadata": {},
   "source": [
    "## Check lags between installments"
   ]
  },
  {
   "cell_type": "code",
   "execution_count": 69,
   "metadata": {
    "collapsed": false
   },
   "outputs": [],
   "source": [
    "check = ins.copy() \n",
    "check['due_dater'] = ins.groupby(level=1).shift(1)['due_date']\n",
    "check.due_date = pd.to_datetime(check.due_date)\n",
    "check.due_dater = pd.to_datetime(check.due_dater)"
   ]
  },
  {
   "cell_type": "code",
   "execution_count": 70,
   "metadata": {
    "collapsed": false
   },
   "outputs": [
    {
     "data": {
      "text/plain": [
       "7 days      1597585\n",
       "31 days       41474\n",
       "30 days       29340\n",
       "28 days        4620\n",
       "29 days        3854\n",
       "14 days        3486\n",
       "21 days        1860\n",
       "42 days        1092\n",
       "8 days         1089\n",
       "6 days          874\n",
       "35 days         826\n",
       "32 days         711\n",
       "49 days         595\n",
       "56 days         398\n",
       "61 days         346\n",
       "63 days         256\n",
       "0 days          245\n",
       "91 days         165\n",
       "70 days         163\n",
       "92 days         157\n",
       "77 days         136\n",
       "84 days          98\n",
       "62 days          88\n",
       "60 days          85\n",
       "122 days         74\n",
       "98 days          58\n",
       "105 days         43\n",
       "59 days          43\n",
       "90 days          40\n",
       "121 days         36\n",
       "             ...   \n",
       "287 days          1\n",
       "668 days          1\n",
       "127 days          1\n",
       "196 days          1\n",
       "334 days          1\n",
       "97 days           1\n",
       "343 days          1\n",
       "427 days          1\n",
       "216 days          1\n",
       "5 days            1\n",
       "915 days          1\n",
       "609 days          1\n",
       "406 days          1\n",
       "462 days          1\n",
       "64 days           1\n",
       "197 days          1\n",
       "244 days          1\n",
       "329 days          1\n",
       "202 days          1\n",
       "448 days          1\n",
       "428 days          1\n",
       "396 days          1\n",
       "730 days          1\n",
       "85 days           1\n",
       "237 days          1\n",
       "483 days          1\n",
       "124 days          1\n",
       "9 days            1\n",
       "595 days          1\n",
       "486 days          1\n",
       "dtype: int64"
      ]
     },
     "execution_count": 70,
     "metadata": {},
     "output_type": "execute_result"
    }
   ],
   "source": [
    "(check[~lag_mask].due_date.dt.date - check[~lag_mask].due_dater.dt.date).value_counts()"
   ]
  },
  {
   "cell_type": "code",
   "execution_count": null,
   "metadata": {
    "collapsed": false
   },
   "outputs": [],
   "source": []
  },
  {
   "cell_type": "code",
   "execution_count": null,
   "metadata": {
    "collapsed": true
   },
   "outputs": [],
   "source": []
  }
 ],
 "metadata": {
  "kernelspec": {
   "display_name": "Python 2",
   "language": "python",
   "name": "python2"
  },
  "language_info": {
   "codemirror_mode": {
    "name": "ipython",
    "version": 2
   },
   "file_extension": ".py",
   "mimetype": "text/x-python",
   "name": "python",
   "nbconvert_exporter": "python",
   "pygments_lexer": "ipython2",
   "version": "2.7.11"
  }
 },
 "nbformat": 4,
 "nbformat_minor": 0
}
